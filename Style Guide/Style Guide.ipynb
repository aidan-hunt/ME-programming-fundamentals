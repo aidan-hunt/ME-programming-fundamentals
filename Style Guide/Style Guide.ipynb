{
 "cells": [
  {
   "cell_type": "markdown",
   "id": "94745719",
   "metadata": {},
   "source": [
    "# Style Guide\n",
    "ME 498 - Programming Fundamentals for Mechancial Engineers\n",
    "Spring 2023\n",
    "\n",
    "3/30/2023: Initial Release\n",
    "\n",
    "4/11/2023: Updated docstring section with additional clarifications\n",
    "\n",
    "***\n",
    "\n",
    "This guide outlines style requirements and recommendations for writing well-structured, readable code for this class.\n",
    "This guide is a \"living document\" and will be updated as needed based on course content, assignments, and student questions.\n",
    "It is recommended that you revisit the style guide before starting on each homework assignment."
   ]
  },
  {
   "cell_type": "markdown",
   "id": "68059ef0",
   "metadata": {},
   "source": [
    "***\n",
    "# Style Requirements (used for grading)"
   ]
  },
  {
   "cell_type": "markdown",
   "id": "7a97e9ca",
   "metadata": {},
   "source": [
    "## Variable and Function Names\n",
    "\n",
    "Variable and function names should be descriptive:\n",
    "- DO use names that describe what the variables or functions represent\n",
    "    - Avoid generic names like `var1` or `fun2`\n",
    "- DON'T use single-character variable names, unless:\n",
    "    - you are following a mathematical/engineering convention (e.g., `g` for gravity, `x` and `y` for x and y coordinates)\n",
    "    - you are following a programming convention (e.g., `i` for index, or as the iteration variable in a for-loop)\n",
    "    \n"
   ]
  },
  {
   "cell_type": "markdown",
   "id": "08b03226",
   "metadata": {},
   "source": [
    "## Functions\n",
    "Technically, you could write an entire program without using any functions. However, this would be an incredibly bad idea. Your full program could end up being thousands of lines long, and/or difficult to debug. It's generally considered good practice to factor your code into functions. Here are a few reasons why:\n",
    "\n",
    "**Functions Reduce Redundancy**: Often, you will want the exact same or very similar tasks multiple times in your program. Rather than writing the same code multiple times, which would be redundant, you can factor that code into a function that can be called throughout your program to perform that task. We can even use parameters and returns to create functions that are even more modular to further reduce redundancy. If you are tempted to copy/paste code, you should probably be using a function!\n",
    "\n",
    "**Functions Represent Tasks**: Even if code isn't redundant, it can still be a good idea to factor it into a function. Factoring code into functions with distinct tasks also makes it easier to reuse your code. If there's a function where you perform 2 tasks, and then later you want to only perform one of those tasks, you couldn't call your existing function because you don't want to perform both tasks. It would be better to structure each task into its own function to make it more reusable."
   ]
  },
  {
   "cell_type": "markdown",
   "id": "b26d2cfc",
   "metadata": {},
   "source": [
    "A few things to avoid:\n",
    "    \n",
    "**Avoid trivial functions**: Trivial functions do so little that their existence is pointless. Functions with just one print statement or one function call are good examples. One-line functions can be non-trivial if you are factoring a common calculation into a functions, for instance, but with functions with so little code, you should generally consider whether or not the function is improving your program."
   ]
  },
  {
   "cell_type": "code",
   "execution_count": 12,
   "id": "ed845ac1",
   "metadata": {},
   "outputs": [],
   "source": [
    "# Trivial function: no need to create a new function, just use print(num)\n",
    "def printingNumber(num):\n",
    "    print(num)\n",
    "    \n",
    "# Nontrivial function: prints num with some formatting that maybe we will want to reuse.\n",
    "def printRoundedNumber(num):\n",
    "    num = round(num, 2)\n",
    "    print('The provided number rounded to 2 decimal places is', num)"
   ]
  },
  {
   "cell_type": "markdown",
   "id": "5a82f850",
   "metadata": {},
   "source": [
    "**Avoid unnecessary parameters and returns**: Functions only need to return a value if you plan on catching and using that value when you call your function. Similarly, you should only pass in parameters that you need. Parameters that you never use in your function or whose value could be calculated from other parameters are unnecessary. If you pass a parameter into your function but never use the value passed in (i.e. you immediately set its value to something else), you might want to consider whether you need that parameter at all, or if that value could be a local variable."
   ]
  },
  {
   "cell_type": "markdown",
   "id": "8f902e59",
   "metadata": {},
   "source": [
    "**Avoid using global variables to bypass parameters**: In Python, variables defined in the main body of your script are visible everywhere in your script. This includes inside functions, unless a local variable is defined with the same name (see the Lecture 02 - Functions notes for more information). While it is possible to use global variables to send information into functions, you should use parameters instead because they make the flow of information clear throughout your program."
   ]
  },
  {
   "cell_type": "code",
   "execution_count": 4,
   "id": "fc205106",
   "metadata": {},
   "outputs": [
    {
     "data": {
      "text/plain": [
       "100000000.0"
      ]
     },
     "execution_count": 4,
     "metadata": {},
     "output_type": "execute_result"
    }
   ],
   "source": [
    "# Using global variables: works, but bad style\n",
    "def calcReynolds():\n",
    "    Re = U * L / nu\n",
    "    return Re\n",
    "\n",
    "# Define variables outside script with names that match inside of function\n",
    "U = 10\n",
    "L = 10\n",
    "nu = 1e-6\n",
    "\n",
    "# Call function\n",
    "calcReynolds()"
   ]
  },
  {
   "cell_type": "code",
   "execution_count": 5,
   "id": "b6b750d1",
   "metadata": {},
   "outputs": [
    {
     "data": {
      "text/plain": [
       "100000000.0"
      ]
     },
     "execution_count": 5,
     "metadata": {},
     "output_type": "execute_result"
    }
   ],
   "source": [
    "# Using parameters: good style, flow of information is clear.\n",
    "def calcReynolds(U, L, nu):\n",
    "    Re = U * L / nu\n",
    "    return Re\n",
    "\n",
    "# Define variables outside of script (name matching does not matter)\n",
    "velocity = 10\n",
    "length = 10\n",
    "viscosity = 1e-6\n",
    "\n",
    "# Pass those variables into function\n",
    "calcReynolds(velocity, length, viscosity)"
   ]
  },
  {
   "cell_type": "markdown",
   "id": "7300ca95",
   "metadata": {},
   "source": [
    "## Documentation"
   ]
  },
  {
   "cell_type": "markdown",
   "id": "05e3a006",
   "metadata": {},
   "source": [
    "### Program Summary\n",
    "Each code file that you submit should include a summary comment at the beginning with your name and a short description of what the program does. I will be lenient on grading your program summary, so long as you include one and it is concise. Use a multi-line comment to write your program summary."
   ]
  },
  {
   "cell_type": "code",
   "execution_count": 13,
   "id": "fa214fff",
   "metadata": {},
   "outputs": [],
   "source": [
    "'''\n",
    "Aidan Hunt\n",
    "ME 498 K\n",
    "3/28/2023\n",
    "\n",
    "This program processes data from an ATI-Mini45 load cell, and returns the corresponding time series of forces and torques.\n",
    "'''\n",
    "\n",
    "# Import statements\n",
    "import numpy as np\n",
    "\n",
    "# The rest of your program..."
   ]
  },
  {
   "cell_type": "markdown",
   "id": "bc0c230e",
   "metadata": {},
   "source": [
    "### Function comments (docstrings)\n",
    "Every function that you define should include a docstring below the function definition. The docstring should describe the function such that someone who did not write it can figure out how to use it.\n",
    "The docstring should describe the following:\n",
    "- **The behavior of the function**: what it calculates/plots/prints/etc.\n",
    "- **The function parameter(s)**: what each input means, what data type is expected, how it should be formatted etc. If a parameter is optional, state that it is and describe the default value.\n",
    "- **The function return(s)**: explicitly state which values are returned, what these values represent, and what data types they are, how they are formatted, etc.\n",
    "\n",
    "Note that functions can have many different types of output (printing things to the console, creating plots, etc.). Therefore, we should be explicit about what we mean by output. If something is returned, say it is returned. If something is printed, say it is printed.\n",
    "\n",
    "Your docstring should meet the requirements above while matching one of the following formats:"
   ]
  },
  {
   "cell_type": "code",
   "execution_count": 1,
   "id": "28bac4a6",
   "metadata": {},
   "outputs": [],
   "source": [
    "# Option 1: short description: ideal for simple functions and \n",
    "# for functions without too many unique data types\n",
    "def calcReynoldsNumber(U, L, nu):\n",
    "    '''\n",
    "    Given a velocity scale (U), a length scale (L), and a kinematic viscosity\n",
    "    (nu) calculates and returns the Reynolds number. All inputs are assumed\n",
    "    to be numeric and have compatible units (e.g., all SI units).\n",
    "    '''\n",
    "    Re = U * L / nu\n",
    "    \n",
    "    return Re"
   ]
  },
  {
   "cell_type": "code",
   "execution_count": 2,
   "id": "95515085",
   "metadata": {},
   "outputs": [],
   "source": [
    "# Option 2: Description and list of inputs and outputs: ideal for \n",
    "# complicated functions\n",
    "def getExperimentFiles(dataPath, folderFormat, configFormat='HWConfig.mat',\n",
    "                       dataFormat='pointData.mat'):\n",
    "    '''\n",
    "    Returns data and configuration files from turbine experiments that are \n",
    "    located in the given directory and match the given format.\n",
    "    \n",
    "    Inputs:\n",
    "    ----------------\n",
    "    dataPath: string\n",
    "        Absolute path to the root data repository. Data files\n",
    "        will be searched for within this repository.\n",
    "    folderFormat: string\n",
    "        Name format of folders that represent individual experiments.\n",
    "        May include wildcard characters.\n",
    "    configFormat: string, optional\n",
    "        Name format of experiment configuration files. May\n",
    "        contain wildcard characters. (default: 'HWconfig.mat')\n",
    "    dataFormat: string, optional\n",
    "        Name format of experiment data files. May contain\n",
    "        wildcard characters (default: 'pointData.mat')\n",
    "    \n",
    "    Outputs:\n",
    "    --------\n",
    "    dataList: list of strings\n",
    "        A list of the absolute paths of the data files found\n",
    "    configList: list of strings\n",
    "        A list of the absolute paths of the configuration files found.\n",
    "        The order of the configuration files in the list matches the order\n",
    "        of dataList.\n",
    "    folderList: list of strings\n",
    "        A list of folder names corresponding to the data files found.\n",
    "        The order of the folder names in the list matches the order\n",
    "        of dataList.\n",
    "    '''\n",
    "    \n",
    "    # (Code inside function...)"
   ]
  },
  {
   "cell_type": "markdown",
   "id": "ded9df94",
   "metadata": {},
   "source": [
    "One way you can check whether your docstring is sufficiently detailed is to imagine that only the function definition is visible to someone who will use it, and that they cannot see the lines of code inside the function. Based on the function definition alone, what does someone need to know to provide the correct inputs and get the correct outputs?"
   ]
  },
  {
   "cell_type": "code",
   "execution_count": null,
   "id": "a55764fa",
   "metadata": {},
   "outputs": [],
   "source": [
    "# Imagine this is all someone can see. What does this function do?\n",
    "def countLetters(nameIn):\n",
    "    "
   ]
  },
  {
   "cell_type": "markdown",
   "id": "96a958da",
   "metadata": {},
   "source": [
    "However, your docstring **should not** describe implementation details of your function. To someone using your function, it's not necessarily important how you decided to code up a particular calculation or procedure, but rather what goes into the function and what comes out."
   ]
  },
  {
   "cell_type": "code",
   "execution_count": 9,
   "id": "e220fe31",
   "metadata": {},
   "outputs": [],
   "source": [
    "# BAD: Excessive detail in docstring\n",
    "def countLetters(nameIn):\n",
    "    '''\n",
    "    Given an input name, uses the len function to determine the number of letters.\n",
    "    The name and the number of letters are then displayed using the print function.\n",
    "    Then the number of letters is returned to whatever called this function.\n",
    "    '''\n",
    "    \n",
    "    numLetters = len(nameIn)\n",
    "    print('The name', nameIn, 'has', numLetters, 'letters in it!')\n",
    "    return numLetters"
   ]
  },
  {
   "cell_type": "code",
   "execution_count": 10,
   "id": "e344689e",
   "metadata": {},
   "outputs": [],
   "source": [
    "# GOOD: Concise docstring that describes function behavior without implementation details.\n",
    "def countLetters(nameIn):\n",
    "    '''\n",
    "    Given a name (as a string), returns the number of letters that are in\n",
    "    the name. The number of letters in the name is also printed to the console.\n",
    "    '''\n",
    "    \n",
    "    numLetters = len(nameIn)\n",
    "    print('The name', nameIn, 'has', numLetters, 'letters in it!')\n",
    "    return numLetters"
   ]
  },
  {
   "cell_type": "markdown",
   "id": "643a304d",
   "metadata": {},
   "source": [
    "## Spacing and indentation\n",
    "**Note**: I will not be strict on grading your use of whitespace unless your code is notably difficult to read. In general, you should just use your best judgement.\n",
    "\n",
    "### Use whitespace to enhance the readability of your code.\n",
    "In general, use whitespace to separate terms in code statements. "
   ]
  },
  {
   "cell_type": "code",
   "execution_count": null,
   "id": "99a9f4c6",
   "metadata": {},
   "outputs": [],
   "source": [
    "# Less readable (characters are bunched together)\n",
    "z=y+x\n",
    "\n",
    "# More readable\n",
    "z = y + x"
   ]
  },
  {
   "cell_type": "markdown",
   "id": "3f412ad5",
   "metadata": {},
   "source": [
    "However, sometimes lack of whitespace is useful for organizing within individual terms of code statements."
   ]
  },
  {
   "cell_type": "code",
   "execution_count": 1,
   "id": "88672284",
   "metadata": {},
   "outputs": [],
   "source": [
    "# Less readable (extra whitespace makes individual product terms unclear)\n",
    "x = 3 * 4 * 5 + 6 * 7 * 8\n",
    "\n",
    "# More readable (removing whitespace in products makes clear the individual terms)\n",
    "x = 3*4*5 + 6*7*8"
   ]
  },
  {
   "cell_type": "markdown",
   "id": "af7b2a8b",
   "metadata": {},
   "source": [
    "A few other notes:\n",
    "- **Avoid excessive whitespace**. which can make code more difficult to read.\n",
    "- Reserve the use of indentation for functions, for loops, etc.\n",
    "- **Avoid excessively long lines**. A good rule of thumb is that no line of code should be longer than 80 characters (many IDEs feature visual indicators of when a line has exceeded this). Instead, break long lines of code into multiple lines using `\\` or multiple statements. If a function definition is long, you can break it up simply using line breaks since parentheses imply line continuation. You should similarly break long comments up into multiple lines."
   ]
  },
  {
   "cell_type": "code",
   "execution_count": 7,
   "id": "2218e9f4",
   "metadata": {},
   "outputs": [],
   "source": [
    "# Explicitly breaking a line using \\\n",
    "# (If \\ isn't used, you'll get an indentation error)\n",
    "x = 1 + 2 + \\\n",
    "    3 + 4"
   ]
  },
  {
   "cell_type": "code",
   "execution_count": 8,
   "id": "4472ce1d",
   "metadata": {},
   "outputs": [],
   "source": [
    "# If using paranetheses, line continuation is assumed\n",
    "x = (1 + 2 +\n",
    "     3 + 4)"
   ]
  },
  {
   "cell_type": "code",
   "execution_count": null,
   "id": "ec1bcd25",
   "metadata": {},
   "outputs": [],
   "source": [
    "# This lets us break up long function definitions, too\n",
    "def exampleFunction(input1, input2, input3\n",
    "                    input4, input5, input6)"
   ]
  },
  {
   "cell_type": "markdown",
   "id": "52877fd5",
   "metadata": {},
   "source": [
    "## Import statements\n",
    "\n",
    "If your program imports and uses any packages or modules, your import statements should be at the top of your program, below your program summary.\n",
    "\n",
    "If importing the following packages, use the corresponding conventional alias name:\n",
    "- `import numpy as np`\n",
    "- `import pandas as pd`\n",
    "- `import matplotlib.pyplot as plt`"
   ]
  },
  {
   "cell_type": "code",
   "execution_count": 9,
   "id": "52d4d674",
   "metadata": {},
   "outputs": [],
   "source": [
    "'''\n",
    "Aidan Hunt\n",
    "ME 498 K\n",
    "3/28/2023\n",
    "\n",
    "(Program Summary)\n",
    "'''\n",
    "\n",
    "import numpy as np\n",
    "import matplotlib.pyplot as plt"
   ]
  },
  {
   "cell_type": "markdown",
   "id": "d7677ea5",
   "metadata": {},
   "source": [
    "***\n",
    "# General recommendations\n",
    "The below are not used for grading, but are other best practices for writing code that is readable.\n"
   ]
  },
  {
   "cell_type": "markdown",
   "id": "0795cc7c",
   "metadata": {},
   "source": [
    "## Variable and function names\n",
    "- Generally, use lower case names for function names, and reserve uppercase names for the class names. Exceptions to this guideline include single-letter variable names that have symbolic meaning (e.g., `D` for diameter).\n",
    "- Use camelCasing (`thisIsMyVariable`) or underscores (`this_is_my_variable`) for variable names that consist of many words. Personally, I prefer camelCasing, but you will find both used extensively in Python packages.\n",
    "\n",
    "### Comments\n",
    "- Comments aren't only for docstrings! Use comments to describe sections of code or complex calculations.\n",
    "- Remember, comments aren't just for me, they are for you, too!"
   ]
  }
 ],
 "metadata": {
  "kernelspec": {
   "display_name": "Python 3 (ipykernel)",
   "language": "python",
   "name": "python3"
  },
  "language_info": {
   "codemirror_mode": {
    "name": "ipython",
    "version": 3
   },
   "file_extension": ".py",
   "mimetype": "text/x-python",
   "name": "python",
   "nbconvert_exporter": "python",
   "pygments_lexer": "ipython3",
   "version": "3.9.12"
  }
 },
 "nbformat": 4,
 "nbformat_minor": 5
}
