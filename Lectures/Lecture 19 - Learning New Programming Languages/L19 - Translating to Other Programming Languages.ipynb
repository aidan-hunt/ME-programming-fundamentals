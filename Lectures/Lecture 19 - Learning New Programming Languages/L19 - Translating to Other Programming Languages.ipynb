{
 "cells": [
  {
   "cell_type": "markdown",
   "id": "5192cf11",
   "metadata": {},
   "source": [
    "# Learning New Programming Languages\n",
    "Aidan Hunt, University of Washington\n",
    "\n",
    "***\n",
    "\n",
    "## Learning Objectives\n",
    "After this lecture, students will have strategies for extending what they have learned in this course to learning new programming languages.\n",
    "\n",
    "\n",
    "## Check-in\n",
    "- HW6 grades back\n",
    "- Final assignment and revisions due Friday 6/9\n",
    "- If you have questions about revisions, reach out\n",
    "***"
   ]
  },
  {
   "cell_type": "markdown",
   "id": "5f61cab2",
   "metadata": {},
   "source": [
    "## So, you've learned a lot about Python!\n",
    "\n",
    "We've covered a lot of topics this quarter, from Python fundamentals to useful packages to advanced applications. While Python is widely used, there is a good chance you will use a different programming language in your career. A resesarch lab you work for may use MATLAB rather than Python, or a company that hires you would like you to program in their own proprietary language.\n",
    "\n",
    "So how can we extend what we have learned here to other programming languages? Here are some tips for learning a new programming language.\n"
   ]
  },
  {
   "cell_type": "markdown",
   "id": "eee8486d",
   "metadata": {},
   "source": [
    "### Focus on the fundamental concepts\n",
    "\n",
    "Almost all programming languages share several core concepts, most of which we've covered here!\n",
    "- Functions/methods\n",
    "- Basic data types (strings, ints, floats, etc)\n",
    "- Logical statements\n",
    "- Control flow statements (for loops, while loops, if statements)\n",
    "- Object oriented programming\n",
    "- Data structures (arrays, dictionaries, etc)\n",
    "\n",
    "Most of what changes between programming languages are:\n",
    "- The \"language of the computer\": the syntax that is used to write code, what certain characters mean\n",
    "- The \"langugae of the people\": names that we call these concepts (e.g., \"doubles\" in MATLAB vs \"floats\" in Python)\n",
    "\n",
    "When learning a new programming language, spend some time learning "
   ]
  },
  {
   "cell_type": "markdown",
   "id": "2c92785a",
   "metadata": {},
   "source": [
    "### Learn the data structures \n",
    "\n",
    "- Different programming languages specialize in different methods for storing data, and efficiency in working with certain types of data.\n",
    "- When learning a new programming language, consider the data types and data structures you work with in Python, and find equivalent or similar data structures in the language you are trying to learn.\n",
    "- Again, most of what changes are the names we use to refer to things, and the associated syntax."
   ]
  },
  {
   "cell_type": "markdown",
   "id": "f2b3c99c",
   "metadata": {},
   "source": [
    "***\n",
    "### Work forward from a language that you already know\n",
    "\n",
    "- Find a guide that focuses on transitioning from the language you *know* to the language you want to know. For example, there are several MATLAB-to-Python transition guides that I found to be useful in preparing for this course.\n",
    "- Choose a small script you have written in Python, and try to replicate it in the language you are trying to learn. This is very helpful since you know the output that you want, and are just trying to get there!"
   ]
  },
  {
   "cell_type": "markdown",
   "id": "9838ba31",
   "metadata": {},
   "source": [
    "### Learn the ways that you can debug your code\n",
    "\n",
    "When you're picking up a new programming language, you will make more errors than normal, and this is fine. Just be prepared to respond to those errors:\n",
    "- Slow down and work through a line of code at a time.\n",
    "- Write down the questions that you have (e.g., why do square brackets do X rather than Y?)\n",
    "- Find the debugger in the IDE that you are using, and use it often\n",
    "- Use an IDE with a variable viewer, and use it often!"
   ]
  },
  {
   "cell_type": "markdown",
   "id": "4f5d286c",
   "metadata": {},
   "source": [
    "***\n",
    "## Closing Thoughts\n",
    "\n",
    "- Thank you for sticking with the class, I hope learned what you were hoping to learn, and then some.\n",
    "- Please feel free to reach out if you want to talk through a coding project.\n",
    "- Please fill out course evals"
   ]
  }
 ],
 "metadata": {
  "kernelspec": {
   "display_name": "Python 3 (ipykernel)",
   "language": "python",
   "name": "python3"
  },
  "language_info": {
   "codemirror_mode": {
    "name": "ipython",
    "version": 3
   },
   "file_extension": ".py",
   "mimetype": "text/x-python",
   "name": "python",
   "nbconvert_exporter": "python",
   "pygments_lexer": "ipython3",
   "version": "3.9.12"
  }
 },
 "nbformat": 4,
 "nbformat_minor": 5
}
