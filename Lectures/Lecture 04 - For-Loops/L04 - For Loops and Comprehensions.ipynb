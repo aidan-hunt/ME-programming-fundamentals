{
 "cells": [
  {
   "cell_type": "markdown",
   "id": "5192cf11",
   "metadata": {},
   "source": [
    "# For Loops and Comprehensions\n",
    "Aidan Hunt, University of Washington\n",
    "\n",
    "***\n",
    "\n",
    "## Learning Objectives\n",
    "After this lesson, students will be able to\n",
    "\n",
    "- Interpret for loop syntax in Python\n",
    "- Understand differences between for loops that use range(), zip(), and enumerate()\n",
    "- Convert between for loops and list comprehensions\n",
    "\n",
    "## Check-in\n",
    "\n",
    "***"
   ]
  },
  {
   "cell_type": "markdown",
   "id": "9b969e1a",
   "metadata": {},
   "source": [
    "## Outline\n",
    "- Check-in (5 mins)\n",
    "    - Any questions on lists from last time?\n",
    "- Framing (2 mins)\n",
    "- Different kinds of for loops (30 minutes)\n",
    "    - Show students a type of loop and some code, and have them discuss what's going on.\n",
    "    - Also demo the debugger in Spyder\n",
    "        - Nested for loop + debugger\n",
    "        - The enumerate for loop \n",
    "        - The zip for loop\n",
    "        - A list comprehension (segue into next section)\n",
    "- Comprehensions (10 minutes)\n",
    "    - Show how to translate the comprehension from before into a for loop\n",
    "    - Translate nested loop\n",
    "    - Translate other loops\n",
    "- Summarize (2 mins)\n",
    "- Chat about upcoming homework (if time)\n",
    "\n",
    "***"
   ]
  },
  {
   "cell_type": "markdown",
   "id": "a0f8ab95",
   "metadata": {},
   "source": [
    "## Framing\n",
    "\n",
    "Recall from last time:\n",
    "- Data structures allow us to organize related data in a way that holds meaning.\n",
    "- Lists are the simplest data structure.\n",
    "- Use indexing and slicing to get and set values.\n",
    "- We discussed reference semantics and list methods, too.\n",
    "\n",
    "Now: our example function.\n",
    "- We want to perform this operation for each word in our list.\n",
    "- Right now, it counts the total number of elements in the list, rather than the number of letters in each name."
   ]
  },
  {
   "cell_type": "code",
   "execution_count": 27,
   "id": "19e1e276",
   "metadata": {},
   "outputs": [
    {
     "name": "stdout",
     "output_type": "stream",
     "text": [
      "The name ['Ty', 'Saghar', 'Madeline', 'Ben'] has 4 letters in it!\n"
     ]
    }
   ],
   "source": [
    "def countLetters(nameIn):\n",
    "    '''\n",
    "    Given an input name (as a string), prints how many letters are in the name.\n",
    "    '''\n",
    "    numLetters = len(nameIn)\n",
    "    print('The name', nameIn, 'has', numLetters, 'letters in it!')\n",
    "\n",
    "# Define names of people in our class\n",
    "#name1 = 'Ty'\n",
    "#name2 = 'Saghar'\n",
    "#name3 = 'Madeline'\n",
    "#name4 = 'Ben'\n",
    "roster = ['Ty', 'Saghar', 'Madeline', 'Ben']\n",
    "\n",
    "# Call the function for each name\n",
    "#countLetters(name1)\n",
    "#countLetters(name2)\n",
    "#countLetters(name3)\n",
    "#countLetters(name4)\n",
    "countLetters(roster)"
   ]
  },
  {
   "cell_type": "code",
   "execution_count": 28,
   "id": "21ce68a7",
   "metadata": {},
   "outputs": [],
   "source": [
    "# Pseudocode:\n",
    "# countLetters(roster[0])\n",
    "# countLetters(roster[1])\n",
    "# countLetters(roster[2])"
   ]
  },
  {
   "cell_type": "code",
   "execution_count": 29,
   "id": "28e69990",
   "metadata": {
    "scrolled": true
   },
   "outputs": [
    {
     "name": "stdout",
     "output_type": "stream",
     "text": [
      "The name Ty has 2 letters in it!\n",
      "The name Saghar has 6 letters in it!\n",
      "The name Madeline has 8 letters in it!\n",
      "The name Ben has 3 letters in it!\n"
     ]
    }
   ],
   "source": [
    "# Call the function for each name\n",
    "for i in range(len(roster)):\n",
    "    # print(i) # Uncomment this to see the index increment\n",
    "    countLetters(roster[i])"
   ]
  },
  {
   "cell_type": "markdown",
   "id": "636d1fc5",
   "metadata": {},
   "source": [
    "Key points on syntax\n",
    "- Use the `for` keyword to declare the loop\n",
    "- `i` is a variable that changes with each iteration of the loop.\n",
    "- `range(len(roster))` is where `i` comes from.\n",
    "    - `len(roster)` is the length of the list `roster`\n",
    "    - `range(len(roster))` returns a `range` object that generates numbers between 0 and `len(roster)` exclusive"
   ]
  },
  {
   "cell_type": "code",
   "execution_count": 30,
   "id": "f9818be9",
   "metadata": {},
   "outputs": [
    {
     "name": "stdout",
     "output_type": "stream",
     "text": [
      "range(0, 4)\n",
      "0\n",
      "1\n",
      "2\n",
      "3\n"
     ]
    }
   ],
   "source": [
    "# Example of range on its own\n",
    "exRange = range(4)\n",
    "print(exRange)\n",
    "\n",
    "# Get iterator from range\n",
    "it = iter(exRange)\n",
    "\n",
    "# Get values from the iterator\n",
    "print(next(it))\n",
    "print(next(it))\n",
    "print(next(it))\n",
    "print(next(it))"
   ]
  },
  {
   "cell_type": "markdown",
   "id": "79bef6a9",
   "metadata": {},
   "source": [
    "**Question**: But can we make this even simpler?"
   ]
  },
  {
   "cell_type": "code",
   "execution_count": 31,
   "id": "e92c4e4c",
   "metadata": {
    "scrolled": true
   },
   "outputs": [
    {
     "name": "stdout",
     "output_type": "stream",
     "text": [
      "The name Ty has 2 letters in it!\n",
      "The name Saghar has 6 letters in it!\n",
      "The name Madeline has 8 letters in it!\n",
      "The name Ben has 3 letters in it!\n"
     ]
    }
   ],
   "source": [
    "# Call the function for each name\n",
    "for name in roster:\n",
    "    countLetters(name)\n",
    "    "
   ]
  },
  {
   "cell_type": "markdown",
   "id": "73248355",
   "metadata": {},
   "source": [
    "In this case, we are skipping the index entirely and getting to what we want: the names within the list!\n",
    "- `name` is the variable whose value changes in each iteration of the loop.\n",
    "- `roster` is where each `name` comes from\n",
    "\n",
    "This is pretty awesome, and reads very nicely! This is useful if we don't need the index."
   ]
  },
  {
   "cell_type": "markdown",
   "id": "1ee4d68e",
   "metadata": {},
   "source": [
    "**Any questions?**"
   ]
  },
  {
   "cell_type": "markdown",
   "id": "5f61cab2",
   "metadata": {},
   "source": [
    "## Practice Interpreting For Loops\n",
    "\n",
    "In Python you'll often see for loops that look a little different, depending on what they are doing.\n",
    "\n",
    "Discuss with those around you what each of these for loops is doing:"
   ]
  },
  {
   "cell_type": "code",
   "execution_count": 32,
   "id": "ae6a5c68",
   "metadata": {},
   "outputs": [
    {
     "name": "stdout",
     "output_type": "stream",
     "text": [
      "[[0, 1, 2, 3, 4], [0, 2, 4, 6, 8], [0, 3, 6, 9, 12], [0, 4, 8, 12, 16]]\n"
     ]
    }
   ],
   "source": [
    "# Example 1: nested loop\n",
    "numList = [1, 2, 3, 4]\n",
    "list1 = []\n",
    "for num in numList:\n",
    "    list2 = []\n",
    "    for i in range(5):\n",
    "        list2.append(num * i)\n",
    "    \n",
    "    list1.append(list2)\n",
    "\n",
    "print(list1)\n"
   ]
  },
  {
   "cell_type": "markdown",
   "id": "a653ea67",
   "metadata": {},
   "source": [
    "During each iteration of a for loop, all statements inside the loop are executed. So, if there is a for loop *inside* of another for loop, the inner loop executes completely for each iteration of the outer loop.\n",
    "\n",
    "*Demo debugger and pseudocode for stepping through loop*\n",
    "\n",
    "---"
   ]
  },
  {
   "cell_type": "code",
   "execution_count": 33,
   "id": "40fd4931",
   "metadata": {},
   "outputs": [
    {
     "name": "stdout",
     "output_type": "stream",
     "text": [
      "[4, 2, 4, 3, 4, 5]\n"
     ]
    }
   ],
   "source": [
    "# For loops with enumerate\n",
    "wordList = ['what', 'is', 'this', 'for', 'loop', 'doing']\n",
    "for i, word in enumerate(wordList):\n",
    "    wordList[i] = len(word)\n",
    "    \n",
    "print(wordList)"
   ]
  },
  {
   "cell_type": "markdown",
   "id": "82c309fc",
   "metadata": {},
   "source": [
    "The `enumerate` function allows us to simultaneously access both the index of each element and each element itself of a sequence. This can be helpful if:\n",
    "- you are building a new sequence based on the contents of another sequence (see above)\n",
    "- you want to update an element of a sequence based on the previous or next element (e.g., an iteration scheme)"
   ]
  },
  {
   "cell_type": "code",
   "execution_count": 34,
   "id": "fe0cef16",
   "metadata": {},
   "outputs": [
    {
     "data": {
      "text/plain": [
       "[(0, 4), (1, 2), (2, 4), (3, 3), (4, 4), (5, 5)]"
      ]
     },
     "execution_count": 34,
     "metadata": {},
     "output_type": "execute_result"
    }
   ],
   "source": [
    "# Create enumerate object\n",
    "exEnumerate = enumerate(wordList)\n",
    "\n",
    "# Convert to list so we can see what it looks like\n",
    "list(exEnumerate)"
   ]
  },
  {
   "cell_type": "markdown",
   "id": "9d187231",
   "metadata": {},
   "source": [
    "---"
   ]
  },
  {
   "cell_type": "code",
   "execution_count": 58,
   "id": "fb425678",
   "metadata": {},
   "outputs": [
    {
     "name": "stdout",
     "output_type": "stream",
     "text": [
      "Would you like to eat a green cheese ?\n",
      "Would you like to eat a blue apple ?\n",
      "Would you like to eat a purple sandwich ?\n",
      "Would you like to eat a red taco ?\n"
     ]
    }
   ],
   "source": [
    "# For loops with zip\n",
    "colorList = ['green', 'blue', 'purple', 'red']\n",
    "foodList = ['cheese', 'apple', 'sandwich', 'taco']\n",
    "\n",
    "for color, food in zip(colorList, foodList):\n",
    "    print(\"Would you like to eat a\", color, food, \"?\")"
   ]
  },
  {
   "cell_type": "markdown",
   "id": "7f4a2c3a",
   "metadata": {},
   "source": [
    "The `zip` function \"zips\" two sequences together into a list of tuples. The first tuple contains the first elements of each list. The second tuple contains the second elements of each list, and so on.\n",
    "\n",
    "So, using `zip` is helpful if you want to iterate through two lists simultaneously!"
   ]
  },
  {
   "cell_type": "code",
   "execution_count": 59,
   "id": "9fb7085c",
   "metadata": {},
   "outputs": [
    {
     "data": {
      "text/plain": [
       "[('green', 'cheese'),\n",
       " ('blue', 'apple'),\n",
       " ('purple', 'sandwich'),\n",
       " ('red', 'taco')]"
      ]
     },
     "execution_count": 59,
     "metadata": {},
     "output_type": "execute_result"
    }
   ],
   "source": [
    "# Create zip iterator\n",
    "exZip = zip(colorList, foodList)\n",
    "\n",
    "# Convert to list and print to see what the whole thing looks like\n",
    "list(exZip)"
   ]
  },
  {
   "cell_type": "markdown",
   "id": "1acf7770",
   "metadata": {},
   "source": [
    "---"
   ]
  },
  {
   "cell_type": "code",
   "execution_count": 37,
   "id": "05ba781d",
   "metadata": {},
   "outputs": [
    {
     "name": "stdout",
     "output_type": "stream",
     "text": [
      "[4, 9, 16, 25, 36]\n"
     ]
    }
   ],
   "source": [
    "# For loop....in one line?\n",
    "numList = [1, 2, 3, 4, 5]\n",
    "numList = [(num+1)**2 for num in numList]\n",
    "\n",
    "print(numList)"
   ]
  },
  {
   "cell_type": "markdown",
   "id": "c5af56bc",
   "metadata": {},
   "source": [
    "This is a special form of loop, called a list comprehension!"
   ]
  },
  {
   "cell_type": "markdown",
   "id": "eee8486d",
   "metadata": {},
   "source": [
    "***\n",
    "## List Comprehensions\n",
    "\n",
    "**List comprehensions** are compact, readable ways of generating lists without a for loop. They are basically short-hand for for loops, and we can convert back and forth!"
   ]
  },
  {
   "cell_type": "code",
   "execution_count": 43,
   "id": "ad8288fe",
   "metadata": {},
   "outputs": [
    {
     "name": "stdout",
     "output_type": "stream",
     "text": [
      "[4, 9, 16, 25, 36]\n"
     ]
    }
   ],
   "source": [
    "# Convert the list comprehension to a for loop\n",
    "numList = [1, 2, 3, 4, 5]\n",
    "for i, num in enumerate(numList):\n",
    "    numList[i] = (num+1)**2\n",
    "    \n",
    "print(numList)"
   ]
  },
  {
   "cell_type": "code",
   "execution_count": 62,
   "id": "c3222d4e",
   "metadata": {},
   "outputs": [
    {
     "name": "stdout",
     "output_type": "stream",
     "text": [
      "[[0, 1, 2, 3, 4], [0, 2, 4, 6, 8], [0, 3, 6, 9, 12], [0, 4, 8, 12, 16]]\n"
     ]
    }
   ],
   "source": [
    "# Convert the nested for loop to a list comprehension\n",
    "numList = [1, 2, 3, 4]\n",
    "list1 = [[num * i for i in range(5)] for num in numList]\n",
    "\n",
    "print(list1)"
   ]
  },
  {
   "cell_type": "code",
   "execution_count": 44,
   "id": "40e49b9c",
   "metadata": {},
   "outputs": [
    {
     "name": "stdout",
     "output_type": "stream",
     "text": [
      "[4, 2, 4, 3, 4, 5]\n"
     ]
    }
   ],
   "source": [
    "# Convert the enumerate loop into a list comprehension\n",
    "wordList = ['what', 'is', 'this', 'for', 'loop', 'doing']\n",
    "wordList = [len(word) for word in wordList]\n",
    "\n",
    "print(wordList)"
   ]
  },
  {
   "cell_type": "code",
   "execution_count": 61,
   "id": "8d37f430",
   "metadata": {},
   "outputs": [
    {
     "name": "stdout",
     "output_type": "stream",
     "text": [
      "Would you like to eat a green cheese ?\n",
      "Would you like to eat a blue apple ?\n",
      "Would you like to eat a purple sandwich ?\n",
      "Would you like to eat a red taco ?\n"
     ]
    },
    {
     "data": {
      "text/plain": [
       "[None, None, None, None]"
      ]
     },
     "execution_count": 61,
     "metadata": {},
     "output_type": "execute_result"
    }
   ],
   "source": [
    "# Convert the zip loop into a list comprehension\n",
    "colorList = ['green', 'blue', 'purple', 'red']\n",
    "foodList = ['cheese', 'apple', 'sandwich', 'taco']\n",
    "[print(\"Would you like to eat a\", color, food, \"?\") for color, food in zip(colorList, foodList)]\n",
    "\n",
    "# Note that a list is automatically created via the list comprehension...\n",
    "# ...but the print() function doesn't return anything, so its filled with None entries"
   ]
  },
  {
   "cell_type": "markdown",
   "id": "2c92785a",
   "metadata": {},
   "source": [
    "\n",
    "## When should you use a particular type of for loop/comprehension?\n",
    "\n",
    "- If you just want to iterate through a list, \"standard\" for loop (e.g., `for word in wordList`)\n",
    "- When you need both the index and contents of the list: `enumerate(list1)`\n",
    "- When you want to iterate through two lists simultaneously: `zip(list1, list2)`\n",
    "- Use list comprehensions when you want to create a list from another list\n",
    "\n",
    "**Bottom line** Use whatever is most readable and works for you to implement.\n"
   ]
  },
  {
   "cell_type": "markdown",
   "id": "2c025258",
   "metadata": {},
   "source": [
    "## Wrapping Up\n",
    "\n",
    "Homework\n",
    "- Lot's of practice with loops and comprehensions.\n",
    "\n",
    "Next time"
   ]
  }
 ],
 "metadata": {
  "kernelspec": {
   "display_name": "Python 3 (ipykernel)",
   "language": "python",
   "name": "python3"
  },
  "language_info": {
   "codemirror_mode": {
    "name": "ipython",
    "version": 3
   },
   "file_extension": ".py",
   "mimetype": "text/x-python",
   "name": "python",
   "nbconvert_exporter": "python",
   "pygments_lexer": "ipython3",
   "version": "3.9.12"
  }
 },
 "nbformat": 4,
 "nbformat_minor": 5
}
