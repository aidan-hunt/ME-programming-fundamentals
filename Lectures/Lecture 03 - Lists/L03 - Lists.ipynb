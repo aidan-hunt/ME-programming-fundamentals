{
 "cells": [
  {
   "cell_type": "markdown",
   "id": "5192cf11",
   "metadata": {},
   "source": [
    "# Lists\n",
    "Aidan Hunt, University of Washington\n",
    "\n",
    "***\n",
    "\n",
    "## Learning Objectives\n",
    "After this lesson, students will be able to\n",
    "\n",
    "- Create simple lists in Python\n",
    "- Use indexing and slicing to extract data from lists\n",
    "- Use indexing and slicing to alter data in lists\n",
    "- Understand list reference semantics\n",
    "- Utilize useful list functions to work with lists\n",
    "\n",
    "***"
   ]
  },
  {
   "cell_type": "markdown",
   "id": "42eddb35",
   "metadata": {},
   "source": [
    "# Announcements\n",
    "- Homework 1 posted, due Friday\n",
    "- Read the Style Guide\n",
    "- Post questions on the discussion board"
   ]
  },
  {
   "cell_type": "markdown",
   "id": "47102d58",
   "metadata": {},
   "source": [
    "***\n",
    "# Motivation\n",
    "\n",
    "Last time: using functions to factor out concrete tasks and reduce redundancy in our code. \n",
    "\n",
    "This time: consider the following program for counting the number of letters in names:"
   ]
  },
  {
   "cell_type": "code",
   "execution_count": 47,
   "id": "b58c4096",
   "metadata": {},
   "outputs": [
    {
     "name": "stdout",
     "output_type": "stream",
     "text": [
      "The name Ty has 2 letters in it!\n",
      "The name Saghar has 6 letters in it!\n",
      "The name Madeline has 8 letters in it!\n",
      "The name Ben has 3 letters in it!\n"
     ]
    }
   ],
   "source": [
    "def countLetters(nameIn):\n",
    "    '''\n",
    "    Given an input name (as a string), prints how many letters are in the name.\n",
    "    '''\n",
    "    numLetters = len(nameIn)\n",
    "    print('The name', nameIn, 'has', numLetters, 'letters in it!')\n",
    "\n",
    "# Define names of people in our class\n",
    "name1 = 'Ty'\n",
    "name2 = 'Saghar'\n",
    "name3 = 'Madeline'\n",
    "name4 = 'Ben'\n",
    "\n",
    "# Call the function for each name\n",
    "countLetters(name1)\n",
    "countLetters(name2)\n",
    "countLetters(name3)\n",
    "countLetters(name4)"
   ]
  },
  {
   "cell_type": "markdown",
   "id": "3b3fe75f",
   "metadata": {},
   "source": [
    "Observations:\n",
    "- Even though we are using `countLetters` to factor out a common operation that we want to perform, this code includes several repeated calls to `countLetters` on similar data.\n",
    "- Additionally, `name1` through `name4` represent data that are related to one another (names of people in ME 498 K). It would be ideal if we could store this data together in a single container, and \"batch process\" the names in the container. \n",
    "\n",
    "In pseudocode, something like:"
   ]
  },
  {
   "cell_type": "code",
   "execution_count": 48,
   "id": "3f21b3f0",
   "metadata": {},
   "outputs": [],
   "source": [
    "# roster = names of people in the class\n",
    "\n",
    "# countLetters(roster)\n",
    "\n",
    "# Desired output:\n",
    "# The name Ty has 2 letters in it!\n",
    "# The name Saghar has 6 letters in it!\n",
    "# The name Madeline has 8 letters in it!\n",
    "# The name Ben has 3 letters in it!"
   ]
  },
  {
   "cell_type": "markdown",
   "id": "7f74115c",
   "metadata": {},
   "source": [
    "We need two things:\n",
    "1) A way to organize our related data in one \"container\".\n",
    "2) A way to perform the `countLetters` function on each piece of data in our container.\n",
    "\n",
    "What we need for 1) is a data structure. Data structures allow us to represent our data in the computer in a way that reflects the real world.\n",
    "\n",
    "There are many types of data structures, and today we're going to take a deep dive into the most commonly used data structure, the list."
   ]
  },
  {
   "cell_type": "markdown",
   "id": "cf4d23cc",
   "metadata": {},
   "source": [
    "---"
   ]
  },
  {
   "cell_type": "markdown",
   "id": "1fbd5093",
   "metadata": {},
   "source": [
    "## Introducing Lists\n",
    "\n",
    "Lists are the simplest data structure: a sequence of data!"
   ]
  },
  {
   "cell_type": "code",
   "execution_count": 49,
   "id": "58df80a0",
   "metadata": {},
   "outputs": [
    {
     "name": "stdout",
     "output_type": "stream",
     "text": [
      "['Ty', 'Saghar', 'Madeline', 'Ben']\n"
     ]
    }
   ],
   "source": [
    "# Create a list using square brackets\n",
    "nameList = ['Ty', 'Saghar', 'Madeline', 'Ben']\n",
    "print(nameList)"
   ]
  },
  {
   "cell_type": "markdown",
   "id": "6e5ce54d",
   "metadata": {},
   "source": [
    "Now, instead of using 4 variables to store 4 names, we've put all 4 names in one container to represent that the data are related! This also better matches what we might use in the physical world to keep track of students in a class (a course roster).\n",
    "\n"
   ]
  },
  {
   "cell_type": "markdown",
   "id": "397a7d07",
   "metadata": {},
   "source": [
    "What can go in a list? Anything!"
   ]
  },
  {
   "cell_type": "code",
   "execution_count": 50,
   "id": "651ffa4d",
   "metadata": {},
   "outputs": [
    {
     "name": "stdout",
     "output_type": "stream",
     "text": [
      "[1, 2, 3, 6, 8, 9, 100, 122]\n"
     ]
    }
   ],
   "source": [
    "# A list of numbers\n",
    "numberList = [1, 2, 3, 6, 8, 9, 100, 122]\n",
    "print(numberList)"
   ]
  },
  {
   "cell_type": "code",
   "execution_count": 51,
   "id": "3109c194",
   "metadata": {},
   "outputs": [
    {
     "name": "stdout",
     "output_type": "stream",
     "text": [
      "['hello', 'how', 'are', 'you']\n"
     ]
    }
   ],
   "source": [
    "# A list of text\n",
    "textList = ['hello', 'how', 'are', 'you']\n",
    "print(textList)"
   ]
  },
  {
   "cell_type": "code",
   "execution_count": 52,
   "id": "9853b2ae",
   "metadata": {},
   "outputs": [
    {
     "name": "stdout",
     "output_type": "stream",
     "text": [
      "[1, 'dog', 5, 7, 'cat']\n"
     ]
    }
   ],
   "source": [
    "# A list of numbers and text\n",
    "mixList = [1, 'dog', 5, 7, 'cat']\n",
    "print(mixList)"
   ]
  },
  {
   "cell_type": "code",
   "execution_count": 53,
   "id": "efbf1269",
   "metadata": {},
   "outputs": [
    {
     "name": "stdout",
     "output_type": "stream",
     "text": [
      "[[1, 2, 3, 6, 8, 9, 100, 122], ['hello', 'how', 'are', 'you'], [1, 'dog', 5, 7, 'cat']]\n"
     ]
    }
   ],
   "source": [
    "# A list of lists!\n",
    "listList = [numberList, textList, mixList]\n",
    "print(listList)"
   ]
  },
  {
   "cell_type": "markdown",
   "id": "0017501e",
   "metadata": {},
   "source": [
    "**Pause for questions**\n",
    "\n",
    "Again, lists are so handy because they allow us to organize our related data in a single \"container\", rather than a bunch of separate containers."
   ]
  },
  {
   "cell_type": "markdown",
   "id": "7061c0bf",
   "metadata": {},
   "source": [
    "---"
   ]
  },
  {
   "cell_type": "markdown",
   "id": "0a204fb6",
   "metadata": {},
   "source": [
    "## Indexing Lists\n",
    "\n",
    "So, we've put a bunch of data into a list. Now how do we get it out?"
   ]
  },
  {
   "cell_type": "code",
   "execution_count": 54,
   "id": "c107c070",
   "metadata": {},
   "outputs": [
    {
     "name": "stdout",
     "output_type": "stream",
     "text": [
      "['Ty', 'Saghar', 'Madeline', 'Ben']\n"
     ]
    }
   ],
   "source": [
    "nameList = ['Ty', 'Saghar', 'Madeline', 'Ben']\n",
    "print(nameList)"
   ]
  },
  {
   "cell_type": "markdown",
   "id": "461fd1f0",
   "metadata": {},
   "source": [
    "We can visualize the list as a container with a bunch of slots that our data fits into.\n",
    "\n",
    "*Draw example list on the board*\n",
    "\n",
    "Each piece of data in the list is called an \"element\". To access an element of `nameList`, we use the square brackets:\n",
    "\n",
    "`nameList[ind]`\n",
    "\n",
    "where `ind` is the index of the element we want.\n",
    "\n",
    "**So, if I want to access the first element in the list, what index do I use? (Prompt students to hold up their fingers to indicate an answer).**"
   ]
  },
  {
   "cell_type": "code",
   "execution_count": 55,
   "id": "b2ddef8b",
   "metadata": {},
   "outputs": [
    {
     "data": {
      "text/plain": [
       "'Saghar'"
      ]
     },
     "execution_count": 55,
     "metadata": {},
     "output_type": "execute_result"
    }
   ],
   "source": [
    "nameList[1] # Actually accesses the second element"
   ]
  },
  {
   "cell_type": "code",
   "execution_count": 56,
   "id": "6f16604d",
   "metadata": {},
   "outputs": [
    {
     "data": {
      "text/plain": [
       "'Ty'"
      ]
     },
     "execution_count": 56,
     "metadata": {},
     "output_type": "execute_result"
    }
   ],
   "source": [
    "nameList[0] # Actually accesses the first element"
   ]
  },
  {
   "cell_type": "markdown",
   "id": "8d7de6c9",
   "metadata": {},
   "source": [
    "Python starts counting at 0!\n",
    "\n",
    "*Draw indices of example list on the board*"
   ]
  },
  {
   "attachments": {},
   "cell_type": "markdown",
   "id": "51b819f2",
   "metadata": {},
   "source": [
    "<div>\n",
    "<img src=\"indexDiagram.PNG\" alt=\"Drawing\" style=\"width: 500px; float: left;\"/>\n",
    "</div>"
   ]
  },
  {
   "cell_type": "markdown",
   "id": "27a99e23",
   "metadata": {},
   "source": [
    "**So, to access the last element of the list, which element do we want?**"
   ]
  },
  {
   "cell_type": "code",
   "execution_count": 57,
   "id": "af0335af",
   "metadata": {},
   "outputs": [
    {
     "data": {
      "text/plain": [
       "'Ben'"
      ]
     },
     "execution_count": 57,
     "metadata": {},
     "output_type": "execute_result"
    }
   ],
   "source": [
    "nameList[3] # For list of length 4, use index of 3"
   ]
  },
  {
   "cell_type": "code",
   "execution_count": 58,
   "id": "2d5cbe22",
   "metadata": {},
   "outputs": [
    {
     "data": {
      "text/plain": [
       "'Julie'"
      ]
     },
     "execution_count": 58,
     "metadata": {},
     "output_type": "execute_result"
    }
   ],
   "source": [
    "# What if our list was 6 names long?\n",
    "nameList = ['Ty', 'Saghar', 'Madeline', 'Ben', 'Asad', 'Julie']\n",
    "nameList[5] # Use index of 5"
   ]
  },
  {
   "cell_type": "code",
   "execution_count": 59,
   "id": "aeec9ac0",
   "metadata": {},
   "outputs": [
    {
     "data": {
      "text/plain": [
       "'Julie'"
      ]
     },
     "execution_count": 59,
     "metadata": {},
     "output_type": "execute_result"
    }
   ],
   "source": [
    "# Pattern, always use length of the list - 1! Use built in len() function:\n",
    "nameList[len(nameList) - 1]"
   ]
  },
  {
   "cell_type": "markdown",
   "id": "9718254b",
   "metadata": {},
   "source": [
    "**Pause for questions**\n",
    "\n",
    "If we are thinking of our list as a container for a bunch of data, indexing is how we access pieces of data in the container."
   ]
  },
  {
   "cell_type": "code",
   "execution_count": 60,
   "id": "30698e07",
   "metadata": {},
   "outputs": [
    {
     "data": {
      "text/plain": [
       "'Julie'"
      ]
     },
     "execution_count": 60,
     "metadata": {},
     "output_type": "execute_result"
    }
   ],
   "source": [
    "# Sneaky Python trick: index of -1 pulls the last element!\n",
    "nameList[-1]"
   ]
  },
  {
   "cell_type": "markdown",
   "id": "1101866c",
   "metadata": {},
   "source": [
    "*draw negative indices on board*"
   ]
  },
  {
   "cell_type": "markdown",
   "id": "5b697212",
   "metadata": {},
   "source": [
    "---"
   ]
  },
  {
   "cell_type": "markdown",
   "id": "20968442",
   "metadata": {},
   "source": [
    "## Getting and Setting via Indexing\n",
    "\n",
    "**Question: Have any of the indexing operations above changed our list?**\n"
   ]
  },
  {
   "cell_type": "code",
   "execution_count": 61,
   "id": "de19cab0",
   "metadata": {},
   "outputs": [
    {
     "data": {
      "text/plain": [
       "['Ty', 'Saghar', 'Madeline', 'Ben', 'Asad', 'Julie']"
      ]
     },
     "execution_count": 61,
     "metadata": {},
     "output_type": "execute_result"
    }
   ],
   "source": [
    "nameList"
   ]
  },
  {
   "cell_type": "markdown",
   "id": "39fd9aa2",
   "metadata": {},
   "source": [
    "No, indexing is just pulling out a copy of the array element.\n",
    "The original contents remain unchanged."
   ]
  },
  {
   "cell_type": "code",
   "execution_count": 62,
   "id": "05dee3dc",
   "metadata": {},
   "outputs": [
    {
     "name": "stdout",
     "output_type": "stream",
     "text": [
      "x = Ben\n",
      "['Ty', 'Saghar', 'Madeline', 'Ben', 'Asad', 'Julie']\n"
     ]
    }
   ],
   "source": [
    "# Assigning a variable to the value in a list\n",
    "x = nameList[3]\n",
    "print('x = ' + x) \n",
    "print(nameList)"
   ]
  },
  {
   "cell_type": "code",
   "execution_count": 63,
   "id": "d5730b17",
   "metadata": {},
   "outputs": [
    {
     "name": "stdout",
     "output_type": "stream",
     "text": [
      "x = Patrick Swayze\n",
      "['Ty', 'Saghar', 'Madeline', 'Ben', 'Asad', 'Julie']\n"
     ]
    }
   ],
   "source": [
    "# Show that original list is not changed\n",
    "x = 'Patrick Swayze'\n",
    "print('x = ' + x)\n",
    "print(nameList)"
   ]
  },
  {
   "cell_type": "markdown",
   "id": "f9c64dcf",
   "metadata": {},
   "source": [
    "But sometimes we do want to change the contents of a list.\n",
    "\n",
    "To do so, we can combine variable assignments with the indexing methods we just learned."
   ]
  },
  {
   "cell_type": "code",
   "execution_count": 64,
   "id": "0431ac1a",
   "metadata": {},
   "outputs": [
    {
     "name": "stdout",
     "output_type": "stream",
     "text": [
      "['Ty', 'Saghar', 'Madeline', 'Ben', 'Asad', 'Julie']\n",
      "['Keanu Reeves', 'Saghar', 'Madeline', 'Ben', 'Asad', 'Julie']\n"
     ]
    }
   ],
   "source": [
    "# Changing an element in the list\n",
    "print(nameList)\n",
    "nameList[0] = 'Keanu Reeves'\n",
    "print(nameList)"
   ]
  },
  {
   "cell_type": "markdown",
   "id": "bcf19bbd",
   "metadata": {},
   "source": [
    "***\n",
    "## Getting and Setting via Slicing\n",
    "Slicing (or subsetting) is a way of pulling multiple values out of a list at once.\n",
    "- Use start index (inclusive) to end index (exclusive)\n",
    "- Another list is returned (if slice yields more than one index)"
   ]
  },
  {
   "cell_type": "code",
   "execution_count": 65,
   "id": "21ed342d",
   "metadata": {},
   "outputs": [
    {
     "data": {
      "text/plain": [
       "['Saghar', 'Madeline', 'Ben']"
      ]
     },
     "execution_count": 65,
     "metadata": {},
     "output_type": "execute_result"
    }
   ],
   "source": [
    "# Get names at indices 1, 2, and 3\n",
    "nameList[1:4]"
   ]
  },
  {
   "cell_type": "markdown",
   "id": "9cd4bcd9",
   "metadata": {},
   "source": [
    "Some shortcuts:"
   ]
  },
  {
   "cell_type": "code",
   "execution_count": 66,
   "id": "f5283bac",
   "metadata": {},
   "outputs": [
    {
     "data": {
      "text/plain": [
       "['Keanu Reeves', 'Saghar', 'Madeline', 'Ben']"
      ]
     },
     "execution_count": 66,
     "metadata": {},
     "output_type": "execute_result"
    }
   ],
   "source": [
    "# Get all elements from beginning of a list up to index 4 (exclusive)\n",
    "\n",
    "nameList[:4] # Will slice from index 0 (inclusive) to 4 (exclusive)"
   ]
  },
  {
   "cell_type": "code",
   "execution_count": 67,
   "id": "2cd540f5",
   "metadata": {},
   "outputs": [
    {
     "data": {
      "text/plain": [
       "['Madeline', 'Ben', 'Asad', 'Julie']"
      ]
     },
     "execution_count": 67,
     "metadata": {},
     "output_type": "execute_result"
    }
   ],
   "source": [
    "# Get all elements starting from an index (inclusive) to the end of the list\n",
    "\n",
    "nameList[2:] # Will slice from index 2 (inclusive) to end of list"
   ]
  },
  {
   "cell_type": "markdown",
   "id": "b74cf32e",
   "metadata": {},
   "source": [
    "We can also use splicing to *set* list values:"
   ]
  },
  {
   "cell_type": "code",
   "execution_count": 68,
   "id": "3b7e7782",
   "metadata": {},
   "outputs": [
    {
     "name": "stdout",
     "output_type": "stream",
     "text": [
      "['Name1', 'Name2', 'Madeline', 'Ben', 'Asad', 'Julie']\n"
     ]
    }
   ],
   "source": [
    "# Setting list values based on another list\n",
    "nameList[0:2] = ['Name1', 'Name2']\n",
    "print(nameList)"
   ]
  },
  {
   "cell_type": "code",
   "execution_count": 69,
   "id": "022814c8",
   "metadata": {},
   "outputs": [
    {
     "name": "stdout",
     "output_type": "stream",
     "text": [
      "['Name1', 'Name2', 'Madeline', 'Ben', 'Asad', 'Julie']\n"
     ]
    }
   ],
   "source": [
    "# Same thing as above, but just with comma separated values\n",
    "nameList[0:2] = 'Name1', 'Name2'\n",
    "print(nameList)"
   ]
  },
  {
   "cell_type": "markdown",
   "id": "fb655c20",
   "metadata": {},
   "source": [
    "You can imagine that setting list values with slicing happens in two steps.\n",
    "1. Existing elements at the provided indices are removed\n",
    "2. New elements are placed in the \"gap\"\n",
    "\n",
    "This means that if the number of new values does not match the number of indices in the slice, your list can actually grow or shrink! So be mindful of the relationship between the indices and new values to assign."
   ]
  },
  {
   "cell_type": "code",
   "execution_count": 70,
   "id": "357ccdb0",
   "metadata": {},
   "outputs": [
    {
     "name": "stdout",
     "output_type": "stream",
     "text": [
      "['Test1', 'Test2', 'Ben', 'Asad', 'Julie']\n"
     ]
    }
   ],
   "source": [
    "# [0:3] is 3 indices (0, 1, and 2), but only two new values are being assigned.\n",
    "# So, the resulting list is one element shorter.\n",
    "nameList[0:3] = ['Test1', 'Test2']\n",
    "print(nameList)"
   ]
  },
  {
   "cell_type": "markdown",
   "id": "fcfedd61",
   "metadata": {},
   "source": [
    "***\n",
    "## A few other notes on lists:"
   ]
  },
  {
   "cell_type": "markdown",
   "id": "7c7491cf",
   "metadata": {},
   "source": [
    "### Lists are NOT vectors\n",
    "\n",
    "Lists are not built for vector calculations - we need NumPy for that."
   ]
  },
  {
   "cell_type": "code",
   "execution_count": 71,
   "id": "641cdd70",
   "metadata": {},
   "outputs": [
    {
     "data": {
      "text/plain": [
       "[1, 2, 3, 4, 5, 6]"
      ]
     },
     "execution_count": 71,
     "metadata": {},
     "output_type": "execute_result"
    }
   ],
   "source": [
    "# Using '+' with lists concatenates two lists, it doesn't add the elements\n",
    "\n",
    "[1, 2, 3] + [4, 5, 6]"
   ]
  },
  {
   "cell_type": "code",
   "execution_count": 72,
   "id": "8e9ff0fd",
   "metadata": {},
   "outputs": [
    {
     "data": {
      "text/plain": [
       "[1, 2, 3, 4, 5, 1, 2, 3, 4, 5, 1, 2, 3, 4, 5]"
      ]
     },
     "execution_count": 72,
     "metadata": {},
     "output_type": "execute_result"
    }
   ],
   "source": [
    "# Trying to multiply a list by a constant - just concatenates the list to itself 3 times\n",
    "\n",
    "[1, 2, 3, 4, 5] * 3"
   ]
  },
  {
   "cell_type": "code",
   "execution_count": 73,
   "id": "d80e94d3",
   "metadata": {},
   "outputs": [
    {
     "ename": "TypeError",
     "evalue": "can't multiply sequence by non-int of type 'list'",
     "output_type": "error",
     "traceback": [
      "\u001b[1;31m---------------------------------------------------------------------------\u001b[0m",
      "\u001b[1;31mTypeError\u001b[0m                                 Traceback (most recent call last)",
      "\u001b[1;32m~\\AppData\\Local\\Temp\\ipykernel_1092\\1215247481.py\u001b[0m in \u001b[0;36m<module>\u001b[1;34m\u001b[0m\n\u001b[0;32m      1\u001b[0m \u001b[1;31m# Trying to multiply two lists together - yields error\u001b[0m\u001b[1;33m\u001b[0m\u001b[1;33m\u001b[0m\u001b[0m\n\u001b[0;32m      2\u001b[0m \u001b[1;33m\u001b[0m\u001b[0m\n\u001b[1;32m----> 3\u001b[1;33m \u001b[1;33m[\u001b[0m\u001b[1;36m1\u001b[0m\u001b[1;33m,\u001b[0m \u001b[1;36m2\u001b[0m\u001b[1;33m,\u001b[0m \u001b[1;36m3\u001b[0m\u001b[1;33m]\u001b[0m \u001b[1;33m*\u001b[0m \u001b[1;33m[\u001b[0m\u001b[1;36m4\u001b[0m\u001b[1;33m,\u001b[0m \u001b[1;36m5\u001b[0m\u001b[1;33m,\u001b[0m \u001b[1;36m6\u001b[0m\u001b[1;33m]\u001b[0m\u001b[1;33m\u001b[0m\u001b[1;33m\u001b[0m\u001b[0m\n\u001b[0m",
      "\u001b[1;31mTypeError\u001b[0m: can't multiply sequence by non-int of type 'list'"
     ]
    }
   ],
   "source": [
    "# Trying to multiply two lists together - yields error\n",
    "\n",
    "[1, 2, 3] * [4, 5, 6]"
   ]
  },
  {
   "cell_type": "markdown",
   "id": "e48eaf81",
   "metadata": {},
   "source": [
    "### Strings are like lists!\n",
    "Both strings and lists are sequences, meaning that you can do many of the same operations with strings as with lists:"
   ]
  },
  {
   "cell_type": "code",
   "execution_count": 74,
   "id": "eeede21c",
   "metadata": {},
   "outputs": [
    {
     "data": {
      "text/plain": [
       "'com'"
      ]
     },
     "execution_count": 74,
     "metadata": {},
     "output_type": "execute_result"
    }
   ],
   "source": [
    "# Get the first three characters of a string:\n",
    "\n",
    "testString = 'complicated'\n",
    "testString[0:3]"
   ]
  },
  {
   "cell_type": "code",
   "execution_count": 75,
   "id": "3c3e8cb5",
   "metadata": {},
   "outputs": [
    {
     "data": {
      "text/plain": [
       "'complicatedcomplicatedcomplicated'"
      ]
     },
     "execution_count": 75,
     "metadata": {},
     "output_type": "execute_result"
    }
   ],
   "source": [
    "# Strings behave like lists when multiplied\n",
    "testString * 3"
   ]
  },
  {
   "cell_type": "markdown",
   "id": "563f3ae7",
   "metadata": {},
   "source": [
    "### Lists are mutable\n",
    "Recall that variables that are created using the values in other variables are not linked to those variables.\n"
   ]
  },
  {
   "cell_type": "code",
   "execution_count": 76,
   "id": "6ef3ad7c",
   "metadata": {},
   "outputs": [
    {
     "name": "stdout",
     "output_type": "stream",
     "text": [
      "x = 2\n",
      "y = 5\n",
      "z = 7\n",
      "\n",
      "x = 100\n",
      "y = -50\n",
      "z = 7\n"
     ]
    }
   ],
   "source": [
    "# Assign some variables and print their values\n",
    "x = 2\n",
    "y = 5\n",
    "z = x + y\n",
    "\n",
    "print(\"x =\", x)\n",
    "print(\"y =\", y)\n",
    "print(\"z =\", z)\n",
    "print()\n",
    "\n",
    "# Change x and y: z does not change\n",
    "x = 100\n",
    "y = -50\n",
    "\n",
    "print(\"x =\", x)\n",
    "print(\"y =\", y)\n",
    "print(\"z =\", z)"
   ]
  },
  {
   "cell_type": "markdown",
   "id": "5a3ac6d2",
   "metadata": {},
   "source": [
    "<div>\n",
    "<img src=\"primitiveReference.PNG\" alt=\"Drawing\" style=\"width: 500px; float: left;\"/>\n",
    "</div>"
   ]
  },
  {
   "cell_type": "markdown",
   "id": "cafcb3ee",
   "metadata": {},
   "source": [
    "Is this the same for lists?"
   ]
  },
  {
   "cell_type": "code",
   "execution_count": 77,
   "id": "84389ff1",
   "metadata": {},
   "outputs": [
    {
     "name": "stdout",
     "output_type": "stream",
     "text": [
      "[2, 4, 6, 8]\n",
      "[2, 4, 6, 8]\n",
      "[-500, 4, 6, 8]\n",
      "[-500, 4, 6, 8]\n"
     ]
    }
   ],
   "source": [
    "# Create a list, set list1 = list2\n",
    "list1 = [2, 4, 6, 8]\n",
    "list2 = list1\n",
    "print(list1)\n",
    "print(list2)\n",
    "\n",
    "# Change list 2, does list 1 change?\n",
    "list2[0] = -500\n",
    "print(list1)\n",
    "print(list2)"
   ]
  },
  {
   "cell_type": "markdown",
   "id": "1728e4cd",
   "metadata": {},
   "source": [
    "Both lists change because lists are **mutable**, meaning that the data in the memory correpsonding to the list can change after it is created.\n",
    "- Reference semantics: variables `list1` and `list2` both point to the same place in memory.\n",
    "- When that memory changes, it is reflected in both variables.\n",
    "- Basic data types like `int`, `float`, `str` are programmed to not do this."
   ]
  },
  {
   "cell_type": "markdown",
   "id": "5795352b",
   "metadata": {},
   "source": [
    "<div>\n",
    "<img src=\"listReference.PNG\" style=\"width: 500px; float: left;\"/>\n",
    "</div>"
   ]
  },
  {
   "cell_type": "markdown",
   "id": "682c30c9",
   "metadata": {},
   "source": [
    "Immutable version of a list: **tuple**. Tuples use parentheses for creation instead of square brackets."
   ]
  },
  {
   "cell_type": "code",
   "execution_count": 78,
   "id": "e7d81098",
   "metadata": {},
   "outputs": [
    {
     "name": "stdout",
     "output_type": "stream",
     "text": [
      "(1, 2, 3, 4)\n",
      "(1, 2, 3, 4)\n"
     ]
    }
   ],
   "source": [
    "# Create a tuple, set tup1 = tup2\n",
    "tup1 = (1, 2, 3, 4)\n",
    "tup2 = tup1\n",
    "print(tup1)\n",
    "print(tup2)"
   ]
  },
  {
   "cell_type": "code",
   "execution_count": 79,
   "id": "a6f3fc0d",
   "metadata": {},
   "outputs": [
    {
     "data": {
      "text/plain": [
       "1"
      ]
     },
     "execution_count": 79,
     "metadata": {},
     "output_type": "execute_result"
    }
   ],
   "source": [
    "# Accessing tuple is okay...\n",
    "tup1[0]"
   ]
  },
  {
   "cell_type": "code",
   "execution_count": 80,
   "id": "864cc043",
   "metadata": {},
   "outputs": [
    {
     "ename": "TypeError",
     "evalue": "'tuple' object does not support item assignment",
     "output_type": "error",
     "traceback": [
      "\u001b[1;31m---------------------------------------------------------------------------\u001b[0m",
      "\u001b[1;31mTypeError\u001b[0m                                 Traceback (most recent call last)",
      "\u001b[1;32m~\\AppData\\Local\\Temp\\ipykernel_1092\\1827647133.py\u001b[0m in \u001b[0;36m<module>\u001b[1;34m\u001b[0m\n\u001b[0;32m      1\u001b[0m \u001b[1;31m#...but trying to change it yields an error\u001b[0m\u001b[1;33m\u001b[0m\u001b[1;33m\u001b[0m\u001b[0m\n\u001b[1;32m----> 2\u001b[1;33m \u001b[0mtup1\u001b[0m\u001b[1;33m[\u001b[0m\u001b[1;36m0\u001b[0m\u001b[1;33m]\u001b[0m \u001b[1;33m=\u001b[0m \u001b[1;36m50\u001b[0m\u001b[1;33m\u001b[0m\u001b[1;33m\u001b[0m\u001b[0m\n\u001b[0m",
      "\u001b[1;31mTypeError\u001b[0m: 'tuple' object does not support item assignment"
     ]
    }
   ],
   "source": [
    "#...but trying to change it yields an error\n",
    "tup1[0] = 50"
   ]
  },
  {
   "cell_type": "code",
   "execution_count": 81,
   "id": "49f9b01d",
   "metadata": {},
   "outputs": [
    {
     "ename": "TypeError",
     "evalue": "'str' object does not support item assignment",
     "output_type": "error",
     "traceback": [
      "\u001b[1;31m---------------------------------------------------------------------------\u001b[0m",
      "\u001b[1;31mTypeError\u001b[0m                                 Traceback (most recent call last)",
      "\u001b[1;32m~\\AppData\\Local\\Temp\\ipykernel_1092\\766018959.py\u001b[0m in \u001b[0;36m<module>\u001b[1;34m\u001b[0m\n\u001b[0;32m      1\u001b[0m \u001b[1;31m# Strings are also immutable!\u001b[0m\u001b[1;33m\u001b[0m\u001b[1;33m\u001b[0m\u001b[0m\n\u001b[0;32m      2\u001b[0m \u001b[0mtestString\u001b[0m \u001b[1;33m=\u001b[0m \u001b[1;34m'immutable'\u001b[0m\u001b[1;33m\u001b[0m\u001b[1;33m\u001b[0m\u001b[0m\n\u001b[1;32m----> 3\u001b[1;33m \u001b[0mtestString\u001b[0m\u001b[1;33m[\u001b[0m\u001b[1;36m0\u001b[0m\u001b[1;33m]\u001b[0m \u001b[1;33m=\u001b[0m \u001b[1;34m'A'\u001b[0m\u001b[1;33m\u001b[0m\u001b[1;33m\u001b[0m\u001b[0m\n\u001b[0m",
      "\u001b[1;31mTypeError\u001b[0m: 'str' object does not support item assignment"
     ]
    }
   ],
   "source": [
    "# Strings are also immutable!\n",
    "testString = 'immutable'\n",
    "testString[0] = 'A'"
   ]
  },
  {
   "cell_type": "markdown",
   "id": "597dbe6c",
   "metadata": {},
   "source": [
    "**Question:** can we change a list (mutable) that is inside a tuple (immutable)?"
   ]
  },
  {
   "cell_type": "code",
   "execution_count": 82,
   "id": "20adbf68",
   "metadata": {},
   "outputs": [
    {
     "name": "stdout",
     "output_type": "stream",
     "text": [
      "([1, 2, 3, 4], 55, 'hello')\n"
     ]
    }
   ],
   "source": [
    "# Create a list (mutable) and put it in a tuple with some other data\n",
    "exampleList = [1, 2, 3, 4]\n",
    "exampleTuple = (exampleList, 55, 'hello')\n",
    "print(exampleTuple)"
   ]
  },
  {
   "cell_type": "code",
   "execution_count": 83,
   "id": "cc73e626",
   "metadata": {},
   "outputs": [
    {
     "name": "stdout",
     "output_type": "stream",
     "text": [
      "[-5000, 2, 3, 4]\n",
      "([-5000, 2, 3, 4], 55, 'hello')\n"
     ]
    }
   ],
   "source": [
    "# Now if we change the list outside the tuple, does it update in the tuple?\n",
    "exampleList[0] = -5000\n",
    "print(exampleList)\n",
    "print(exampleTuple)"
   ]
  },
  {
   "cell_type": "markdown",
   "id": "089a1e61",
   "metadata": {},
   "source": [
    "Yes, we can! The tuple contains a *reference* to the list. The reference to the list cannot be changed, but the contents of the list that the reference points to can indeed be changed!\n",
    "\n",
    "If we attempt to change the reference itself (e.g. assign the first element of the tuple to a different list) we get an error."
   ]
  },
  {
   "cell_type": "code",
   "execution_count": 84,
   "id": "0b558646",
   "metadata": {},
   "outputs": [
    {
     "ename": "TypeError",
     "evalue": "'tuple' object does not support item assignment",
     "output_type": "error",
     "traceback": [
      "\u001b[1;31m---------------------------------------------------------------------------\u001b[0m",
      "\u001b[1;31mTypeError\u001b[0m                                 Traceback (most recent call last)",
      "\u001b[1;32m~\\AppData\\Local\\Temp\\ipykernel_1092\\631764299.py\u001b[0m in \u001b[0;36m<module>\u001b[1;34m\u001b[0m\n\u001b[1;32m----> 1\u001b[1;33m \u001b[0mexampleTuple\u001b[0m\u001b[1;33m[\u001b[0m\u001b[1;36m0\u001b[0m\u001b[1;33m]\u001b[0m \u001b[1;33m=\u001b[0m \u001b[1;33m[\u001b[0m\u001b[1;36m5\u001b[0m\u001b[1;33m,\u001b[0m \u001b[1;36m6\u001b[0m\u001b[1;33m,\u001b[0m \u001b[1;36m7\u001b[0m\u001b[1;33m,\u001b[0m \u001b[1;36m8\u001b[0m\u001b[1;33m]\u001b[0m\u001b[1;33m\u001b[0m\u001b[1;33m\u001b[0m\u001b[0m\n\u001b[0m",
      "\u001b[1;31mTypeError\u001b[0m: 'tuple' object does not support item assignment"
     ]
    }
   ],
   "source": [
    "exampleTuple[0] = [5, 6, 7, 8]"
   ]
  },
  {
   "cell_type": "markdown",
   "id": "a39edcad",
   "metadata": {},
   "source": [
    "## Traversing Lists"
   ]
  },
  {
   "cell_type": "markdown",
   "id": "51e68499",
   "metadata": {},
   "source": [
    "So with all this in mind, let's return to our original example. We can now store related data (e.g., our classmates names) in a list, with the goal of performing the `countLetters` operation on each one."
   ]
  },
  {
   "cell_type": "code",
   "execution_count": 85,
   "id": "5021253e",
   "metadata": {},
   "outputs": [
    {
     "name": "stdout",
     "output_type": "stream",
     "text": [
      "The name ['Ty', 'Saghar', 'Madeline', 'Ben'] has 4 letters in it!\n"
     ]
    }
   ],
   "source": [
    "def countLetters(nameIn):\n",
    "    '''\n",
    "    Given an input name (as a string), prints how many letters are in the name.\n",
    "    '''\n",
    "    numLetters = len(nameIn)\n",
    "    print('The name', nameIn, 'has', numLetters, 'letters in it!')\n",
    "\n",
    "# Define names of people in our class\n",
    "#name1 = 'Ty'\n",
    "#name2 = 'Saghar'\n",
    "#name3 = 'Madeline'\n",
    "#name4 = 'Ben'\n",
    "roster = ['Ty', 'Saghar', 'Madeline', 'Ben']\n",
    "\n",
    "# Call the function for each name\n",
    "#countLetters(name1)\n",
    "#countLetters(name2)\n",
    "#countLetters(name3)\n",
    "#countLetters(name4)\n",
    "countLetters(roster)"
   ]
  },
  {
   "cell_type": "markdown",
   "id": "763992fc",
   "metadata": {},
   "source": [
    "Or not....looks like our function is currently counting the number of items in the list, not the number of letters in each name!\n",
    "\n",
    "We need to explicitly access each element of the list and perform the countLetters operation on each element. Enter: the **for loop** (next time)."
   ]
  },
  {
   "cell_type": "markdown",
   "id": "0f55b5c3",
   "metadata": {},
   "source": [
    "***\n",
    "## Bonus: List methods\n",
    "- Lists have many useful built-in methods (AKA functions that belong to the list data type)\n",
    "    - __[See Python documentation Section 5.1](https://docs.python.org/3/tutorial/datastructures.html)__\n",
    "- Note that many of these methods could also be accomplished via indexing/slicing"
   ]
  },
  {
   "cell_type": "markdown",
   "id": "e960f65a",
   "metadata": {},
   "source": [
    "## Examples\n",
    "Use list methods to solve these three problems in groups!"
   ]
  },
  {
   "cell_type": "code",
   "execution_count": 86,
   "id": "9845664a",
   "metadata": {},
   "outputs": [
    {
     "name": "stdout",
     "output_type": "stream",
     "text": [
      "[1, 2, 3, 4, 5, 1, 2, 3, 4, 5]\n"
     ]
    }
   ],
   "source": [
    "# 1) Repeat the list\n",
    "# [1, 2, 3, 4, 5] ---> [1, 2, 3, 4, 5, 1, 2, 3, 4, 5]\n",
    "\n",
    "l = [1, 2, 3, 4, 5]\n",
    "l.extend(l) \n",
    "print(l)\n",
    "\n",
    "# Note that append does not work because it inserts l into the list"
   ]
  },
  {
   "cell_type": "code",
   "execution_count": 87,
   "id": "aacf52ba",
   "metadata": {},
   "outputs": [
    {
     "name": "stdout",
     "output_type": "stream",
     "text": [
      "[1, 2, 3, 4, 5, 5, 4, 3, 2, 1]\n"
     ]
    }
   ],
   "source": [
    "# 2) Repeat the list, but in reverse order\n",
    "# This gets at the fact that these functions don't return anything --- they change the list itself!\n",
    "\n",
    "l = [1, 2, 3, 4, 5]\n",
    "l2 = l.copy()\n",
    "l2.reverse()\n",
    "l.extend(l2)\n",
    "print(l)"
   ]
  },
  {
   "cell_type": "code",
   "execution_count": 88,
   "id": "012baa6c",
   "metadata": {},
   "outputs": [
    {
     "name": "stdout",
     "output_type": "stream",
     "text": [
      "[1, 5, 4, 3, 2]\n",
      "[1, 5, 4, 3, 2]\n"
     ]
    }
   ],
   "source": [
    "# 3) Reverse the order of the given list, except for the first element\n",
    "# [1, 2, 3, 4, 5] ---> [1, 5, 4, 3, 2]\n",
    "\n",
    "# One solution: remove the first element, reverse the list, and add it back in\n",
    "l = [1, 2, 3, 4, 5]\n",
    "temp = l.pop(0)\n",
    "l.reverse()\n",
    "l.insert(0, temp)\n",
    "print(l)\n",
    "\n",
    "# Another solution: remove the first element, append it to the list, and then reverse the whole thing\n",
    "l = [1, 2, 3, 4, 5]\n",
    "temp = l.pop(0)\n",
    "l.append(temp)\n",
    "l.reverse()\n",
    "print(l)"
   ]
  }
 ],
 "metadata": {
  "kernelspec": {
   "display_name": "Python 3 (ipykernel)",
   "language": "python",
   "name": "python3"
  },
  "language_info": {
   "codemirror_mode": {
    "name": "ipython",
    "version": 3
   },
   "file_extension": ".py",
   "mimetype": "text/x-python",
   "name": "python",
   "nbconvert_exporter": "python",
   "pygments_lexer": "ipython3",
   "version": "3.9.12"
  }
 },
 "nbformat": 4,
 "nbformat_minor": 5
}
