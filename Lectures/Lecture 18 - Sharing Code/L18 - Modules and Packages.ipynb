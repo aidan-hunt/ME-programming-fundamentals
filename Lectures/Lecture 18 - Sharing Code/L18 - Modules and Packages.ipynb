{
 "cells": [
  {
   "cell_type": "markdown",
   "id": "5192cf11",
   "metadata": {},
   "source": [
    "# Lecture 18 - Sharing Code\n",
    "Aidan Hunt, University of Washington\n",
    "***\n",
    "\n",
    "## Learning Objectives\n",
    "After this lesson, students will be able to:\n",
    "- Import modules to use scripts that are in other directories on their computer\n",
    "- Create and import simple packages\n",
    "- Use git for version control and sharing code\n",
    "\n",
    "## Check-in\n",
    "- Homework 6 pseudocode graded\n",
    "- Homework 6 full code due Friday\n",
    "- Weds office hours moved to Friday (virtual)\n",
    "\n",
    "***"
   ]
  },
  {
   "cell_type": "markdown",
   "id": "5f61cab2",
   "metadata": {},
   "source": [
    "## Framing\n",
    "\n",
    "- We've written a lot of good code this quarter for solving engineering problems.\n",
    "- In your careers, you may start to build-up a codebase of scripts that you'd like to use and re-use.\n",
    "- You may also wish to share this codebase with others.\n",
    "- Today, we're going to talk about:\n",
    "    - Importing code we've written for us in other scripts\n",
    "    - Using git for sharing and version control of code"
   ]
  },
  {
   "cell_type": "markdown",
   "id": "eee8486d",
   "metadata": {},
   "source": [
    "***\n",
    "## Modules and Packages\n",
    "\n",
    "A **module** is another name for a simple Python script. Every `.py` file we've created this quarter is a module. As we've seen throughout the quarter, we can import modules to use them in our code.\n",
    "\n",
    "Some examples of modules that we've used:\n",
    "- `string` module\n",
    "- `glob` module\n",
    "- `os` module"
   ]
  },
  {
   "cell_type": "markdown",
   "id": "8b03525d",
   "metadata": {},
   "source": [
    "### Importing our own modules\n",
    "\n",
    "How can we import a module? It's sort of like reading files. If the module is in the same directory as our script, it's easy. Consider `testModule1.py`, a script in the same folder as this notebook."
   ]
  },
  {
   "cell_type": "code",
   "execution_count": null,
   "id": "a261c885",
   "metadata": {},
   "outputs": [],
   "source": [
    "# contents of testModule1.py\n",
    "\"\"\"\n",
    "This is a module that is in the same folder as our main script\n",
    "\"\"\"\n",
    "\n",
    "# Define some variables\n",
    "var1 = 1\n",
    "var2 = 2\n",
    "var3 = 3\n",
    "\n",
    "# Define a function\n",
    "def printWordLength(word):\n",
    "    print(word, 'has', len(word), 'characters in it.')\n",
    "    \n",
    "# Print a message\n",
    "print('Hello from test module #1!')"
   ]
  },
  {
   "cell_type": "code",
   "execution_count": 1,
   "id": "326d8597",
   "metadata": {},
   "outputs": [
    {
     "name": "stdout",
     "output_type": "stream",
     "text": [
      "Hello from test module #1!\n"
     ]
    }
   ],
   "source": [
    "import testModule1"
   ]
  },
  {
   "cell_type": "markdown",
   "id": "524c650d",
   "metadata": {},
   "source": [
    "Notice that when we import this module:\n",
    "- the code inside is automatically executed (hence the message is printed). Note that this only happens the first time we import the module.\n",
    "- We also have access to any variables and/or functions that are defined via the dot notation we have used with other modules and packages we have imported"
   ]
  },
  {
   "cell_type": "code",
   "execution_count": 2,
   "id": "336832d8",
   "metadata": {},
   "outputs": [
    {
     "data": {
      "text/plain": [
       "1"
      ]
     },
     "execution_count": 2,
     "metadata": {},
     "output_type": "execute_result"
    }
   ],
   "source": [
    "# Access var1 attribute of exampleModule\n",
    "testModule1.var1"
   ]
  },
  {
   "cell_type": "code",
   "execution_count": 3,
   "id": "16112812",
   "metadata": {},
   "outputs": [
    {
     "data": {
      "text/plain": [
       "2"
      ]
     },
     "execution_count": 3,
     "metadata": {},
     "output_type": "execute_result"
    }
   ],
   "source": [
    "# Access var2 attribute of exampleModule\n",
    "testModule1.var2"
   ]
  },
  {
   "cell_type": "code",
   "execution_count": 4,
   "id": "4f423241",
   "metadata": {},
   "outputs": [
    {
     "name": "stdout",
     "output_type": "stream",
     "text": [
      "perfunctory has 11 characters in it.\n"
     ]
    }
   ],
   "source": [
    "# Use the printWordLength function of exampleModule\n",
    "testModule1.printWordLength('perfunctory')"
   ]
  },
  {
   "cell_type": "markdown",
   "id": "54d09baf",
   "metadata": {},
   "source": [
    "As with any other module or package, we can also import our own modules under custom names (e.g., `import numpy as np`):"
   ]
  },
  {
   "cell_type": "code",
   "execution_count": 5,
   "id": "d4274277",
   "metadata": {},
   "outputs": [
    {
     "name": "stdout",
     "output_type": "stream",
     "text": [
      "perfunctory has 11 characters in it.\n"
     ]
    }
   ],
   "source": [
    "import testModule1 as tm\n",
    "\n",
    "tm.printWordLength('perfunctory')"
   ]
  },
  {
   "cell_type": "markdown",
   "id": "cf8a20af",
   "metadata": {},
   "source": [
    "### Importing modules in other directories\n",
    "\n",
    "What about importing modules that are in other directories on our computer? For example, consider another module, `testModule2.py`, that is located in the Test Modules subdirectory, one level below the current directory."
   ]
  },
  {
   "cell_type": "code",
   "execution_count": null,
   "id": "519df63d",
   "metadata": {},
   "outputs": [],
   "source": [
    "# File structure:\n",
    "\n",
    "# .\\\n",
    "    # (This notebook)\n",
    "    \n",
    "    # testModule1.py\n",
    "    \n",
    "    # Test Modules\\\n",
    "        # testModule2.py"
   ]
  },
  {
   "cell_type": "code",
   "execution_count": null,
   "id": "024b2411",
   "metadata": {},
   "outputs": [],
   "source": [
    "# contents of testModule2.py\n",
    "def printMessage():\n",
    "    print('Hello! This is a message from the test module!')\n",
    "    \n",
    "def addNumbers(num1, num2):\n",
    "    return num1 + num2\n",
    "\n",
    "print('You just imported the test module #2! Nice!')"
   ]
  },
  {
   "cell_type": "code",
   "execution_count": 6,
   "id": "5a0c2e3e",
   "metadata": {},
   "outputs": [
    {
     "ename": "ModuleNotFoundError",
     "evalue": "No module named 'testModule2'",
     "output_type": "error",
     "traceback": [
      "\u001b[1;31m---------------------------------------------------------------------------\u001b[0m",
      "\u001b[1;31mModuleNotFoundError\u001b[0m                       Traceback (most recent call last)",
      "\u001b[1;32m~\\AppData\\Local\\Temp\\ipykernel_10788\\2673808499.py\u001b[0m in \u001b[0;36m<module>\u001b[1;34m\u001b[0m\n\u001b[1;32m----> 1\u001b[1;33m \u001b[1;32mimport\u001b[0m \u001b[0mtestModule2\u001b[0m\u001b[1;33m\u001b[0m\u001b[1;33m\u001b[0m\u001b[0m\n\u001b[0m",
      "\u001b[1;31mModuleNotFoundError\u001b[0m: No module named 'testModule2'"
     ]
    }
   ],
   "source": [
    "import testModule2"
   ]
  },
  {
   "cell_type": "markdown",
   "id": "c25ef99c",
   "metadata": {},
   "source": [
    "As we found before with files, we need to tell Python where to look for modules and packages we'd like to import. Python looks in directories that are \"on the path\"."
   ]
  },
  {
   "cell_type": "code",
   "execution_count": 7,
   "id": "306203c5",
   "metadata": {},
   "outputs": [
    {
     "data": {
      "text/plain": [
       "['C:\\\\Users\\\\Aidan Hunt\\\\MREL Dropbox\\\\Aidan Hunt\\\\STEP-UP - ME 498\\\\Lectures\\\\Lecture 18 - Sharing Code',\n",
       " 'C:\\\\Users\\\\Aidan Hunt\\\\anaconda3\\\\python39.zip',\n",
       " 'C:\\\\Users\\\\Aidan Hunt\\\\anaconda3\\\\DLLs',\n",
       " 'C:\\\\Users\\\\Aidan Hunt\\\\anaconda3\\\\lib',\n",
       " 'C:\\\\Users\\\\Aidan Hunt\\\\anaconda3',\n",
       " '',\n",
       " 'C:\\\\Users\\\\Aidan Hunt\\\\anaconda3\\\\lib\\\\site-packages',\n",
       " 'C:\\\\Users\\\\Aidan Hunt\\\\anaconda3\\\\lib\\\\site-packages\\\\win32',\n",
       " 'C:\\\\Users\\\\Aidan Hunt\\\\anaconda3\\\\lib\\\\site-packages\\\\win32\\\\lib',\n",
       " 'C:\\\\Users\\\\Aidan Hunt\\\\anaconda3\\\\lib\\\\site-packages\\\\Pythonwin',\n",
       " 'C:\\\\Users\\\\Aidan Hunt\\\\anaconda3\\\\lib\\\\site-packages\\\\IPython\\\\extensions',\n",
       " 'C:\\\\Users\\\\Aidan Hunt\\\\.ipython']"
      ]
     },
     "execution_count": 7,
     "metadata": {},
     "output_type": "execute_result"
    }
   ],
   "source": [
    "# Import the sys module to get the system path on Aidan's computer\n",
    "import sys \n",
    "sys.path"
   ]
  },
  {
   "cell_type": "markdown",
   "id": "caa0877f",
   "metadata": {},
   "source": [
    "Note that the current directory is on the path, in addition to a bunch of other directories where packages like numpy are stored.\n",
    "\n",
    "We can add a directory of interest to the path as using `sys.path.append()`:"
   ]
  },
  {
   "cell_type": "code",
   "execution_count": 8,
   "id": "2028dec0",
   "metadata": {},
   "outputs": [
    {
     "data": {
      "text/plain": [
       "['C:\\\\Users\\\\Aidan Hunt\\\\MREL Dropbox\\\\Aidan Hunt\\\\STEP-UP - ME 498\\\\Lectures\\\\Lecture 18 - Sharing Code',\n",
       " 'C:\\\\Users\\\\Aidan Hunt\\\\anaconda3\\\\python39.zip',\n",
       " 'C:\\\\Users\\\\Aidan Hunt\\\\anaconda3\\\\DLLs',\n",
       " 'C:\\\\Users\\\\Aidan Hunt\\\\anaconda3\\\\lib',\n",
       " 'C:\\\\Users\\\\Aidan Hunt\\\\anaconda3',\n",
       " '',\n",
       " 'C:\\\\Users\\\\Aidan Hunt\\\\anaconda3\\\\lib\\\\site-packages',\n",
       " 'C:\\\\Users\\\\Aidan Hunt\\\\anaconda3\\\\lib\\\\site-packages\\\\win32',\n",
       " 'C:\\\\Users\\\\Aidan Hunt\\\\anaconda3\\\\lib\\\\site-packages\\\\win32\\\\lib',\n",
       " 'C:\\\\Users\\\\Aidan Hunt\\\\anaconda3\\\\lib\\\\site-packages\\\\Pythonwin',\n",
       " 'C:\\\\Users\\\\Aidan Hunt\\\\anaconda3\\\\lib\\\\site-packages\\\\IPython\\\\extensions',\n",
       " 'C:\\\\Users\\\\Aidan Hunt\\\\.ipython',\n",
       " '.\\\\Test Modules']"
      ]
     },
     "execution_count": 8,
     "metadata": {},
     "output_type": "execute_result"
    }
   ],
   "source": [
    "# Create the directory path we want to add using the os package\n",
    "# Let's make a relative path for ease of teaching, but note that an absolute path would be better\n",
    "import os\n",
    "newPath = os.path.join('.', 'Test Modules')\n",
    "\n",
    "# Add the path\n",
    "sys.path.append(newPath)\n",
    "\n",
    "sys.path"
   ]
  },
  {
   "cell_type": "markdown",
   "id": "9afd31b5",
   "metadata": {},
   "source": [
    "Note that Python will remember this new path until we restart it. Now let's try to import:"
   ]
  },
  {
   "cell_type": "code",
   "execution_count": 9,
   "id": "1775e80a",
   "metadata": {},
   "outputs": [
    {
     "name": "stdout",
     "output_type": "stream",
     "text": [
      "You just imported the test module #2! Nice!\n"
     ]
    }
   ],
   "source": [
    "import testModule2"
   ]
  },
  {
   "cell_type": "code",
   "execution_count": 10,
   "id": "0760e687",
   "metadata": {},
   "outputs": [
    {
     "name": "stdout",
     "output_type": "stream",
     "text": [
      "Hello! This is a message from the test module!\n"
     ]
    }
   ],
   "source": [
    "testModule2.printMessage()"
   ]
  },
  {
   "cell_type": "markdown",
   "id": "73a2e9cc",
   "metadata": {},
   "source": [
    "***\n",
    "## Packages\n",
    "\n",
    "Packages are simply collections of modules! Packages can also contain \"subpackages\", which in turn can contain modules and subpackages.\n",
    "\n",
    "We've worked with various packages throughout the quarter:\n",
    "- `numpy`\n",
    "- `pandas`\n",
    "- `matplotlib`"
   ]
  },
  {
   "cell_type": "markdown",
   "id": "051759d1",
   "metadata": {},
   "source": [
    "The syntax for importing a package is the same as that of importing a module. **But how can we create and import our own packages?**\n",
    "\n",
    "Consider 3 modules, `subModule1.py`, `subModule2.py`, and `subModule3.py`, which we would like to organize into a package. "
   ]
  },
  {
   "cell_type": "code",
   "execution_count": null,
   "id": "6ee78248",
   "metadata": {},
   "outputs": [],
   "source": [
    "# Contents of subModule1.py\n",
    "\"\"\"\n",
    "This module defines several constants (attributes).\n",
    "\"\"\"\n",
    "\n",
    "attribute1 = 5\n",
    "attribute2 = 'hello'\n",
    "attribute3 = False"
   ]
  },
  {
   "cell_type": "code",
   "execution_count": null,
   "id": "c0bfe766",
   "metadata": {},
   "outputs": [],
   "source": [
    "# Contents of subModule2.py\n",
    "\"\"\"\n",
    "This example module defines several simple functions for performing \n",
    "mathematical operations on two numbers.\n",
    "\"\"\"\n",
    "\n",
    "def addNums(num1, num2):\n",
    "    return num1 + num2\n",
    "\n",
    "def subtractNums(num1, num2):\n",
    "    return num1 - num2\n",
    "\n",
    "def multiplyNums(num1, num2):\n",
    "    return num1 * num2\n",
    "\n",
    "def divideNums(num1, num2):\n",
    "    return num1 * num2"
   ]
  },
  {
   "cell_type": "code",
   "execution_count": null,
   "id": "a69c0ae9",
   "metadata": {},
   "outputs": [],
   "source": [
    "# Contents of subModule3.py\n",
    "\"\"\"\n",
    "This module defines several simple functions for performing string operations\n",
    "\"\"\"\n",
    "\n",
    "import string\n",
    "\n",
    "def removePunctuation(word):\n",
    "    for char in string.punctuation:\n",
    "        word = word.replace(char, '')\n",
    "        \n",
    "    return word\n",
    "\n",
    "def removeDigits(word):\n",
    "    for num in string.digits:\n",
    "        word = word.replace(num, '')\n",
    "        \n",
    "    return word"
   ]
  },
  {
   "cell_type": "markdown",
   "id": "7a054ced",
   "metadata": {},
   "source": [
    "The first step is to put them all in a single directory:"
   ]
  },
  {
   "cell_type": "code",
   "execution_count": null,
   "id": "a0e58d73",
   "metadata": {},
   "outputs": [],
   "source": [
    "# File structure:\n",
    "\n",
    "# .\\\n",
    "    # (This notebook)\n",
    "    \n",
    "    # testModule1.py\n",
    "    \n",
    "    # Test Modules\\\n",
    "        # testModule2.py\n",
    "        \n",
    "        # testPackage\\\n",
    "            # subModule1.py\n",
    "            \n",
    "            # subModule2.py\n",
    "            \n",
    "            # subModule3.py"
   ]
  },
  {
   "cell_type": "markdown",
   "id": "a6999b77",
   "metadata": {},
   "source": [
    "To indicate to Python that this directory is a package, we add a special file, `__init__.py`. This file can be empty, or it can include code that will be executed when the package is imported."
   ]
  },
  {
   "cell_type": "code",
   "execution_count": null,
   "id": "92a722e6",
   "metadata": {},
   "outputs": [],
   "source": [
    "# Contents of __init__.py\n",
    "\"\"\"\n",
    "The __init__file tells Python that this directory is a package. It can be an\n",
    "empty file, or include code that is executed upon importing the package.\n",
    "\"\"\"\n",
    "\n",
    "print('You just imported the test package!')"
   ]
  },
  {
   "cell_type": "code",
   "execution_count": null,
   "id": "d6fda245",
   "metadata": {},
   "outputs": [],
   "source": [
    "# File structure:\n",
    "\n",
    "# .\\\n",
    "    # (This notebook)\n",
    "    \n",
    "    # testModule1.py\n",
    "    \n",
    "    # Test Modules\\\n",
    "        # testModule2.py\n",
    "        \n",
    "        # testPackage\\\n",
    "            # __init__.py\n",
    "            \n",
    "            # subModule1.py\n",
    "            \n",
    "            # subModule2.py\n",
    "            \n",
    "            # subModule3.py"
   ]
  },
  {
   "cell_type": "markdown",
   "id": "b8234242",
   "metadata": {},
   "source": [
    "Now we can import this package as normal (**note**: we already added the directory that `testPackage` is in to `sys.path`, so we don't need to re-add):"
   ]
  },
  {
   "cell_type": "code",
   "execution_count": 11,
   "id": "b0f0d55a",
   "metadata": {},
   "outputs": [
    {
     "name": "stdout",
     "output_type": "stream",
     "text": [
      "You just imported the test package!\n"
     ]
    }
   ],
   "source": [
    "import testPackage"
   ]
  },
  {
   "cell_type": "markdown",
   "id": "0542f8ae",
   "metadata": {},
   "source": [
    "However, by default, the submodules of `testPackage` are not imported:"
   ]
  },
  {
   "cell_type": "code",
   "execution_count": 12,
   "id": "cdd6d0ba",
   "metadata": {},
   "outputs": [
    {
     "ename": "AttributeError",
     "evalue": "module 'testPackage' has no attribute 'subModule1'",
     "output_type": "error",
     "traceback": [
      "\u001b[1;31m---------------------------------------------------------------------------\u001b[0m",
      "\u001b[1;31mAttributeError\u001b[0m                            Traceback (most recent call last)",
      "\u001b[1;32m~\\AppData\\Local\\Temp\\ipykernel_10788\\2267735736.py\u001b[0m in \u001b[0;36m<module>\u001b[1;34m\u001b[0m\n\u001b[0;32m      1\u001b[0m \u001b[1;31m# Try to access attribute2 in subModule1 of testPackage\u001b[0m\u001b[1;33m\u001b[0m\u001b[1;33m\u001b[0m\u001b[0m\n\u001b[1;32m----> 2\u001b[1;33m \u001b[0mtestPackage\u001b[0m\u001b[1;33m.\u001b[0m\u001b[0msubModule1\u001b[0m\u001b[1;33m.\u001b[0m\u001b[0mattribute2\u001b[0m\u001b[1;33m\u001b[0m\u001b[1;33m\u001b[0m\u001b[0m\n\u001b[0m",
      "\u001b[1;31mAttributeError\u001b[0m: module 'testPackage' has no attribute 'subModule1'"
     ]
    }
   ],
   "source": [
    "# Try to access attribute2 in subModule1 of testPackage\n",
    "testPackage.subModule1.attribute2"
   ]
  },
  {
   "cell_type": "markdown",
   "id": "1c427dcf",
   "metadata": {},
   "source": [
    "The easiest way to do this is state the subModules that you would like to import:"
   ]
  },
  {
   "cell_type": "code",
   "execution_count": 13,
   "id": "47036763",
   "metadata": {},
   "outputs": [
    {
     "data": {
      "text/plain": [
       "'hello'"
      ]
     },
     "execution_count": 13,
     "metadata": {},
     "output_type": "execute_result"
    }
   ],
   "source": [
    "from testPackage import subModule1 as sm\n",
    "\n",
    "sm.attribute2"
   ]
  },
  {
   "cell_type": "markdown",
   "id": "f81d090c",
   "metadata": {},
   "source": [
    "Alternatively, if there are certain submodules we would always like to be imported, we can import those in our __init__.py file. Then they will be available simply from importing the overall package."
   ]
  },
  {
   "cell_type": "code",
   "execution_count": null,
   "id": "30117ccc",
   "metadata": {},
   "outputs": [],
   "source": [
    "# Updated __init__.py\n",
    "\"\"\"\n",
    "The __init__file tells Python that this directory is a package. It can be an\n",
    "empty file, or include code that is executed upon importing the package.\n",
    "\"\"\"\n",
    "\n",
    "# Automatically subModule1 whenever testPackage is imported\n",
    "from testPackage import subModule1\n",
    "\n",
    "print('You just imported the test package!')"
   ]
  },
  {
   "cell_type": "code",
   "execution_count": 14,
   "id": "5d92bea0",
   "metadata": {},
   "outputs": [
    {
     "data": {
      "text/plain": [
       "'hello'"
      ]
     },
     "execution_count": 14,
     "metadata": {},
     "output_type": "execute_result"
    }
   ],
   "source": [
    "import testPackage\n",
    "\n",
    "testPackage.subModule1.attribute2"
   ]
  },
  {
   "cell_type": "markdown",
   "id": "0fdb7c1a",
   "metadata": {},
   "source": [
    "Some packages automatically import all submodules (think `numpy`) whereas others don't import any by default (e.g., in `matplotlib`, we manually import submodules like `pyplot` or `colors`)."
   ]
  },
  {
   "cell_type": "markdown",
   "id": "ee7975e7",
   "metadata": {},
   "source": [
    "***\n",
    "## Sharing your code\n",
    "\n",
    "So you've created a package and you want to share it. What's the best way?\n",
    "- Typically, you should use Git. This is ideal for working with small teams, or keeping your code synchronized between several computers.\n",
    "- If you intend for large scale use (e.g., anyone in the world), you could upload it to the __[Python Package Index](https://pypi.org/)__.\n"
   ]
  },
  {
   "cell_type": "markdown",
   "id": "4063b396",
   "metadata": {},
   "source": [
    "## Git\n",
    "\n",
    "Git is a version control software that is used to create and manage repositories of files. To demonstrate Git, we must leave Jupyter Notebook. See the Git quick guide document on the course website.\n",
    "\n",
    "In this quick guide document we cover:\n",
    "- Creating remote repositories using Github\n",
    "- Creating local repositories using the command line/Git Bash\n",
    "- Adding files to a repository\n",
    "- Commiting and pushing changes\n",
    "- Looking at commit history in Github"
   ]
  }
 ],
 "metadata": {
  "kernelspec": {
   "display_name": "Python 3 (ipykernel)",
   "language": "python",
   "name": "python3"
  },
  "language_info": {
   "codemirror_mode": {
    "name": "ipython",
    "version": 3
   },
   "file_extension": ".py",
   "mimetype": "text/x-python",
   "name": "python",
   "nbconvert_exporter": "python",
   "pygments_lexer": "ipython3",
   "version": "3.9.12"
  }
 },
 "nbformat": 4,
 "nbformat_minor": 5
}
