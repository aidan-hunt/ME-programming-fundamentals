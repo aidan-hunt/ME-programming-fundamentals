{
 "cells": [
  {
   "cell_type": "markdown",
   "id": "5192cf11",
   "metadata": {},
   "source": [
    "# Object-Oriented Programming\n",
    "Aidan Hunt, University of Washington\n",
    "Note: These notes cover both Lecture 13 and Lecture 14\n",
    "\n",
    "***\n",
    "\n",
    "## Learning Objectives\n",
    "After this lesson, students will be able to:\n",
    "- Describe the key features of object oriented programming as a concept.\n",
    "- Identify key components of objects in Python, such as data attributes and methods.\n",
    "- Utilize Python syntax for defining and instantiating objects.\n",
    "- Utilize Python syntax for calling object methods.\n",
    "\n",
    "## Check-in\n",
    "- Homework 6 to be assigned this week\n",
    "- Homework 5 grading in progress\n",
    "\n",
    "***"
   ]
  },
  {
   "cell_type": "markdown",
   "id": "5f61cab2",
   "metadata": {},
   "source": [
    "## Framing\n",
    "So far, our programming has been *procedural*: a list of tasks for our computer to execute.\n",
    "Today, we'll explore an alternative framework for writing programs called object-oriented programming, which allows us to create \"objects\" that can accomplish tasks for us in a more flexible and modular way.\n",
    "Object-oriented programming has actually been with us this entire time --- it's how Python and many other programming languages are implemented!"
   ]
  },
  {
   "cell_type": "markdown",
   "id": "eee8486d",
   "metadata": {},
   "source": [
    "***\n",
    "## What is object-oriented programming?\n",
    "\n",
    "*(See slides on course website)*\n",
    "\n",
    "Object-oriented programming (OOP) is a framework for:\n",
    "- Designing your own data structures\n",
    "- Grouping data and corresponding functions/processing methodology together.\n",
    "- Intuitively representing physical objects in the programming space.\n",
    "\n",
    "Motivation: Load Cell\n",
    "- Processing data from load cell occurs in multiple steps. Components may change.\n",
    "- Usual framework: \n",
    "    - Define a function that performs this kind of calculation\n",
    "    - Every time we want to process data, gather the individual pieces (tare, calibration, rotation matrix) and call this function.\n",
    "- OOP framework: create a `LoadCell` **object** that represents the load cell in the programming space.\n",
    "    - This object knows the tare, calibration, rotation of the physical load cell it represents\n",
    "    - This object knows how to process data collected by the physical load cell it represents\n",
    "\n",
    "Advantages of the Object-Oriented Approach\n",
    "- Can give the `LoadCell` object additional functions (e.g., checking data validity, taking tares, estimating rotation matrix) \n",
    "- More interactive\n",
    "- Streamlines processing for multiple load cells\n",
    "\n",
    "We've been using objects this whole time!\n",
    "- NumPy Arrays and DataFrames are objects\n",
    "- Lists and Strings are objects\n",
    "- Everything in Python is an object!"
   ]
  },
  {
   "cell_type": "markdown",
   "id": "2c92785a",
   "metadata": {},
   "source": [
    "***\n",
    "## A simple example of object-oriented programming\n",
    "\n",
    "*(See slides on course website)*\n",
    "\n",
    "An object encapsulates **state** and **behavior**. To unpack what this means, consider an object that represents something that many of us have interacted with: a Music Player (e.g., an iPod).\n",
    "\n",
    "\n",
    "### State\n",
    "**State** of an object is data that describes the object.\n",
    "\n",
    "Music Player state could be described by:\n",
    "- The on/off state\n",
    "- The volume\n",
    "- A list of songs\n",
    "- The color\n",
    "\n",
    "### Behavior\n",
    "**Behavior** of an object are actions that the object can perform. Behaviors often, but not always, operate on the object's state. \n",
    "\n",
    "For our Music Player, its behaviors could be:\n",
    "- Turning the music player on or off.\n",
    "- Increasing or decreasing the volume.\n",
    "- Selecting a song from the list of songs.\n",
    "- Adding a new song to the list of songs.\n",
    "- Shuffling the song list.\n",
    "\n",
    "### Encapsulation\n",
    "An object should **encapsulate** its state and behavior to guide the user experience. The user shouldn't need to know how the object works \"under the hood\" in order to use it.\n",
    " - You don't know all the details about how your Music Player is designed or implemented, but you know how to use it!\n",
    " - Think about the objects that we have used so far (e.g., NumPy arrays).\n",
    "     - Don't know how they are implemented in Python\n",
    "     - But we can easily use them via their associated methods\n",
    "     \n",
    "### Implementing Objects\n",
    "A `class` is a blueprint for how to make an object.\n",
    "- This blueprint defines what it means to be a member of that class.\n",
    "- When you create an instance of a class, you are creating an object from the blueprint. Objects are individuals, even though they share the same blueprint.\n",
    "\n",
    "### Inheritance\n",
    "A class can build upon existing classes and add new state/behavior to the existing blueprint.\n",
    "- This is called \"inheritance\"\n",
    "- This is a way of factoring out redundancy between similar objects"
   ]
  },
  {
   "cell_type": "markdown",
   "id": "9d6cfc88",
   "metadata": {},
   "source": [
    "## Creating a MusicPlayer object in Python\n",
    "\n",
    "### Defining classes\n",
    "Let's create a MusicPlayer class in Python! The key syntax is:\n",
    "- Use the keyword `class`, then the class name.\n",
    "- The keyword `pass` can be used as a placeholder for code-to-be (so we don't get errors)\n",
    "- That's it! We've made a basic class"
   ]
  },
  {
   "cell_type": "code",
   "execution_count": 17,
   "id": "b667b551",
   "metadata": {},
   "outputs": [],
   "source": [
    "# Defining a class\n",
    "class MusicPlayer:\n",
    "    pass"
   ]
  },
  {
   "cell_type": "code",
   "execution_count": 18,
   "id": "12b9f2ae",
   "metadata": {},
   "outputs": [],
   "source": [
    "# Create an instance of that class\n",
    "myMusic = MusicPlayer()"
   ]
  },
  {
   "cell_type": "code",
   "execution_count": 19,
   "id": "649f22d8",
   "metadata": {},
   "outputs": [
    {
     "data": {
      "text/plain": [
       "__main__.MusicPlayer"
      ]
     },
     "execution_count": 19,
     "metadata": {},
     "output_type": "execute_result"
    }
   ],
   "source": [
    "# Check the type of the object that we created\n",
    "type(myMusic)"
   ]
  },
  {
   "cell_type": "markdown",
   "id": "bcd42bde",
   "metadata": {},
   "source": [
    "### Adding object state\n",
    "Okay, we've made a class, but it doesn't do anything. Let's define some state:\n",
    "- Power (on/off)\n",
    "- The volume\n",
    "- A list of songs\n",
    "- The color\n",
    "\n",
    "Now, we can define an \"initializer\" or \"constructor\" that, when our object is created, initializes the state. \n",
    "- This is just a special function.\n",
    "- The indentation shows that this function belongs to the class\n",
    "- The constructor takes a special argument, `self`, which refers to the *instance* of the class being created.\n",
    "- The constructor returns a `MusicPlayer` object, but we don't need to explicitly return it."
   ]
  },
  {
   "cell_type": "code",
   "execution_count": 20,
   "id": "e7bb36d4",
   "metadata": {},
   "outputs": [],
   "source": [
    "# Defining a class\n",
    "class MusicPlayer:\n",
    "            \n",
    "    # Define a constructor\n",
    "    def __init__(self):\n",
    "        self.power = False   # Power is well represented as a boolean\n",
    "        self.volume = 0      # Volume is well represented as a numeric value\n",
    "        self.color = 'black' # Color is well represented as a string\n",
    "        self.songList = []   # Song list is well represented as a list of strings!\n",
    "    "
   ]
  },
  {
   "cell_type": "code",
   "execution_count": 21,
   "id": "62c7c1a3",
   "metadata": {},
   "outputs": [
    {
     "data": {
      "text/plain": [
       "{'power': False, 'volume': 0, 'color': 'black', 'songList': []}"
      ]
     },
     "execution_count": 21,
     "metadata": {},
     "output_type": "execute_result"
    }
   ],
   "source": [
    "# Create an instance of that class\n",
    "myMusic = MusicPlayer()\n",
    "\n",
    "# Look at attributes (returns a dictionary)\n",
    "vars(myMusic)"
   ]
  },
  {
   "cell_type": "markdown",
   "id": "b7f9abb6",
   "metadata": {},
   "source": [
    "You can **access** the attributes of your object using dot notation."
   ]
  },
  {
   "cell_type": "code",
   "execution_count": 22,
   "id": "4564bb80",
   "metadata": {},
   "outputs": [
    {
     "data": {
      "text/plain": [
       "False"
      ]
     },
     "execution_count": 22,
     "metadata": {},
     "output_type": "execute_result"
    }
   ],
   "source": [
    "myMusic.power"
   ]
  },
  {
   "cell_type": "markdown",
   "id": "e734865a",
   "metadata": {},
   "source": [
    "You can also **set** the attributes of your object using dot notation."
   ]
  },
  {
   "cell_type": "markdown",
   "id": "40f5db30",
   "metadata": {},
   "source": [
    "Like any other function, we can add additional inputs to our constructor function.\n",
    "- For example, perhaps we want to set the color on initialization\n",
    "- And perhaps we want to allow the user to provide a list of songs, but default to an empty list\n",
    "- Note that `self.color = color` is assigning the value in the parameter `color` to the attribute `self.color`."
   ]
  },
  {
   "cell_type": "code",
   "execution_count": 23,
   "id": "7411af8f",
   "metadata": {},
   "outputs": [],
   "source": [
    "# Defining a class\n",
    "class MusicPlayer:\n",
    "            \n",
    "    # Define a constructor\n",
    "    def __init__(self, color, songList=[]):\n",
    "        self.power = False   # Power is well represented as a boolean\n",
    "        self.volume = 0      # Volume is well represented as a numeric value\n",
    "        self.color = color # Color is well represented as a string\n",
    "        self.songList = songList   # Song list is well represented as a list of strings!"
   ]
  },
  {
   "cell_type": "code",
   "execution_count": 24,
   "id": "c7dadf5b",
   "metadata": {},
   "outputs": [
    {
     "data": {
      "text/plain": [
       "{'power': False,\n",
       " 'volume': 0,\n",
       " 'color': 'green',\n",
       " 'songList': ['Let it be', 'Clint Eastwood', 'The Water']}"
      ]
     },
     "execution_count": 24,
     "metadata": {},
     "output_type": "execute_result"
    }
   ],
   "source": [
    "myMusic = MusicPlayer('green', ['Let it be', 'Clint Eastwood', 'The Water'])\n",
    "vars(myMusic)"
   ]
  },
  {
   "cell_type": "markdown",
   "id": "e5b6dc85",
   "metadata": {},
   "source": [
    "### Adding Object Behavior\n",
    "Okay, our object has behaviors, now let's make it do things for us. One example was turning the music player on-and-off.\n",
    "- Define within the class block just like the `__init__` function\n",
    "- Since this function is changing the object state, we don't have to return anything.\n",
    "- Include docstrings as normal!"
   ]
  },
  {
   "cell_type": "code",
   "execution_count": 25,
   "id": "0b5764e7",
   "metadata": {},
   "outputs": [],
   "source": [
    "# Defining a class\n",
    "class MusicPlayer:\n",
    "            \n",
    "    # Define a constructor\n",
    "    def __init__(self, color, songList=[]):\n",
    "        '''\n",
    "        Constructs and returns a MusicPlayer object with the given and,\n",
    "        if provided, the given song list. The MusicPlayer's power is\n",
    "        initialized to False and the MusicPlayer's volume is initialized\n",
    "        to 0.\n",
    "        '''\n",
    "        self.power = False   # Power is well represented as a boolean\n",
    "        self.volume = 0      # Volume is well represented as a numeric value\n",
    "        self.color = color # Color is well represented as a string\n",
    "        self.songList = songList   # Song list is well represented as a list of strings!\n",
    "    \n",
    "    # Define a function for turning the MusicPlayer on and off\n",
    "    def togglePower(self):\n",
    "        '''\n",
    "        Toggles the MusicPlayer power. If the MusicPlayer is off, turns\n",
    "        it on. If on, turns it off. A message is printed displaying the\n",
    "        new power state.\n",
    "        '''\n",
    "        # Invert power\n",
    "        self.power = not self.power\n",
    "        \n",
    "        # Print message\n",
    "        if self.power:\n",
    "            print('Powering music player on.')\n",
    "        else:\n",
    "            print('Powering music player off.')\n",
    "    "
   ]
  },
  {
   "cell_type": "code",
   "execution_count": 26,
   "id": "3c12cf83",
   "metadata": {},
   "outputs": [
    {
     "ename": "AttributeError",
     "evalue": "'MusicPlayer' object has no attribute 'togglePower'",
     "output_type": "error",
     "traceback": [
      "\u001b[1;31m---------------------------------------------------------------------------\u001b[0m",
      "\u001b[1;31mAttributeError\u001b[0m                            Traceback (most recent call last)",
      "\u001b[1;32m~\\AppData\\Local\\Temp\\ipykernel_2896\\3312038632.py\u001b[0m in \u001b[0;36m<module>\u001b[1;34m\u001b[0m\n\u001b[0;32m      1\u001b[0m \u001b[1;31m# Note that we must recreate the instance if we have changed the class (instance does not update automatically)\u001b[0m\u001b[1;33m\u001b[0m\u001b[1;33m\u001b[0m\u001b[0m\n\u001b[1;32m----> 2\u001b[1;33m \u001b[0mmyMusic\u001b[0m\u001b[1;33m.\u001b[0m\u001b[0mtogglePower\u001b[0m\u001b[1;33m(\u001b[0m\u001b[1;33m)\u001b[0m\u001b[1;33m\u001b[0m\u001b[1;33m\u001b[0m\u001b[0m\n\u001b[0m",
      "\u001b[1;31mAttributeError\u001b[0m: 'MusicPlayer' object has no attribute 'togglePower'"
     ]
    }
   ],
   "source": [
    "# Note that we must recreate the instance if we have changed the class (instance does not update automatically)\n",
    "myMusic.togglePower()"
   ]
  },
  {
   "cell_type": "code",
   "execution_count": 27,
   "id": "93b1f158",
   "metadata": {},
   "outputs": [
    {
     "name": "stdout",
     "output_type": "stream",
     "text": [
      "Powering music player on.\n",
      "Powering music player off.\n",
      "Powering music player on.\n"
     ]
    }
   ],
   "source": [
    "# Create object (power is off by default)\n",
    "myMusic = MusicPlayer('green', ['Let it be', 'Clint Eastwood', 'The Water'])\n",
    "\n",
    "# Toggle power\n",
    "myMusic.togglePower()\n",
    "\n",
    "# Toggle power\n",
    "myMusic.togglePower()\n",
    "\n",
    "# Toggle power\n",
    "myMusic.togglePower()"
   ]
  },
  {
   "cell_type": "markdown",
   "id": "e6d51a86",
   "metadata": {},
   "source": [
    "Let's add some behavior for changing up the song data:\n",
    "- **A function for changing the volume**\n",
    "    - Takes in a number (numeric value expected)\n",
    "    - If the number is between 0 and 100, set it as the new volume\n",
    "    - Otherwise, print a message saying invalid volume, and don't change the volume\n",
    "- **A function for adding a song to the songlist**\n",
    "    - Takes an song input (string expected)\n",
    "    - If its a string, adds it to the list\n",
    "    - Adds it to the list\n",
    "- **A function for playing a song**\n",
    "    - Takes an integer representing the index of the song in the que to play\n",
    "    - If the integer is a valid index for a song in the list\n",
    "        - pop it from the songList\n",
    "        - print the message `\"Now playing <songName>\"`\n",
    "        - return the popped song\n",
    "    - If the integer is an invalid index for a song in the list\n",
    "        - print message `\"Cannot play song\"`\n",
    "        - return None\n",
    "    \n",
    "Try these on your own, and then we'll do them together.\n",
    "Assume for now that the user will enter valid inputs."
   ]
  },
  {
   "cell_type": "code",
   "execution_count": 28,
   "id": "1c19de02",
   "metadata": {},
   "outputs": [],
   "source": [
    "# Defining a class\n",
    "class MusicPlayer:\n",
    "            \n",
    "    # Define a constructor\n",
    "    def __init__(self, color, songList=[]):\n",
    "        '''\n",
    "        Constructs and returns a MusicPlayer object with the given and,\n",
    "        if provided, the given song list. The MusicPlayer's power is\n",
    "        initialized to False and the MusicPlayer's volume is initialized\n",
    "        to 0.\n",
    "        '''\n",
    "        self.power = False   # Power is well represented as a boolean\n",
    "        self.volume = 0      # Volume is well represented as a numeric value\n",
    "        self.color = color # Color is well represented as a string\n",
    "        self.songList = songList   # Song list is well represented as a list of strings!\n",
    "    \n",
    "    # MusicPlayer related behaviors\n",
    "    \n",
    "    def togglePower(self):\n",
    "        '''\n",
    "        Toggles the MusicPlayer power. If the MusicPlayer is off, turns\n",
    "        it on. If on, turns it off. A message is printed displaying the\n",
    "        new power state.\n",
    "        '''\n",
    "        # Invert power\n",
    "        self.power = not self.power\n",
    "        \n",
    "        # Print message\n",
    "        if self.power:\n",
    "            print('Powering music player on.')\n",
    "        else:\n",
    "            print('Powering music player off.')\n",
    "    \n",
    "    def changeVolume(self, newVolume):\n",
    "        '''\n",
    "        Given a new volume value between 0 and 100,\n",
    "        sets the volume to be that value. If the volume\n",
    "        value is invalid, the volume is not change and a\n",
    "        message is printed.\n",
    "        '''\n",
    "        if 0 <= newVolume <= 100:\n",
    "            self.volume = newVolume\n",
    "        else:\n",
    "            print('Invalid volume provided.')\n",
    "            \n",
    "    def addSong(self, song):\n",
    "        '''\n",
    "        Given a song name (as a string), adds the song\n",
    "        to the song list if it a string. Otherwise, a\n",
    "        message is printed saying the song cannot be added.\n",
    "        '''\n",
    "        if isinstance(song, str):\n",
    "            self.songList.append(song)\n",
    "        else:\n",
    "            print(song, 'cannot be added to the queue.')\n",
    "            \n",
    "    def playSong(self, songNumber):\n",
    "        '''\n",
    "        Given the index of a song in the songList, removes\n",
    "        the song from the list and \"plays\" it, and returns\n",
    "        the song name as a string. If the songNumber\n",
    "        provided is not a valid index, prints a message stating\n",
    "        so.\n",
    "        '''\n",
    "        if 0 <= songNumber < len(self.songList):\n",
    "            currSong = self.songList.pop(songNumber)\n",
    "            print('Now playing:', currSong)\n",
    "            return currSong\n",
    "        else:\n",
    "            print('Cannot play song.')\n",
    "            return None\n",
    "            "
   ]
  },
  {
   "cell_type": "code",
   "execution_count": 29,
   "id": "35bc115b",
   "metadata": {},
   "outputs": [],
   "source": [
    "# Create object (power is off by default)\n",
    "myMusic = MusicPlayer('green', ['Let it be', 'Clint Eastwood', 'The Water'])"
   ]
  },
  {
   "cell_type": "code",
   "execution_count": 30,
   "id": "e0ba0e36",
   "metadata": {},
   "outputs": [
    {
     "data": {
      "text/plain": [
       "{'power': False,\n",
       " 'volume': 50,\n",
       " 'color': 'green',\n",
       " 'songList': ['Let it be', 'Clint Eastwood', 'The Water']}"
      ]
     },
     "execution_count": 30,
     "metadata": {},
     "output_type": "execute_result"
    }
   ],
   "source": [
    "# Change volume\n",
    "myMusic.changeVolume(50)\n",
    "vars(myMusic)"
   ]
  },
  {
   "cell_type": "code",
   "execution_count": 31,
   "id": "580f5598",
   "metadata": {},
   "outputs": [
    {
     "name": "stdout",
     "output_type": "stream",
     "text": [
      "Invalid volume provided.\n"
     ]
    }
   ],
   "source": [
    "# Try an invalid volume\n",
    "myMusic.changeVolume(-90)"
   ]
  },
  {
   "cell_type": "code",
   "execution_count": 32,
   "id": "2d05f70c",
   "metadata": {},
   "outputs": [
    {
     "data": {
      "text/plain": [
       "{'power': False,\n",
       " 'volume': 50,\n",
       " 'color': 'green',\n",
       " 'songList': ['Let it be', 'Clint Eastwood', 'The Water', 'Transatlantacism']}"
      ]
     },
     "execution_count": 32,
     "metadata": {},
     "output_type": "execute_result"
    }
   ],
   "source": [
    "# Add a song\n",
    "myMusic.addSong('Transatlantacism')\n",
    "vars(myMusic)"
   ]
  },
  {
   "cell_type": "code",
   "execution_count": 33,
   "id": "5f2978d2",
   "metadata": {},
   "outputs": [
    {
     "name": "stdout",
     "output_type": "stream",
     "text": [
      "Now playing: Clint Eastwood\n"
     ]
    },
    {
     "data": {
      "text/plain": [
       "'Clint Eastwood'"
      ]
     },
     "execution_count": 33,
     "metadata": {},
     "output_type": "execute_result"
    }
   ],
   "source": [
    "# Play a song\n",
    "myMusic.playSong(1)"
   ]
  },
  {
   "cell_type": "code",
   "execution_count": 34,
   "id": "601453b7",
   "metadata": {},
   "outputs": [
    {
     "name": "stdout",
     "output_type": "stream",
     "text": [
      "Cannot play song.\n"
     ]
    }
   ],
   "source": [
    "# Play an invalid song\n",
    "myMusic.playSong(50)"
   ]
  },
  {
   "cell_type": "markdown",
   "id": "2580b322",
   "metadata": {},
   "source": [
    "### Special behavior: Type conversion\n",
    "\n",
    "What happens if we print our music player?"
   ]
  },
  {
   "cell_type": "code",
   "execution_count": 35,
   "id": "c93bb373",
   "metadata": {},
   "outputs": [
    {
     "name": "stdout",
     "output_type": "stream",
     "text": [
      "<__main__.MusicPlayer object at 0x0000022640422A60>\n"
     ]
    }
   ],
   "source": [
    "print(myMusic)"
   ]
  },
  {
   "cell_type": "markdown",
   "id": "f257eb12",
   "metadata": {},
   "source": [
    "We just get the usual weird message saying where the MusicPlayer is stored in memory.\n",
    "But we can overwrite this with a special `__str__` function (see bottom-most function).\n",
    "\n",
    "**Note**: Just like `__init__`, these special methods that start and end with two underscores that are meant to be called by Python, but never directly by the user."
   ]
  },
  {
   "cell_type": "code",
   "execution_count": 36,
   "id": "5cd80c2d",
   "metadata": {},
   "outputs": [],
   "source": [
    "# Defining a class\n",
    "class MusicPlayer:\n",
    "            \n",
    "    # Define a constructor\n",
    "    def __init__(self, color, songList=[]):\n",
    "        '''\n",
    "        Constructs and returns a MusicPlayer object with the given and,\n",
    "        if provided, the given song list. The MusicPlayer's power is\n",
    "        initialized to False and the MusicPlayer's volume is initialized\n",
    "        to 0.\n",
    "        '''\n",
    "        self.power = False   # Power is well represented as a boolean\n",
    "        self.volume = 0      # Volume is well represented as a numeric value\n",
    "        self.color = color # Color is well represented as a string\n",
    "        self.songList = songList   # Song list is well represented as a list of strings!\n",
    "    \n",
    "    # MusicPlayer related behaviors\n",
    "    \n",
    "    def togglePower(self):\n",
    "        '''\n",
    "        Toggles the MusicPlayer power. If the MusicPlayer is off, turns\n",
    "        it on. If on, turns it off. A message is printed displaying the\n",
    "        new power state.\n",
    "        '''\n",
    "        # Invert power\n",
    "        self.power = not self.power\n",
    "        \n",
    "        # Print message\n",
    "        if self.power:\n",
    "            print('Powering music player on.')\n",
    "        else:\n",
    "            print('Powering music player off.')\n",
    "    \n",
    "    def changeVolume(self, newVolume):\n",
    "        '''\n",
    "        Given a new volume value between 0 and 100,\n",
    "        sets the volume to be that value. If the volume\n",
    "        value is invalid, the volume is not change and a\n",
    "        message is printed.\n",
    "        '''\n",
    "        if 0 <= newVolume <= 100:\n",
    "            self.volume = newVolume\n",
    "        else:\n",
    "            print('Invalid volume provided.')\n",
    "            \n",
    "    def addSong(self, song):\n",
    "        '''\n",
    "        Given a song name (as a string), adds the song\n",
    "        to the song list if it a string. Otherwise, a\n",
    "        message is printed saying the song cannot be added.\n",
    "        '''\n",
    "        if isinstance(song, str):\n",
    "            self.songList.append(song)\n",
    "        else:\n",
    "            print(song, 'cannot be added to the queue.')\n",
    "            \n",
    "    def playSong(self, songNumber):\n",
    "        '''\n",
    "        Given the index of a song in the songList, removes\n",
    "        the song from the list and \"plays\" it, and returns\n",
    "        the song name as a string. If the songNumber\n",
    "        provided is not a valid index, prints a message stating\n",
    "        so.\n",
    "        '''\n",
    "        if 0 <= songNumber < len(self.songList):\n",
    "            currSong = self.songList.pop(songNumber)\n",
    "            print('Now playing:', currSong)\n",
    "            return currSong\n",
    "        else:\n",
    "            print('Cannot play song.')\n",
    "            return None  \n",
    "        \n",
    "    # Methods for type conversion\n",
    "        \n",
    "    def __str__(self):\n",
    "        '''\n",
    "        Returns the songList of the MusicPlayer\n",
    "        as its string representation.\n",
    "        '''\n",
    "        return str(self.songList)"
   ]
  },
  {
   "cell_type": "code",
   "execution_count": 37,
   "id": "30bedc28",
   "metadata": {},
   "outputs": [
    {
     "name": "stdout",
     "output_type": "stream",
     "text": [
      "['Let it be', 'Clint Eastwood', 'The Water']\n"
     ]
    }
   ],
   "source": [
    "# Create object (power is off by default)\n",
    "myMusic = MusicPlayer('green', ['Let it be', 'Clint Eastwood', 'The Water'])\n",
    "print(myMusic)"
   ]
  },
  {
   "cell_type": "markdown",
   "id": "51778a57",
   "metadata": {},
   "source": [
    "We can define this type of method for converting our music player to other types. For example, say that we want `int(myMusic)` and `float(myMusic)` to represent the MusicPlayer as the length of the song list. Then (see final methods):"
   ]
  },
  {
   "cell_type": "code",
   "execution_count": 38,
   "id": "b949f49a",
   "metadata": {},
   "outputs": [],
   "source": [
    "# Defining a class\n",
    "class MusicPlayer:\n",
    "            \n",
    "    # Define a constructor\n",
    "    def __init__(self, color, songList=[]):\n",
    "        '''\n",
    "        Constructs and returns a MusicPlayer object with the given and,\n",
    "        if provided, the given song list. The MusicPlayer's power is\n",
    "        initialized to False and the MusicPlayer's volume is initialized\n",
    "        to 0.\n",
    "        '''\n",
    "        self.power = False   # Power is well represented as a boolean\n",
    "        self.volume = 0      # Volume is well represented as a numeric value\n",
    "        self.color = color # Color is well represented as a string\n",
    "        self.songList = songList   # Song list is well represented as a list of strings!\n",
    "    \n",
    "    # MusicPlayer related behaviors\n",
    "    \n",
    "    def togglePower(self):\n",
    "        '''\n",
    "        Toggles the MusicPlayer power. If the MusicPlayer is off, turns\n",
    "        it on. If on, turns it off. A message is printed displaying the\n",
    "        new power state.\n",
    "        '''\n",
    "        # Invert power\n",
    "        self.power = not self.power\n",
    "        \n",
    "        # Print message\n",
    "        if self.power:\n",
    "            print('Powering music player on.')\n",
    "        else:\n",
    "            print('Powering music player off.')\n",
    "    \n",
    "    def changeVolume(self, newVolume):\n",
    "        '''\n",
    "        Given a new volume value between 0 and 100,\n",
    "        sets the volume to be that value. If the volume\n",
    "        value is invalid, the volume is not change and a\n",
    "        message is printed.\n",
    "        '''\n",
    "        if 0 <= newVolume <= 100:\n",
    "            self.volume = newVolume\n",
    "        else:\n",
    "            print('Invalid volume provided.')\n",
    "            \n",
    "    def addSong(self, song):\n",
    "        '''\n",
    "        Given a song name (as a string), adds the song\n",
    "        to the song list if it a string. Otherwise, a\n",
    "        message is printed saying the song cannot be added.\n",
    "        '''\n",
    "        if isinstance(song, str):\n",
    "            self.songList.append(song)\n",
    "        else:\n",
    "            print(song, 'cannot be added to the queue.')\n",
    "            \n",
    "    def playSong(self, songNumber):\n",
    "        '''\n",
    "        Given the index of a song in the songList, removes\n",
    "        the song from the list and \"plays\" it, and returns\n",
    "        the song name as a string. If the songNumber\n",
    "        provided is not a valid index, prints a message stating\n",
    "        so.\n",
    "        '''\n",
    "        if 0 <= songNumber < len(self.songList):\n",
    "            currSong = self.songList.pop(songNumber)\n",
    "            print('Now playing:', currSong)\n",
    "            return currSong\n",
    "        else:\n",
    "            print('Cannot play song.')\n",
    "            return None  \n",
    "        \n",
    "    # Methods for type conversion\n",
    "        \n",
    "    def __str__(self):\n",
    "        '''\n",
    "        Returns the songList of the MusicPlayer\n",
    "        as its string representation.\n",
    "        '''\n",
    "        return str(self.songList)\n",
    "    \n",
    "    def __int__(self):\n",
    "        '''\n",
    "        Returns the length of the songList of the MusicPlayer\n",
    "        as its int representation.\n",
    "        '''\n",
    "        return len(self.songList)\n",
    "    \n",
    "    def __float__(self):\n",
    "        '''\n",
    "        Returns the length of the songList of the MusicPlayer\n",
    "        as its float representation.\n",
    "        '''\n",
    "        return float(self.__int__())"
   ]
  },
  {
   "cell_type": "code",
   "execution_count": 39,
   "id": "9374cca8",
   "metadata": {},
   "outputs": [],
   "source": [
    "# Create object (power is off by default)\n",
    "myMusic = MusicPlayer('green', ['Let it be', 'Clint Eastwood', 'The Water'])"
   ]
  },
  {
   "cell_type": "code",
   "execution_count": 40,
   "id": "e50a83f3",
   "metadata": {},
   "outputs": [
    {
     "data": {
      "text/plain": [
       "3"
      ]
     },
     "execution_count": 40,
     "metadata": {},
     "output_type": "execute_result"
    }
   ],
   "source": [
    "int(myMusic)"
   ]
  },
  {
   "cell_type": "code",
   "execution_count": 41,
   "id": "f792b42b",
   "metadata": {},
   "outputs": [
    {
     "data": {
      "text/plain": [
       "3.0"
      ]
     },
     "execution_count": 41,
     "metadata": {},
     "output_type": "execute_result"
    }
   ],
   "source": [
    "float(myMusic)"
   ]
  },
  {
   "cell_type": "markdown",
   "id": "72fda3fc",
   "metadata": {},
   "source": [
    "## Inheritance: Superclasses and subclasses\n",
    "\n",
    "Now let's consider a `SmartPhone` object, which we want to share several aspects of the `MusicPlayer` object, but with some specialized behavior. The `SmartPhone` class can \"inherit\" from the MusicPlayer class."
   ]
  },
  {
   "cell_type": "code",
   "execution_count": 42,
   "id": "252c2e62",
   "metadata": {},
   "outputs": [],
   "source": [
    "# Define smartphone class\n",
    "class SmartPhone(MusicPlayer):\n",
    "    pass"
   ]
  },
  {
   "cell_type": "code",
   "execution_count": 43,
   "id": "4eca9b74",
   "metadata": {},
   "outputs": [
    {
     "data": {
      "text/plain": [
       "{'power': False, 'volume': 0, 'color': 'black', 'songList': []}"
      ]
     },
     "execution_count": 43,
     "metadata": {},
     "output_type": "execute_result"
    }
   ],
   "source": [
    "# Create a smartphone using the same syntax as a MusicPlayer\n",
    "# The SmartPhone looks exactly like a MusicPlayer!\n",
    "sp = SmartPhone('black')\n",
    "vars(sp)"
   ]
  },
  {
   "cell_type": "markdown",
   "id": "ad3949a5",
   "metadata": {},
   "source": [
    "Based on the code above, a SmartPhone is the same as a MusicPlayer. But we can add new state and behavior entirely, or modify existing state/behavior. For example:\n",
    "- Let's modify the constructor to add a new attribute, `.contacts`, a list of names\n",
    "- Let's add a new function: given a name input, \"call\" the name if it is in the contacts list"
   ]
  },
  {
   "cell_type": "code",
   "execution_count": 44,
   "id": "7f70c94a",
   "metadata": {},
   "outputs": [],
   "source": [
    "# Define smartphone class\n",
    "class SmartPhone(MusicPlayer):\n",
    "    \n",
    "    # Constructor: updated with new attribute \n",
    "    def __init__(self, color, songList=[], contacts=[]):\n",
    "        '''\n",
    "        Constructs and returns a SmartPhone object with the given color, and,\n",
    "        if provided, the given song list and contact list. The MusicPlayer's \n",
    "        power is initialized to False and the MusicPlayer's volume \n",
    "        is initialized to 0.\n",
    "        '''\n",
    "        # Add the new state\n",
    "        self.contacts = contacts\n",
    "        \n",
    "        # Call the superclass constructor to do the rest\n",
    "        super().__init__(color, songList)\n",
    "        \n",
    "    # Add a new function for calling a contact\n",
    "    def call(self, name):\n",
    "        '''\n",
    "        Given the name of a contact to call, \"calls\" the contact\n",
    "        if the name is in the contacts list. Otherwise, a message\n",
    "        is printed saying that the contact was not found.\n",
    "        '''\n",
    "        if name in self.contacts:\n",
    "            print('Calling', name)\n",
    "        else:\n",
    "            print(name, 'not found in contact list.')\n",
    "            \n",
    "    # Overwrite an old function: toggling the power\n",
    "    def togglePower(self):\n",
    "        '''\n",
    "        Toggles the MusicPlayer power. If the MusicPlayer is off, turns\n",
    "        it on. If on, turns it off. A message is printed displaying the\n",
    "        new power state.\n",
    "        '''\n",
    "        # Invert power\n",
    "        self.power = not self.power\n",
    "        \n",
    "        # Print message\n",
    "        if self.power:\n",
    "            print('Powering smart phone on.')\n",
    "        else:\n",
    "            print('Powering smart phone off.')"
   ]
  },
  {
   "cell_type": "code",
   "execution_count": 45,
   "id": "2078d76d",
   "metadata": {},
   "outputs": [],
   "source": [
    "# Create a SmartPhone object\n",
    "sp = SmartPhone('pink', songList=['Let it be', 'Clint Eastwood', 'The Water'], \n",
    "                contacts=['Aidan', 'Stacey', 'Conor', 'Brittany'])"
   ]
  },
  {
   "cell_type": "code",
   "execution_count": 46,
   "id": "32420bbf",
   "metadata": {},
   "outputs": [
    {
     "name": "stdout",
     "output_type": "stream",
     "text": [
      "Powering smart phone on.\n",
      "Powering smart phone off.\n"
     ]
    }
   ],
   "source": [
    "# Use overwritten superclass method, like toggling power\n",
    "sp.togglePower()\n",
    "sp.togglePower()"
   ]
  },
  {
   "cell_type": "code",
   "execution_count": 47,
   "id": "dff96bbf",
   "metadata": {},
   "outputs": [
    {
     "name": "stdout",
     "output_type": "stream",
     "text": [
      "Now playing: Clint Eastwood\n"
     ]
    },
    {
     "data": {
      "text/plain": [
       "'Clint Eastwood'"
      ]
     },
     "execution_count": 47,
     "metadata": {},
     "output_type": "execute_result"
    }
   ],
   "source": [
    "# Use unaltered superclass method, like playing a song\n",
    "sp.playSong(1)"
   ]
  },
  {
   "cell_type": "code",
   "execution_count": 48,
   "id": "2fcb0665",
   "metadata": {},
   "outputs": [
    {
     "name": "stdout",
     "output_type": "stream",
     "text": [
      "Calling Aidan\n"
     ]
    }
   ],
   "source": [
    "# Use new method defined by the smartphone subclass\n",
    "sp.call('Aidan')"
   ]
  },
  {
   "cell_type": "markdown",
   "id": "e30cb9b4",
   "metadata": {},
   "source": [
    "### Type meaning for subclasses\n",
    "\n",
    "What type is a `SmartPhone` object?"
   ]
  },
  {
   "cell_type": "code",
   "execution_count": 49,
   "id": "1eafdce7",
   "metadata": {},
   "outputs": [
    {
     "data": {
      "text/plain": [
       "__main__.SmartPhone"
      ]
     },
     "execution_count": 49,
     "metadata": {},
     "output_type": "execute_result"
    }
   ],
   "source": [
    "type(sp)"
   ]
  },
  {
   "cell_type": "code",
   "execution_count": 50,
   "id": "2f9420f2",
   "metadata": {},
   "outputs": [
    {
     "data": {
      "text/plain": [
       "True"
      ]
     },
     "execution_count": 50,
     "metadata": {},
     "output_type": "execute_result"
    }
   ],
   "source": [
    "# Check to see if sp is a SmartPhone object\n",
    "isinstance(sp, SmartPhone)"
   ]
  },
  {
   "cell_type": "code",
   "execution_count": 51,
   "id": "407b23c9",
   "metadata": {},
   "outputs": [
    {
     "data": {
      "text/plain": [
       "True"
      ]
     },
     "execution_count": 51,
     "metadata": {},
     "output_type": "execute_result"
    }
   ],
   "source": [
    "# Check to see if sp is a MusicPlayer object\n",
    "isinstance(sp, MusicPlayer)"
   ]
  },
  {
   "cell_type": "markdown",
   "id": "5328ae60",
   "metadata": {},
   "source": [
    "The `SmartPhone` object represented by `sp` is an instance of both the `SmartPhone` subclass and the `MusicPlayer` superclass! It is a member of both categories because of the superclass-subclass relationship between `MusicPlayer` and `SmartPhone`."
   ]
  },
  {
   "cell_type": "markdown",
   "id": "52b7bf1f",
   "metadata": {},
   "source": [
    "## Privacy\n",
    "\n",
    "How do we prevent someone from doing this and breaking our object (on accident or on purpose)?"
   ]
  },
  {
   "cell_type": "code",
   "execution_count": 52,
   "id": "eeed2267",
   "metadata": {},
   "outputs": [
    {
     "data": {
      "text/plain": [
       "{'contacts': ['Aidan', 'Stacey', 'Conor', 'Brittany'],\n",
       " 'power': False,\n",
       " 'volume': 0,\n",
       " 'color': 'pink',\n",
       " 'songList': 12345}"
      ]
     },
     "execution_count": 52,
     "metadata": {},
     "output_type": "execute_result"
    }
   ],
   "source": [
    "# Changing the songList property to something that is not valid.\n",
    "sp.songList = 12345\n",
    "vars(sp)"
   ]
  },
  {
   "cell_type": "code",
   "execution_count": 53,
   "id": "202abab3",
   "metadata": {},
   "outputs": [
    {
     "data": {
      "text/plain": [
       "{'contacts': ['Aidan', 'Stacey', 'Conor', 'Brittany'],\n",
       " 'power': False,\n",
       " 'volume': 0,\n",
       " 'color': 'pink',\n",
       " 'songList': 12345,\n",
       " 'newAttribute': 'Hello'}"
      ]
     },
     "execution_count": 53,
     "metadata": {},
     "output_type": "execute_result"
    }
   ],
   "source": [
    "# Adding a brand new attribute that doesn't mean anything\n",
    "sp.newAttribute = 'Hello'\n",
    "vars(sp)"
   ]
  },
  {
   "cell_type": "markdown",
   "id": "b35de05e",
   "metadata": {},
   "source": [
    "There are ways to enforce certain conditions on object attributes, but they get very complicated very quickly.\n",
    "- Python is a very \"open\" language, so enforcing types/shapes/formats for objects can be challenging.\n",
    "- Culture is to document your functions it is clear what inputs/data types, etc are expected. Then it is the user's fault if something breaks.\n",
    "- But if there are SAFETY concerns with your object breaking (e.g., motor control), then adding stricter privacy may be useful.\n",
    "\n",
    "There are many ways to do it, and each have their own tradeoffs.\n",
    "- Implementing \"properties\" (e.g., attributes with special associated getter/setter functions)\n",
    "- `__slots__` properties for preventing new attributes\n",
    "- I encourage you to look into this further if you are interested."
   ]
  },
  {
   "cell_type": "code",
   "execution_count": 54,
   "id": "d672c2b6",
   "metadata": {},
   "outputs": [],
   "source": [
    "# Example of setter and getter methods for a color property (see last methods)\n",
    "\n",
    "class MusicPlayer:\n",
    "            \n",
    "    # Define a constructor\n",
    "    def __init__(self, color, songList=[]):\n",
    "        '''\n",
    "        Constructs and returns a MusicPlayer object with the given and,\n",
    "        if provided, the given song list. The MusicPlayer's power is\n",
    "        initialized to False and the MusicPlayer's volume is initialized\n",
    "        to 0.\n",
    "        '''\n",
    "        self.power = False   # Power is well represented as a boolean\n",
    "        self.volume = 0      # Volume is well represented as a numeric value\n",
    "        self.color = color # Color is well represented as a string\n",
    "        self.songList = songList   # Song list is well represented as a list of strings!\n",
    "    \n",
    "    # MusicPlayer related behaviors\n",
    "    \n",
    "    def togglePower(self):\n",
    "        '''\n",
    "        Toggles the MusicPlayer power. If the MusicPlayer is off, turns\n",
    "        it on. If on, turns it off. A message is printed displaying the\n",
    "        new power state.\n",
    "        '''\n",
    "        # Invert power\n",
    "        self.power = not self.power\n",
    "        \n",
    "        # Print message\n",
    "        if self.power:\n",
    "            print('Powering music player on.')\n",
    "        else:\n",
    "            print('Powering music player off.')\n",
    "    \n",
    "    def changeVolume(self, newVolume):\n",
    "        '''\n",
    "        Given a new volume value between 0 and 100,\n",
    "        sets the volume to be that value. If the volume\n",
    "        value is invalid, the volume is not change and a\n",
    "        message is printed.\n",
    "        '''\n",
    "        if 0 <= newVolume <= 100:\n",
    "            self.volume = newVolume\n",
    "        else:\n",
    "            print('Invalid volume provided.')\n",
    "            \n",
    "    def addSong(self, song):\n",
    "        '''\n",
    "        Given a song name (as a string), adds the song\n",
    "        to the song list if it a string. Otherwise, a\n",
    "        message is printed saying the song cannot be added.\n",
    "        '''\n",
    "        if isinstance(song, str):\n",
    "            self.songList.append(song)\n",
    "        else:\n",
    "            print(song, 'cannot be added to the queue.')\n",
    "            \n",
    "    def playSong(self, songNumber):\n",
    "        '''\n",
    "        Given the index of a song in the songList, removes\n",
    "        the song from the list and \"plays\" it, and returns\n",
    "        the song name as a string. If the songNumber\n",
    "        provided is not a valid index, prints a message stating\n",
    "        so.\n",
    "        '''\n",
    "        if 0 <= songNumber < len(self.songList):\n",
    "            currSong = self.songList.pop(songNumber)\n",
    "            print('Now playing:', currSong)\n",
    "            return currSong\n",
    "        else:\n",
    "            print('Cannot play song.')\n",
    "            return None \n",
    "        \n",
    "    # Type conversion methods\n",
    "        \n",
    "    def __str__(self):\n",
    "        '''\n",
    "        Returns the songList of the MusicPlayer\n",
    "        as its string representation.\n",
    "        '''\n",
    "        return str(self.songList)\n",
    "    \n",
    "    def __int__(self):\n",
    "        '''\n",
    "        Returns the length of the songList of the MusicPlayer\n",
    "        as its int representation.\n",
    "        '''\n",
    "        return len(self.songList)\n",
    "    \n",
    "    def __float__(self):\n",
    "        '''\n",
    "        Returns the length of the songList of the MusicPlayer\n",
    "        as its float representation.\n",
    "        '''\n",
    "        return float(self.__int__())\n",
    "    \n",
    "    # Setting/getting methods for the color property\n",
    "    \n",
    "    @property\n",
    "    def color(self):\n",
    "        '''\n",
    "        This function defines what is returned to the user when they use\n",
    "        dot notation to get the color attribute of a MusicPlayer. Here,\n",
    "        we are just returning value of the color attribute directly.\n",
    "        Note that we are using a \"private\" attribute ._color, whereas\n",
    "        .color is now a \"property\".\n",
    "        '''\n",
    "        return self._color\n",
    "        \n",
    "    @color.setter\n",
    "    def color(self, newColor):\n",
    "        '''\n",
    "        This function defines what is returned to the user when they use\n",
    "        dot notation to try to set the color attribute of a MusicPlayer.\n",
    "        If the newColor provided is a string, we set the color attribute to \n",
    "        be newColor. Otherwise, we raise a TypeError.\n",
    "        '''\n",
    "        if type(newColor) == str:\n",
    "            self._color = newColor\n",
    "        else:\n",
    "            raise TypeError('Provided color must be of type str.')\n",
    "    "
   ]
  },
  {
   "cell_type": "code",
   "execution_count": 55,
   "id": "4092a137",
   "metadata": {},
   "outputs": [],
   "source": [
    "myMusic = MusicPlayer('green')"
   ]
  },
  {
   "cell_type": "code",
   "execution_count": 56,
   "id": "4ac825e2",
   "metadata": {},
   "outputs": [
    {
     "data": {
      "text/plain": [
       "'green'"
      ]
     },
     "execution_count": 56,
     "metadata": {},
     "output_type": "execute_result"
    }
   ],
   "source": [
    "# Get the color (like before)\n",
    "myMusic.color"
   ]
  },
  {
   "cell_type": "code",
   "execution_count": 57,
   "id": "cb5e7d19",
   "metadata": {},
   "outputs": [
    {
     "data": {
      "text/plain": [
       "'Pink'"
      ]
     },
     "execution_count": 57,
     "metadata": {},
     "output_type": "execute_result"
    }
   ],
   "source": [
    "# Change the color (like before)\n",
    "myMusic.color = 'Pink'\n",
    "myMusic.color"
   ]
  },
  {
   "cell_type": "code",
   "execution_count": 58,
   "id": "bbbaa0af",
   "metadata": {},
   "outputs": [
    {
     "ename": "TypeError",
     "evalue": "Provided color must be of type str.",
     "output_type": "error",
     "traceback": [
      "\u001b[1;31m---------------------------------------------------------------------------\u001b[0m",
      "\u001b[1;31mTypeError\u001b[0m                                 Traceback (most recent call last)",
      "\u001b[1;32m~\\AppData\\Local\\Temp\\ipykernel_2896\\1019815319.py\u001b[0m in \u001b[0;36m<module>\u001b[1;34m\u001b[0m\n\u001b[0;32m      1\u001b[0m \u001b[1;31m# Try to change the color to something invalid\u001b[0m\u001b[1;33m\u001b[0m\u001b[1;33m\u001b[0m\u001b[0m\n\u001b[1;32m----> 2\u001b[1;33m \u001b[0mmyMusic\u001b[0m\u001b[1;33m.\u001b[0m\u001b[0mcolor\u001b[0m \u001b[1;33m=\u001b[0m \u001b[1;36m5555555\u001b[0m\u001b[1;33m\u001b[0m\u001b[1;33m\u001b[0m\u001b[0m\n\u001b[0m",
      "\u001b[1;32m~\\AppData\\Local\\Temp\\ipykernel_2896\\1030640280.py\u001b[0m in \u001b[0;36mcolor\u001b[1;34m(self, newColor)\u001b[0m\n\u001b[0;32m    119\u001b[0m             \u001b[0mself\u001b[0m\u001b[1;33m.\u001b[0m\u001b[0m_color\u001b[0m \u001b[1;33m=\u001b[0m \u001b[0mnewColor\u001b[0m\u001b[1;33m\u001b[0m\u001b[1;33m\u001b[0m\u001b[0m\n\u001b[0;32m    120\u001b[0m         \u001b[1;32melse\u001b[0m\u001b[1;33m:\u001b[0m\u001b[1;33m\u001b[0m\u001b[1;33m\u001b[0m\u001b[0m\n\u001b[1;32m--> 121\u001b[1;33m             \u001b[1;32mraise\u001b[0m \u001b[0mTypeError\u001b[0m\u001b[1;33m(\u001b[0m\u001b[1;34m'Provided color must be of type str.'\u001b[0m\u001b[1;33m)\u001b[0m\u001b[1;33m\u001b[0m\u001b[1;33m\u001b[0m\u001b[0m\n\u001b[0m\u001b[0;32m    122\u001b[0m \u001b[1;33m\u001b[0m\u001b[0m\n",
      "\u001b[1;31mTypeError\u001b[0m: Provided color must be of type str."
     ]
    }
   ],
   "source": [
    "# Try to change the color to something invalid\n",
    "myMusic.color = 5555555"
   ]
  }
 ],
 "metadata": {
  "kernelspec": {
   "display_name": "Python 3 (ipykernel)",
   "language": "python",
   "name": "python3"
  },
  "language_info": {
   "codemirror_mode": {
    "name": "ipython",
    "version": 3
   },
   "file_extension": ".py",
   "mimetype": "text/x-python",
   "name": "python",
   "nbconvert_exporter": "python",
   "pygments_lexer": "ipython3",
   "version": "3.9.12"
  }
 },
 "nbformat": 4,
 "nbformat_minor": 5
}
