{
 "cells": [
  {
   "cell_type": "markdown",
   "id": "5192cf11",
   "metadata": {},
   "source": [
    "# Python Basics\n",
    "Aidan Hunt, University of Washington\n",
    "\n",
    "***\n",
    "\n",
    "## Learning Objectives\n",
    "After this lesson students will be able to:\n",
    "\n",
    "- understand and interpret the basics of Python syntax (i.e., how to write text that Python can interpret)\n",
    "- use mathematical operators to conduct basic math operations in Python\n",
    "- identify basic data types used by Python\n",
    "- construct strings and print them to the console\n",
    "\n",
    "## Resources for this lesson\n",
    "- Python documentation\n",
    "    - __[Section 3.1: Numbers](https://docs.python.org/3/tutorial/introduction.html#numbers)__\n",
    "    - __[Section 3.2: Strings](https://docs.python.org/3/tutorial/introduction.html#strings)__\n",
    "\n",
    "- A Whirlwind Tour of Python:\n",
    "    - __[Basic Python Syntax](https://jakevdp.github.io/WhirlwindTourOfPython/02-basic-python-syntax.html)__\n",
    "    - __[Python Semantics: Variables](https://jakevdp.github.io/WhirlwindTourOfPython/03-semantics-variables.html)__\n",
    "    - __[Python Semantics: Operators](https://jakevdp.github.io/WhirlwindTourOfPython/04-semantics-operators.html)__\n",
    "    - __[Built-In Scalar Types](https://jakevdp.github.io/WhirlwindTourOfPython/05-built-in-scalar-types.html)__\n",
    "\n",
    "***"
   ]
  },
  {
   "cell_type": "markdown",
   "id": "fd187f6c",
   "metadata": {},
   "source": [
    "## Quick intro to Jupyter Notebook\n",
    "\n",
    "This is a Jupyter notebook. A Jupyter notebook is an interactive Python program that consists of several \"cells\" that can be run individually. Cells can contain code or plain text (also known as \"markdown\" cells). The text you are reading right now is in a markdown cell. The cell below is a code cell. To run it, click on it and press the \"Run\" button in the toolbar. Alternatively, click on it and then press Enter+Shift."
   ]
  },
  {
   "cell_type": "code",
   "execution_count": 1,
   "id": "3608ac8e",
   "metadata": {},
   "outputs": [
    {
     "name": "stdout",
     "output_type": "stream",
     "text": [
      "Hello world!\n"
     ]
    }
   ],
   "source": [
    "print(\"Hello world!\")"
   ]
  },
  {
   "cell_type": "markdown",
   "id": "2ddd6f06",
   "metadata": {},
   "source": [
    "When you run a code cell, the statements in the cell excecute. The above cell executes the print command and prints the enclosed text below. Cell outputs are also sometimes printed automatically if not assigned to a variable."
   ]
  },
  {
   "cell_type": "code",
   "execution_count": 2,
   "id": "0b98c108",
   "metadata": {},
   "outputs": [
    {
     "data": {
      "text/plain": [
       "5"
      ]
     },
     "execution_count": 2,
     "metadata": {},
     "output_type": "execute_result"
    }
   ],
   "source": [
    "2 + 3"
   ]
  },
  {
   "cell_type": "markdown",
   "id": "70a15602",
   "metadata": {},
   "source": [
    "A few comments on Jupyter Notebooks:\n",
    " - Since cells are run individually, sometimes you might get errors if you run cells out of order (that is, if code in one cell depends on the outputs of another cell.\n",
    " - Jupyter notebooks are great for demonstrating concepts (as in this notebook) or testing small chunks of code. However, for larger programs (scripts), I would recommend using Spyder or another IDE."
   ]
  },
  {
   "cell_type": "markdown",
   "id": "5f61cab2",
   "metadata": {},
   "source": [
    "## Basic Syntax\n",
    "\"Syntax\" are the basic rules that we use for writing code \"statements\" that Python can interpet and execute. For example, consider the code block below, which consists two statements:"
   ]
  },
  {
   "cell_type": "code",
   "execution_count": 3,
   "id": "9763b5fd",
   "metadata": {},
   "outputs": [
    {
     "name": "stdout",
     "output_type": "stream",
     "text": [
      "5\n"
     ]
    }
   ],
   "source": [
    "x = 2 + 3\n",
    "\n",
    "print(x)"
   ]
  },
  {
   "cell_type": "markdown",
   "id": "fcedbcf3",
   "metadata": {},
   "source": [
    "In the first statement, the value of `2 + 5` is assigned to the \"variable\" (i.e., a container for storing data) `x` using an equal sign. In the second statement, the data contained in `x` is printed to the console. The statements are separated by a line break.\n",
    "\n",
    "The amount of whitespace in a statement does not matter in Python. Similarly, the amount of blank lines between statements does not matter. For example, the following code is identical to that above."
   ]
  },
  {
   "cell_type": "code",
   "execution_count": 4,
   "id": "fba174ea",
   "metadata": {},
   "outputs": [
    {
     "name": "stdout",
     "output_type": "stream",
     "text": [
      "5\n"
     ]
    }
   ],
   "source": [
    "x             =     2+3\n",
    "\n",
    "\n",
    "print(x)"
   ]
  },
  {
   "cell_type": "markdown",
   "id": "a57ee841",
   "metadata": {},
   "source": [
    "(However, note that the leading indentation of a statement DOES matter, which we will see later when discussing functions.)\n",
    "\n",
    "If we want, we can put multiple statements on a single line using a semicolon (`;`) to indicate the end of the first statement and the start of the next. If the semicolon is omitted, an error is thrown."
   ]
  },
  {
   "cell_type": "code",
   "execution_count": 5,
   "id": "2edb47ff",
   "metadata": {},
   "outputs": [
    {
     "name": "stdout",
     "output_type": "stream",
     "text": [
      "5\n"
     ]
    }
   ],
   "source": [
    "x = 2+3; print(x) # Semicolon used: no error"
   ]
  },
  {
   "cell_type": "code",
   "execution_count": 6,
   "id": "86b9fc36",
   "metadata": {},
   "outputs": [
    {
     "ename": "SyntaxError",
     "evalue": "invalid syntax (2964206796.py, line 1)",
     "output_type": "error",
     "traceback": [
      "\u001b[1;36m  File \u001b[1;32m\"C:\\Users\\Aidan Hunt\\AppData\\Local\\Temp\\ipykernel_3908\\2964206796.py\"\u001b[1;36m, line \u001b[1;32m1\u001b[0m\n\u001b[1;33m    x = 2+3 print(x) # No semicolon: syntax error!\u001b[0m\n\u001b[1;37m            ^\u001b[0m\n\u001b[1;31mSyntaxError\u001b[0m\u001b[1;31m:\u001b[0m invalid syntax\n"
     ]
    }
   ],
   "source": [
    "x = 2+3 print(x) # No semicolon: syntax error!"
   ]
  },
  {
   "cell_type": "markdown",
   "id": "eee8486d",
   "metadata": {},
   "source": [
    "***\n",
    "## Comments\n",
    "We can also add text that is not to be executed using the pound symbol (`#`). Importantly, this allows us to write comments that describe code. We can also \"comment out\" lines of code that we want to keep, but not execute for now."
   ]
  },
  {
   "cell_type": "code",
   "execution_count": null,
   "id": "7dd0f83d",
   "metadata": {},
   "outputs": [],
   "source": [
    "# The code below assigns the value of 2+3 to the variable x.\n",
    "\n",
    "x = 2+3 # I can also write a comment after a statement\n",
    "\n",
    "# Code that is commented out does not execute\n",
    "# print(x) "
   ]
  },
  {
   "cell_type": "markdown",
   "id": "2c92785a",
   "metadata": {},
   "source": [
    "***\n",
    "## Operators\n",
    "We can perform mathematical operations on the data stored in variables using various operators.\n",
    "\n",
    "(*Side note*: In any IPython console like the cells below, if the output of a statement is not assigned to a variable, then the output is automatically printed)."
   ]
  },
  {
   "cell_type": "code",
   "execution_count": null,
   "id": "69a451a9",
   "metadata": {},
   "outputs": [],
   "source": [
    "# Addition\n",
    "5 + 10"
   ]
  },
  {
   "cell_type": "code",
   "execution_count": null,
   "id": "3517b7f1",
   "metadata": {},
   "outputs": [],
   "source": [
    "# Subtraction\n",
    "5 - 2"
   ]
  },
  {
   "cell_type": "code",
   "execution_count": null,
   "id": "7dc338c1",
   "metadata": {},
   "outputs": [],
   "source": [
    "# Multiplication\n",
    "4 * 3"
   ]
  },
  {
   "cell_type": "code",
   "execution_count": null,
   "id": "afde76bd",
   "metadata": {},
   "outputs": [],
   "source": [
    "# Division\n",
    "6 / 4"
   ]
  },
  {
   "cell_type": "code",
   "execution_count": null,
   "id": "3786a84f",
   "metadata": {},
   "outputs": [],
   "source": [
    "# Exponential\n",
    "3 ** 2"
   ]
  },
  {
   "cell_type": "code",
   "execution_count": null,
   "id": "5b5971a1",
   "metadata": {},
   "outputs": [],
   "source": [
    "# Standard order of operations still applies here\n",
    "(3 + 2)**2 + 7"
   ]
  },
  {
   "cell_type": "markdown",
   "id": "0192c3a5",
   "metadata": {},
   "source": [
    "While the operations above are likely familiar, there are two other operators which may come in handy. "
   ]
  },
  {
   "cell_type": "markdown",
   "id": "4f58eec6",
   "metadata": {},
   "source": [
    "### Floor Division\n",
    "Floor division or \"integer division\" divides a dividend by the divisor and returns the result rounded down to the nearest whole number. In other words, any decimal remainders are ignored.\n",
    "\n",
    "(If you have programmed in other languages, like Java, this is how integer division works)."
   ]
  },
  {
   "cell_type": "code",
   "execution_count": null,
   "id": "3ffd30c9",
   "metadata": {},
   "outputs": [],
   "source": [
    "10 // 4 # 4 goes into 10 2 times"
   ]
  },
  {
   "cell_type": "markdown",
   "id": "6fb65c20",
   "metadata": {},
   "source": [
    "### Modulo\n",
    "The modulo operator (\"mod for short\") gives the remainder that is left out by a floor division."
   ]
  },
  {
   "cell_type": "code",
   "execution_count": null,
   "id": "4a587986",
   "metadata": {},
   "outputs": [],
   "source": [
    "# The remainder of 10 divided by 4 is 2\n",
    "10 % 4"
   ]
  },
  {
   "cell_type": "markdown",
   "id": "211c6f4b",
   "metadata": {},
   "source": [
    "One especially useful aspect of mod is the ability to programmatically distinguish even numbers from odd numbers:"
   ]
  },
  {
   "cell_type": "code",
   "execution_count": null,
   "id": "673e0f50",
   "metadata": {},
   "outputs": [],
   "source": [
    "64 % 2 # Even numbers have a remainder of 0 when divided by 2"
   ]
  },
  {
   "cell_type": "code",
   "execution_count": null,
   "id": "e8325bc7",
   "metadata": {},
   "outputs": [],
   "source": [
    "9 % 2 # Odd numbers have a remainder of 1 when divided by 2"
   ]
  },
  {
   "cell_type": "markdown",
   "id": "9838ba31",
   "metadata": {},
   "source": [
    "***\n",
    "## Variables and Assignment Operations\n",
    "Recall that we can assign a **value** to a **variable** using the `=` operator:"
   ]
  },
  {
   "cell_type": "code",
   "execution_count": null,
   "id": "94f2f5ae",
   "metadata": {},
   "outputs": [],
   "source": [
    "x = 2 + 3"
   ]
  },
  {
   "cell_type": "markdown",
   "id": "f946de94",
   "metadata": {},
   "source": [
    "Here, `x` is a variable that stores the value of `5`. You can think of this as a box contains the value of \"5\" that has a label \"x\" on it. When we call `print(x)`, Python finds that data in x and executes the `print()` statement using that data.\n",
    "\n",
    "Variables may be named anything so long as the name adheres the following rules:\n",
    "- The name must start with a letter or underscore.\n",
    "- The name must contain only numbers, letters, and underscores.\n",
    "- The name cannot be a Python keyword. "
   ]
  },
  {
   "cell_type": "markdown",
   "id": "b698d9ed",
   "metadata": {},
   "source": [
    "Variables can also be used on the right-hand side of assignment statements. Here, the values in `x` and `y` are used to compute the value that should be stored in `z`."
   ]
  },
  {
   "cell_type": "code",
   "execution_count": null,
   "id": "1ba75555",
   "metadata": {},
   "outputs": [],
   "source": [
    "x = 5\n",
    "y = 7\n",
    "z = x + y\n",
    "print(z)"
   ]
  },
  {
   "cell_type": "markdown",
   "id": "07ddbda3",
   "metadata": {},
   "source": [
    "**Question**: *What happens to `z` if I change the value in `x`?*"
   ]
  },
  {
   "cell_type": "code",
   "execution_count": null,
   "id": "a1333c20",
   "metadata": {},
   "outputs": [],
   "source": [
    "# Print the current value of z\n",
    "print(z)\n",
    "\n",
    "# Change the values of x and y\n",
    "x = 8\n",
    "y = 402\n",
    "\n",
    "# Print the current value of z\n",
    "print(z)"
   ]
  },
  {
   "cell_type": "markdown",
   "id": "c0ed655f",
   "metadata": {},
   "source": [
    "**Answer**: Note that variables are, generally, independent of each other. Once `z` is assigned it has no connection to `x` or `y`.\n",
    "\n",
    "(Later, we will see that there are certain types of data that this is not true for. However, for now, this can be accepted as true)."
   ]
  },
  {
   "cell_type": "markdown",
   "id": "143d5dfe",
   "metadata": {},
   "source": [
    "You can even set the value of an existing variable based on its current value by using it on both the left and right side of a statement:"
   ]
  },
  {
   "cell_type": "code",
   "execution_count": null,
   "id": "a684a397",
   "metadata": {},
   "outputs": [],
   "source": [
    "# Set the value of x and print it out\n",
    "x = 5 \n",
    "print(x)\n",
    "\n",
    "# Add 10 to the current value of x and print it out\n",
    "x = x + 10\n",
    "print(x)\n",
    "\n",
    "# A shortcut for this kind of assignment\n",
    "x += 10\n",
    "print(x)"
   ]
  },
  {
   "cell_type": "markdown",
   "id": "9a9b341b",
   "metadata": {},
   "source": [
    "***\n",
    "## Basic Data Types\n",
    "All values that flow through a Python program have a \"type\", which describes what kind of data is contained in them. Python has several built-in data types. To determine the type associated with a variable or value, you can use the `type()` command.\n",
    "\n",
    "For now, we will focus on three of the basic data types."
   ]
  },
  {
   "cell_type": "markdown",
   "id": "3b810e0d",
   "metadata": {},
   "source": [
    "### Floats\n",
    "\n",
    "Floats (short for floating-point values) represent real numbers, and are the most general type of numeric data in Python. Floats can be specified via decimal numbers, fractions, exponentials, etc. "
   ]
  },
  {
   "cell_type": "code",
   "execution_count": null,
   "id": "d1e0da94",
   "metadata": {},
   "outputs": [],
   "source": [
    "floatData = 1.625\n",
    "print(floatData)\n",
    "type(floatData)"
   ]
  },
  {
   "cell_type": "code",
   "execution_count": null,
   "id": "00aa68f1",
   "metadata": {},
   "outputs": [],
   "source": [
    "floatData = 1 + 5/8\n",
    "print(floatData)\n",
    "type(floatData)"
   ]
  },
  {
   "cell_type": "code",
   "execution_count": null,
   "id": "bbbe3220",
   "metadata": {},
   "outputs": [],
   "source": [
    "floatData = 2e3 # Same as 2 * 10**3\n",
    "print(floatData)\n",
    "type(floatData)"
   ]
  },
  {
   "cell_type": "markdown",
   "id": "0fd9d0ea",
   "metadata": {},
   "source": [
    "### Integers\n",
    "Integers (`int` data type) represent whole numbers (e.g., numbers without decimals): "
   ]
  },
  {
   "cell_type": "code",
   "execution_count": null,
   "id": "dfdfbffe",
   "metadata": {},
   "outputs": [],
   "source": [
    "intData = 4\n",
    "type(intData)"
   ]
  },
  {
   "cell_type": "markdown",
   "id": "fe82914d",
   "metadata": {},
   "source": [
    "Note that even if a number is *mathematically* an integer, it will not be automatically represented by an integer if a decimal point is included."
   ]
  },
  {
   "cell_type": "code",
   "execution_count": null,
   "id": "5ac2a21a",
   "metadata": {},
   "outputs": [],
   "source": [
    "intData = 4.0 # 4.0 is still an integer, right?\n",
    "print(intData)\n",
    "type(intData) # Actually stored as a float"
   ]
  },
  {
   "cell_type": "markdown",
   "id": "0ac523f5",
   "metadata": {},
   "source": [
    "Thankfully, Python provides flexibility here and will convert integers to floats as necessary to perform mathematical operations."
   ]
  },
  {
   "cell_type": "markdown",
   "id": "11e51f78",
   "metadata": {},
   "source": [
    "### Strings\n",
    "Strings (`str` data type) store text data and can be created using either single quotes (`'`) or double quotes (`\"`)."
   ]
  },
  {
   "cell_type": "code",
   "execution_count": null,
   "id": "f8194749",
   "metadata": {},
   "outputs": [],
   "source": [
    "someText = \"This is a string\"\n",
    "type(someText)"
   ]
  },
  {
   "cell_type": "code",
   "execution_count": null,
   "id": "a6217322",
   "metadata": {},
   "outputs": [],
   "source": [
    "moreText = 'This is also a string'\n",
    "type(moreText)"
   ]
  },
  {
   "cell_type": "markdown",
   "id": "d10a0f9a",
   "metadata": {},
   "source": [
    "Strings can be concatenated together by using the `+` operator:"
   ]
  },
  {
   "cell_type": "code",
   "execution_count": null,
   "id": "54e23c34",
   "metadata": {},
   "outputs": [],
   "source": [
    "someText + moreText # Note that whitespace is not automatically included."
   ]
  },
  {
   "cell_type": "code",
   "execution_count": null,
   "id": "7ff28777",
   "metadata": {},
   "outputs": [],
   "source": [
    "someText + '. ' + moreText + \".\" # Adding whitespace, mixing and matching quotes."
   ]
  },
  {
   "cell_type": "markdown",
   "id": "17fa6427",
   "metadata": {},
   "source": [
    "If you want to know how many characters are in a string (including whitespace), you can use the `len()` command. Note that unlike other programming languages, there is no `char` data type, only `str`."
   ]
  },
  {
   "cell_type": "code",
   "execution_count": null,
   "id": "82458a8d",
   "metadata": {},
   "outputs": [],
   "source": [
    "len(someText) # There are 16 characters in \"This is a string\", including whitespace."
   ]
  },
  {
   "cell_type": "markdown",
   "id": "be3805e1",
   "metadata": {},
   "source": [
    "### Type conversion\n",
    "Sometimes we would like to convert data that is stored in one data type to a different data type. Python includes special commands to do this:"
   ]
  },
  {
   "cell_type": "code",
   "execution_count": null,
   "id": "c5ba8679",
   "metadata": {},
   "outputs": [],
   "source": [
    "# Example: convert a number to a string\n",
    "str(5.0)"
   ]
  },
  {
   "cell_type": "markdown",
   "id": "9722c276",
   "metadata": {},
   "source": [
    "Note that this is what happens when we use a `print()` command with a number. The number is converted to text and printed to the console!"
   ]
  },
  {
   "cell_type": "code",
   "execution_count": null,
   "id": "b8f49dcb",
   "metadata": {},
   "outputs": [],
   "source": [
    "numberData = 5.0\n",
    "print(numberData)\n",
    "\n",
    "textData = str(numberData)\n",
    "print(textData)"
   ]
  },
  {
   "cell_type": "markdown",
   "id": "3d18c38a",
   "metadata": {},
   "source": [
    "We can convert text to numbers, too, but only if the string is valid:"
   ]
  },
  {
   "cell_type": "code",
   "execution_count": null,
   "id": "758061b1",
   "metadata": {},
   "outputs": [],
   "source": [
    "textData = 5.1275\n",
    "float(textData)"
   ]
  },
  {
   "cell_type": "code",
   "execution_count": null,
   "id": "4ce60fab",
   "metadata": {},
   "outputs": [],
   "source": [
    "textData = 'This string is clearly not a number'\n",
    "float(textData)"
   ]
  },
  {
   "cell_type": "markdown",
   "id": "810f4964",
   "metadata": {},
   "source": [
    "***\n",
    "## Printing to the Console\n",
    "Now that we have an understanding of operators, variables, and data types, we can dive into more of how to use the `print()` command. So far, we have used `print()` to print the values in our variables, but what if we wanted to be more descriptive?"
   ]
  },
  {
   "cell_type": "code",
   "execution_count": 7,
   "id": "5b07e194",
   "metadata": {},
   "outputs": [],
   "source": [
    "x = 3\n",
    "y = 5\n",
    "z = x + y"
   ]
  },
  {
   "cell_type": "markdown",
   "id": "dce4010c",
   "metadata": {},
   "source": [
    "We would like to print something like:\n",
    "\n",
    "x = 3<br>\n",
    "y = 5<br>\n",
    "\n",
    "z = x + y = 8\n",
    "\n",
    "We can do this by providing both \"string literals\" (plain text) and variables to the print function. Separating them by commas will concatenate them together automatically and add whitespace."
   ]
  },
  {
   "cell_type": "code",
   "execution_count": 8,
   "id": "1d7f57ec",
   "metadata": {},
   "outputs": [
    {
     "name": "stdout",
     "output_type": "stream",
     "text": [
      "x = 3\n",
      "y = 5\n",
      "\n",
      "z = x + y = 8\n"
     ]
    }
   ],
   "source": [
    "print('x =', x)\n",
    "print('y =', y)\n",
    "print()\n",
    "print('z = x + y =', z)"
   ]
  },
  {
   "cell_type": "markdown",
   "id": "39a634e5",
   "metadata": {},
   "source": [
    "While we have mostly been printing the values contained in variables, note that a variable is not necessary to use `print()`: we can print any value directly."
   ]
  },
  {
   "cell_type": "code",
   "execution_count": 9,
   "id": "4560f100",
   "metadata": {},
   "outputs": [
    {
     "name": "stdout",
     "output_type": "stream",
     "text": [
      "3\n",
      "Hello there\n"
     ]
    }
   ],
   "source": [
    "print(1+2) # Print the sum of 1+2\n",
    "print('Hello there') # Print literal text"
   ]
  },
  {
   "cell_type": "markdown",
   "id": "70142aea",
   "metadata": {},
   "source": [
    "### Example:\n",
    "Consider a program that prints someone's birthday given their name, the birthday month and the day of the month"
   ]
  },
  {
   "cell_type": "code",
   "execution_count": 10,
   "id": "7d746a4d",
   "metadata": {},
   "outputs": [],
   "source": [
    "name = 'Aidan'\n",
    "month = 'September'\n",
    "day = 27\n",
    "\n",
    "# Desired output:\n",
    "# Aidan's birthday is on September 27!"
   ]
  },
  {
   "cell_type": "markdown",
   "id": "3c8059f9",
   "metadata": {},
   "source": [
    "**In Groups**: Write a line of code that prints this output. Note different approaches."
   ]
  },
  {
   "cell_type": "markdown",
   "id": "a175e08f",
   "metadata": {},
   "source": [
    "Using the print function, we can combine the values of these variables, as well as some extra text that is not stored in a variable (these are called \"string literals\"):\n"
   ]
  },
  {
   "cell_type": "code",
   "execution_count": 11,
   "id": "10bfbec5",
   "metadata": {},
   "outputs": [
    {
     "name": "stdout",
     "output_type": "stream",
     "text": [
      "Aidan's birthday is on September 27\n"
     ]
    }
   ],
   "source": [
    "# One solution, use the print command to generate the whitespace\n",
    "# Note that print automatically performs the type conversion on the day\n",
    "print(name + \"'s\", 'birthday is on', month, day)"
   ]
  },
  {
   "cell_type": "code",
   "execution_count": 12,
   "id": "62c854f9",
   "metadata": {},
   "outputs": [
    {
     "name": "stdout",
     "output_type": "stream",
     "text": [
      "Aidan's birthday is on September 27\n"
     ]
    }
   ],
   "source": [
    "# Another solution: Create one big string with concatenation (+), then print it\n",
    "# Note that concatenating int to str with \"+\" requires type conversion\n",
    "textToPrint = name + \"'s\" + \" birthday is on \" + month + \" \"+ str(day)\n",
    "print(textToPrint)"
   ]
  },
  {
   "cell_type": "code",
   "execution_count": 13,
   "id": "2b0acf3a",
   "metadata": {},
   "outputs": [
    {
     "name": "stdout",
     "output_type": "stream",
     "text": [
      "Aidan's birthday is on September 27\n"
     ]
    }
   ],
   "source": [
    "# Yet another solution: use the .format function\n",
    "textToPrint = \"{}'s birthday is on {} {}\".format(name, month, day)\n",
    "print(textToPrint)"
   ]
  },
  {
   "cell_type": "markdown",
   "id": "d6b4c48f",
   "metadata": {},
   "source": [
    "### Why do we care about printing things?\n",
    "Printing to the console can be useful for:\n",
    "- Printing the status/diagnostics of a program\n",
    "- Printing values of variables for debugging"
   ]
  },
  {
   "cell_type": "markdown",
   "id": "5cf2e17f",
   "metadata": {},
   "source": [
    "***\n",
    "## Next Time\n",
    "Now that we are familiar with basic python syntax we can start writing functions: blocks of code that perform distinct, repeatable tasks."
   ]
  }
 ],
 "metadata": {
  "kernelspec": {
   "display_name": "Python 3 (ipykernel)",
   "language": "python",
   "name": "python3"
  },
  "language_info": {
   "codemirror_mode": {
    "name": "ipython",
    "version": 3
   },
   "file_extension": ".py",
   "mimetype": "text/x-python",
   "name": "python",
   "nbconvert_exporter": "python",
   "pygments_lexer": "ipython3",
   "version": "3.9.12"
  }
 },
 "nbformat": 4,
 "nbformat_minor": 5
}
