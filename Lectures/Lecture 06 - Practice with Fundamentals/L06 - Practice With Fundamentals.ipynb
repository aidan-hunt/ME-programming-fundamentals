{
 "cells": [
  {
   "cell_type": "markdown",
   "id": "5192cf11",
   "metadata": {},
   "source": [
    "# Practice with Fundamentals\n",
    "Aidan Hunt, University of Washington\n",
    "\n",
    "***\n",
    "\n",
    "## Learning Objectives\n",
    "During this lesson, students will:\n",
    "- Practice pseudocoding\n",
    "- Combine functions, data structures, for loops, and logic into a single program\n",
    "- Use logic to check if user inputs are valid.\n"
   ]
  },
  {
   "cell_type": "markdown",
   "id": "b0feea66",
   "metadata": {},
   "source": [
    "***\n",
    "## Check-in / Announcements\n",
    "- Homework 1 grades posted\n",
    "- Homework 2 due Friday\n",
    "- Office hours today (in person) and tomorrow (virtual)"
   ]
  },
  {
   "cell_type": "markdown",
   "id": "9838ba31",
   "metadata": {},
   "source": [
    "***\n",
    "## An Example\n",
    "\n",
    "Let's work through an example that combines everything we've learned, and introduces a few new tools, too!\n",
    "\n",
    "**Objective**: create a calculator for a series circuit with an arbitrary number of resistances.\n",
    "- User is prompted for supply voltage, number of resistors, and resistance value of each resistor\n",
    "- Using these values, calculate the current in the circuit, voltages across each resistor, and print results"
   ]
  },
  {
   "cell_type": "markdown",
   "id": "318977cc",
   "metadata": {},
   "source": [
    "`Welcome to the resistor voltage calculator.`<br>\n",
    "`Please enter the supply voltage (V): 5`<br>\n",
    "`Please enter the number of resistors: 3`<br>\n",
    "`Please enter the resistance (ohms) for resistor #1: 100`<br>\n",
    "`Please enter the resistance (ohms) for resistor #2: 20`<br>\n",
    "`Please enter the resistance (ohms) for resistor #3: 50`\n",
    "\n",
    "`Supply voltage (V): 5.0`<br>\n",
    "`Current (A): 0.029411764705882353`<br>\n",
    "`Resistances (ohms): [100.0, 20.0, 50.0]`<br>\n",
    "`Voltage across each resistor (V): [2.941176470588235, 0.5882352941176471, 1.4705882352941175]`<br>"
   ]
  },
  {
   "cell_type": "markdown",
   "id": "93904b55",
   "metadata": {},
   "source": [
    "**What can we assume about user input?**\n",
    "- Assume that the user provides input that can be converted to numerical values (e.g., they enter numbers, not letters).\n",
    "- But, we cannot assume that the numbers they enter will be valid.\n",
    "\n",
    "**Other input cases to consider**\n",
    "- If the user enters an invalid number of resistors, print a message instead of performing calculation:\n",
    "    - Negative number of resistors: print an invalid value message.\n",
    "    - Zero resistors: print a short-circuit message.\n",
    "- When providing the resistance values for each resistor (in ohms), if the user enters an invalid resistance (<= 0), prompt them again until they provide a valid resistance."
   ]
  },
  {
   "cell_type": "markdown",
   "id": "d68de321",
   "metadata": {},
   "source": [
    "Example of invalid resistor:\n",
    "\n",
    "`Please enter the supply voltage (V): 10`<br>\n",
    "`Please enter the number of resistors: -4`<br>\n",
    "`Invalid number of resistors - no calculation performed.`"
   ]
  },
  {
   "cell_type": "markdown",
   "id": "1857e973",
   "metadata": {},
   "source": [
    "Example of zero resistors:\n",
    "\n",
    "`Please enter the supply voltage (V): 10`<br>\n",
    "`Please enter the number of resistors: 0`<br>\n",
    "`No resistors specified - short circuit!`"
   ]
  },
  {
   "cell_type": "markdown",
   "id": "62c41164",
   "metadata": {},
   "source": [
    "Example of reprompting if invalid resistance:\n",
    "\n",
    "`Please enter the supply voltage (V): 10`<br>\n",
    "`Please enter the number of resistors: 2`<br>\n",
    "`Please enter the resistance (ohms) for resistor #1: 0`<br>\n",
    "`Please enter the resistance (ohms) for resistor #1: -1`<br>\n",
    "`Please enter the resistance (ohms) for resistor #1: -2`<br>\n",
    "`Please enter the resistance (ohms) for resistor #1: -3`<br>\n",
    "`Please enter the resistance (ohms) for resistor #1: -4`<br>\n",
    "`Please enter the resistance (ohms) for resistor #1: 40`<br>\n",
    "`Please enter the resistance (ohms) for resistor #2: 10`<br>\n",
    "\n",
    "`Supply voltage (V): 10.0`<br>\n",
    "`Current (A): 0.2`<br>\n",
    "`Resistances (ohms): [40.0, 10.0]`<br>\n",
    "`Voltage across each resistor (V): [8.0, 2.0]`<br>"
   ]
  },
  {
   "cell_type": "markdown",
   "id": "9a9b341b",
   "metadata": {},
   "source": [
    "## Pseudocode session\n",
    "\n",
    "Develop a *pseudocode outline*\n",
    "- Break down the problem into sub-tasks\n",
    "- After that, if needed, break down the sub-tasks into sub-sub-tasks\n",
    "- Outline the structure/flow of information through our program\n",
    "\n",
    "Work for 1 min on your own, then chat with others for 1 min\n"
   ]
  },
  {
   "cell_type": "code",
   "execution_count": 1,
   "id": "8debac5d",
   "metadata": {},
   "outputs": [],
   "source": [
    "# Print welcome message\n",
    "\n",
    "# Get input voltage from user\n",
    "\n",
    "# Get number of resistances from user\n",
    "\n",
    "# Check if number of resistances is valid\n",
    "\n",
    "    # If less than zero:\n",
    "         # print invalid resistor message\n",
    "    \n",
    "    # If equal to zero: print short circuit message\n",
    "        # print invalid resistor message\n",
    "    \n",
    "    # Otherwise, perform calculations:\n",
    "\n",
    "        # Get values of resistances from user\n",
    "            # Prompt user for each resistance\n",
    "                # Reprompt if invalid input\n",
    "\n",
    "        # Calculate current\n",
    "            # I = V * R_total\n",
    "\n",
    "        # Calculate voltage across each resistor\n",
    "            # V = I * R[i]\n",
    "\n",
    "        # Print a summary of the results"
   ]
  },
  {
   "cell_type": "markdown",
   "id": "022a66b7",
   "metadata": {},
   "source": [
    "## Filling in the pseudocode outline"
   ]
  },
  {
   "cell_type": "markdown",
   "id": "a3763adb",
   "metadata": {},
   "source": [
    "Now we just need to write code for each subtask! We should use *functions* to represent each sub-task.\n",
    "\n",
    "Start with the easiest, printing the welcome message:"
   ]
  },
  {
   "cell_type": "code",
   "execution_count": 2,
   "id": "e6cd2ab5",
   "metadata": {},
   "outputs": [],
   "source": [
    "# Print welcome message\n",
    "def printStartup():\n",
    "    '''\n",
    "    Prints the startup message for the resistor calculator.\n",
    "    '''\n",
    "    print('Welcome to the resistor voltage calculator.')\n",
    "    print()"
   ]
  },
  {
   "cell_type": "markdown",
   "id": "9f94d36e",
   "metadata": {},
   "source": [
    "Getting user input is also quite easy! We can use the built-in `input()` function.\n",
    "- Put your prompt in the parentheses\n",
    "- Outputs what the user entered, as as string.\n",
    "- Use type conversion to convert output to proper type."
   ]
  },
  {
   "cell_type": "code",
   "execution_count": 3,
   "id": "894f24c7",
   "metadata": {},
   "outputs": [],
   "source": [
    "# Get input voltage from user\n",
    "def getSupplyVoltage():\n",
    "    '''\n",
    "    Prompts the user for the supply voltage and returns the input as a float.\n",
    "    '''\n",
    "    \n",
    "    vSupply = input('Please enter the supply voltage (V): ')\n",
    "    return float(vSupply)"
   ]
  },
  {
   "cell_type": "markdown",
   "id": "88dd623e",
   "metadata": {},
   "source": [
    "### Group work session"
   ]
  },
  {
   "cell_type": "markdown",
   "id": "6cefba46",
   "metadata": {},
   "source": [
    "Work with those around you to define functions for other tasks, ignoring error checking for now.\n",
    "\n",
    "(Note: don't use `numpy` instead, let's practice using our basic built-in lists)"
   ]
  },
  {
   "cell_type": "markdown",
   "id": "58906d0a",
   "metadata": {},
   "source": [
    "### Continuing to fill in our program"
   ]
  },
  {
   "cell_type": "markdown",
   "id": "f5476725",
   "metadata": {},
   "source": [
    "Getting the number of resistances is similar to getting the supply voltage:"
   ]
  },
  {
   "cell_type": "code",
   "execution_count": 4,
   "id": "34b2b5d1",
   "metadata": {},
   "outputs": [],
   "source": [
    "# Get number of resistances from user\n",
    "def getNumberOfResistors():\n",
    "    '''\n",
    "    Prompts the user for the number of resistors in the circuit and returns\n",
    "    the result as an integer.\n",
    "    '''\n",
    "    \n",
    "    nRes = input('Please enter the number of resistors: ')\n",
    "    return int(nRes)"
   ]
  },
  {
   "cell_type": "markdown",
   "id": "71ea3f17",
   "metadata": {},
   "source": [
    "Calculating the current and the voltage across each resistor are also fairly straightforward."
   ]
  },
  {
   "cell_type": "code",
   "execution_count": 5,
   "id": "ae7a7996",
   "metadata": {},
   "outputs": [],
   "source": [
    "# Calculate current\n",
    "def calcCurrent(vSupply, totalRes):\n",
    "    '''\n",
    "    Given the supply voltage and total resistance in a series circuit,\n",
    "    calculates and returns the current in the circuit (in Amperes).\n",
    "    '''\n",
    "    \n",
    "    I = vSupply / totalRes\n",
    "    return I\n",
    "\n",
    "# Calculate voltage across each resistor\n",
    "def calcResistorVoltages(resOhms, I):\n",
    "    '''\n",
    "    Given the supply voltage and total resistance in a series circuit,\n",
    "    calculates and returns the current in the circuit (in Amperes).\n",
    "    '''\n",
    "    \n",
    "    resVolts = [ohms * I for ohms in resOhms]\n",
    "    return resVolts"
   ]
  },
  {
   "cell_type": "markdown",
   "id": "ea6294cd",
   "metadata": {},
   "source": [
    "As is printing the results summary"
   ]
  },
  {
   "cell_type": "code",
   "execution_count": 6,
   "id": "e453c9a5",
   "metadata": {},
   "outputs": [],
   "source": [
    "# Print a summary of the results\n",
    "def printSummary(vSupply, I, resOhms, resVolts):\n",
    "    '''\n",
    "    Given the supply voltage of a series circuit (in Volts), the current in the\n",
    "    circuit (in Amps), a list of the resistances in the circuit (in ohms), \n",
    "    and a list of the voltages across each resistor (in Volts), prints a \n",
    "    summary of the circuit properties to the console.\n",
    "    '''\n",
    "    \n",
    "    print()\n",
    "    print('Supply voltage (V):', vSupply)\n",
    "    print('Current (A):', I)\n",
    "    print('Resistances (ohms):', resOhms)\n",
    "    print('Voltage across each resistor (V):', resVolts)"
   ]
  },
  {
   "cell_type": "markdown",
   "id": "569e7de4",
   "metadata": {},
   "source": [
    "The trickiest sub-task is getting the resistances:\n",
    "- Want to prompt *for* each resistance, so probably want a for loop!\n",
    "- Create a prompt using the index of each resistor.\n",
    "- Can either add to an empty list, or update a list of a certain size"
   ]
  },
  {
   "cell_type": "code",
   "execution_count": 7,
   "id": "72f44760",
   "metadata": {},
   "outputs": [],
   "source": [
    "# Get values of resistors from user\n",
    "def getResistances(nRes):\n",
    "    '''\n",
    "    Given the number of resistors in a series circuit, prompts the user for the\n",
    "    resistance in ohms of each resistor. Returns the resistances (as a list of\n",
    "    floats), as well as the total resistance in the circuit (as a float).\n",
    "    \n",
    "    It is assumed that the number of resistors provided is valid (an integer\n",
    "    greater than 0.)\n",
    "    '''\n",
    "    \n",
    "    resOhms = [None] * nRes\n",
    "    totalRes = 0\n",
    "    \n",
    "    # Prompt user for each resistance\n",
    "    for i in range(nRes):\n",
    "        promptStr = 'Please enter the resistance (ohms) for resistor #' + str(i+1) + ': '\n",
    "        currOhms = float(input(promptStr))\n",
    "        \n",
    "        # Add to list and total \n",
    "        resOhms[i] = currOhms\n",
    "        totalRes += currOhms\n",
    "        \n",
    "    return resOhms, totalRes"
   ]
  },
  {
   "cell_type": "markdown",
   "id": "5a977e44",
   "metadata": {},
   "source": [
    "Our pseudo-code outline becomes the main function that uses the sub-functions to perform the task!"
   ]
  },
  {
   "cell_type": "code",
   "execution_count": 8,
   "id": "4f66849e",
   "metadata": {},
   "outputs": [],
   "source": [
    "def resistorCalculator():\n",
    "    '''\n",
    "    Prompts the user for properties of a series circuit. Computes the current in\n",
    "    the circuit as a function of the specified resistances, as well as the\n",
    "    voltage drop across each resistor. Prints a summary to the console.\n",
    "    '''\n",
    "\n",
    "    printStartup()\n",
    "    \n",
    "    # Get input voltage and number of resistors\n",
    "    vSupply = getSupplyVoltage()\n",
    "    nRes = getNumberOfResistors()\n",
    "    \n",
    "    # Calculate resistances\n",
    "    resOhms, totalRes = getResistances(nRes)\n",
    "    \n",
    "    # Calculate current and resistor voltages\n",
    "    I = calcCurrent(vSupply, totalRes)\n",
    "    resVolts = calcResistorVoltages(resOhms, I)\n",
    "    \n",
    "    # Print results\n",
    "    printSummary(vSupply, I, resOhms, resVolts)"
   ]
  },
  {
   "cell_type": "code",
   "execution_count": 9,
   "id": "898e16d4",
   "metadata": {},
   "outputs": [
    {
     "name": "stdout",
     "output_type": "stream",
     "text": [
      "Welcome to the resistor voltage calculator.\n",
      "\n",
      "Please enter the supply voltage (V): 5\n",
      "Please enter the number of resistors: 3\n",
      "Please enter the resistance (ohms) for resistor #1: 10\n",
      "Please enter the resistance (ohms) for resistor #2: 20\n",
      "Please enter the resistance (ohms) for resistor #3: 30\n",
      "\n",
      "Supply voltage (V): 5.0\n",
      "Current (A): 0.08333333333333333\n",
      "Resistances (ohms): [10.0, 20.0, 30.0]\n",
      "Voltage across each resistor (V): [0.8333333333333333, 1.6666666666666665, 2.5]\n"
     ]
    }
   ],
   "source": [
    "# Example output\n",
    "resistorCalculator()"
   ]
  },
  {
   "cell_type": "markdown",
   "id": "a930fb02",
   "metadata": {},
   "source": [
    "### Key takeaways:\n",
    "\n",
    "- Pseudocoding breaks down the problem and leads to good program structure.\n",
    "- All functions should have docstrings!"
   ]
  },
  {
   "cell_type": "markdown",
   "id": "7ba06c2f",
   "metadata": {},
   "source": [
    "## Error Checking"
   ]
  },
  {
   "cell_type": "markdown",
   "id": "4217552f",
   "metadata": {},
   "source": [
    "Now let's add the error checking behavior:\n",
    "\n",
    "The easiest one to address are the different number of resistors cases.\n",
    "- Main function is delegating to subfunctions, then making decisions with the results.\n",
    "- Remember to update docstring"
   ]
  },
  {
   "cell_type": "code",
   "execution_count": 9,
   "id": "6eca2b68",
   "metadata": {},
   "outputs": [],
   "source": [
    "def resistorCalculator():\n",
    "    '''\n",
    "    Prompts the user for properties of a series circuit. Computes the current in\n",
    "    the circuit as a function of the specified resistances, as well as the\n",
    "    voltage drop across each resistor. Prints a summary to the console.\n",
    "    \n",
    "    If the user specifies an invalid number of resistors (less than or equal\n",
    "    to zero), no calculation is performed.\n",
    "    '''\n",
    "\n",
    "    printStartup()\n",
    "    \n",
    "    # Get input voltage and number of resistors\n",
    "    vSupply = getSupplyVoltage()\n",
    "    nRes = getNumberOfResistors()\n",
    "    \n",
    "    if nRes < 0: #  A negative number of resistors was specified\n",
    "        print('Invalid number of resistors - no calculation performed.')\n",
    "    elif nRes == 0: # Zero resistors specified\n",
    "        print('No resistors specified - short circuit!')\n",
    "    else: # A positive number of resistors specified\n",
    "        # Calculate resistances\n",
    "        resOhms, totalRes = getResistances(nRes)\n",
    "        \n",
    "        # Calculate current and resistor voltages\n",
    "        I = calcCurrent(vSupply, totalRes)\n",
    "        resVolts = calcResistorVoltages(resOhms, I)\n",
    "        \n",
    "        # Print results\n",
    "        printSummary(vSupply, I, resOhms, resVolts)"
   ]
  },
  {
   "cell_type": "code",
   "execution_count": 10,
   "id": "c7fc66c4",
   "metadata": {},
   "outputs": [
    {
     "name": "stdout",
     "output_type": "stream",
     "text": [
      "Welcome to the resistor voltage calculator.\n",
      "\n",
      "Please enter the supply voltage (V): 5\n",
      "Please enter the number of resistors: 0\n",
      "No resistors specified - short circuit!\n"
     ]
    }
   ],
   "source": [
    "# Example output\n",
    "resistorCalculator()"
   ]
  },
  {
   "cell_type": "code",
   "execution_count": 11,
   "id": "9b557925",
   "metadata": {},
   "outputs": [
    {
     "name": "stdout",
     "output_type": "stream",
     "text": [
      "Welcome to the resistor voltage calculator.\n",
      "\n",
      "Please enter the supply voltage (V): 10\n",
      "Please enter the number of resistors: -12\n",
      "Invalid number of resistors - no calculation performed.\n"
     ]
    }
   ],
   "source": [
    "# Example output\n",
    "resistorCalculator()"
   ]
  },
  {
   "cell_type": "markdown",
   "id": "ddb19cc2",
   "metadata": {},
   "source": [
    "Next, we need to add the logic for reprompting. To do this, let's use a `while` loop. \n",
    "- A while loop executes the code in its block as long as the specified condition is true.\n",
    "- This loop should go in the getResistances function, since it is that function's job to collect resistance values from the user.\n",
    "- We want to loop *while* the input is invalid, and then exit the loop when it is valid.\n",
    "- Again, update the docstring!"
   ]
  },
  {
   "cell_type": "code",
   "execution_count": 13,
   "id": "ae0d6e43",
   "metadata": {},
   "outputs": [],
   "source": [
    "def getResistances(nRes):\n",
    "    '''\n",
    "    Given the number of resistors in a series circuit, prompts the user for the\n",
    "    resistance in ohms of each resistor. Returns the resistances (as a list of\n",
    "    floats), as well as the total resistance in the circuit (as a float)\n",
    "    \n",
    "    If the user enters a resistance less than or equal to zero for any\n",
    "    resistor, they are prompted again until they enter a positive value.\n",
    "    '''\n",
    "    \n",
    "    resOhms = [None] * nRes\n",
    "    totalRes = 0\n",
    "    for i in range(nRes):\n",
    "        promptStr = 'Please enter the resistance (ohms) for resistor #' + str(i+1) + ': '\n",
    "        currOhms = float(input(promptStr))\n",
    "        \n",
    "        while currOhms <= 0: # While input resistance is invalid\n",
    "            currOhms = float(input(promptStr)) # Reprompt the user\n",
    "        \n",
    "        # Add to list and total \n",
    "        resOhms[i] = currOhms\n",
    "        totalRes += currOhms\n",
    "        \n",
    "    return resOhms, totalRes"
   ]
  },
  {
   "cell_type": "code",
   "execution_count": 14,
   "id": "a4ccd462",
   "metadata": {},
   "outputs": [
    {
     "name": "stdout",
     "output_type": "stream",
     "text": [
      "Welcome to the resistor voltage calculator.\n",
      "\n",
      "Please enter the supply voltage (V): 10\n",
      "Please enter the number of resistors: 2\n",
      "Please enter the resistance (ohms) for resistor #1: -1\n",
      "Please enter the resistance (ohms) for resistor #1: -1\n",
      "Please enter the resistance (ohms) for resistor #1: -1\n",
      "Please enter the resistance (ohms) for resistor #1: 0\n",
      "Please enter the resistance (ohms) for resistor #1: -1000\n",
      "Please enter the resistance (ohms) for resistor #1: 42.5\n",
      "Please enter the resistance (ohms) for resistor #2: 55\n",
      "\n",
      "Supply voltage (V): 10.0\n",
      "Current (A): 0.10256410256410256\n",
      "Resistances (ohms): [42.5, 55.0]\n",
      "Voltage across each resistor (V): [4.358974358974359, 5.6410256410256405]\n"
     ]
    }
   ],
   "source": [
    "# Example output\n",
    "resistorCalculator()"
   ]
  }
 ],
 "metadata": {
  "kernelspec": {
   "display_name": "Python 3 (ipykernel)",
   "language": "python",
   "name": "python3"
  },
  "language_info": {
   "codemirror_mode": {
    "name": "ipython",
    "version": 3
   },
   "file_extension": ".py",
   "mimetype": "text/x-python",
   "name": "python",
   "nbconvert_exporter": "python",
   "pygments_lexer": "ipython3",
   "version": "3.9.12"
  }
 },
 "nbformat": 4,
 "nbformat_minor": 5
}
