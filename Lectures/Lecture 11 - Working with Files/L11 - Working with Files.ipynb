{
 "cells": [
  {
   "cell_type": "markdown",
   "id": "5192cf11",
   "metadata": {},
   "source": [
    "# Lesson Title\n",
    "Aidan Hunt, University of Washington\n",
    "\n",
    "***\n",
    "\n",
    "## Learning Objectives\n",
    "After this lesson, students will be able to\n",
    "- Understand and identify the unique components of a file path.\n",
    "- Construct file paths using the `os` package and navigate directories.\n",
    "- Utilize the `glob` package to find filenames matching a pattern.\n",
    "\n",
    "\n",
    "## Check-in\n",
    "- Assignment cadence for the rest of the quarter\n",
    "- Final assignment\n",
    "- Syllabus (grading)\n",
    "- Expectations\n",
    "***"
   ]
  },
  {
   "cell_type": "markdown",
   "id": "5f61cab2",
   "metadata": {},
   "source": [
    "## Framing\n",
    "\n",
    "One of our overall goals as programmers is writing scalable code\n",
    "- Code that works for a wide range of scenarios\n",
    "- E.g. functions help us do this by eliminating redundancy and adding flexibility\n",
    "\n",
    "So far we have worked with individual files.\n",
    "- Download the file\n",
    "- Hard-code the file name into your script\n",
    "- Load and process\n",
    "\n",
    "In your careers, you will likely work with batches of files.\n",
    "- For example, data files collected using a particular sensor or instrument.\n",
    "- Spreadsheets with a particular format.\n",
    "- Image data\n",
    "\n",
    "Goal for this week: develop techniques for working with files systematically and efficiently.\n"
   ]
  },
  {
   "cell_type": "markdown",
   "id": "ec724b64",
   "metadata": {},
   "source": [
    "To work with files, we'll import the `os` module:"
   ]
  },
  {
   "cell_type": "code",
   "execution_count": 1,
   "id": "04472e5f",
   "metadata": {},
   "outputs": [],
   "source": [
    "import os"
   ]
  },
  {
   "cell_type": "markdown",
   "id": "fca2e727",
   "metadata": {},
   "source": [
    "***\n",
    "## Directories\n",
    "\n",
    "A directory is a location on your computer where files are stored. A folder is an example of a directory.\n",
    "\n",
    "The **current working directory** or **present working directory** is the current directory that Python is running from.\n",
    "\n",
    "For example, for these lecture notes:"
   ]
  },
  {
   "cell_type": "code",
   "execution_count": 117,
   "id": "6e9c5acb",
   "metadata": {},
   "outputs": [
    {
     "data": {
      "text/plain": [
       "'C:\\\\Users\\\\Aidan Hunt\\\\MREL Dropbox\\\\Aidan Hunt\\\\STEP-UP - ME 498\\\\Lectures\\\\Lecture 11 - Working with Files'"
      ]
     },
     "execution_count": 117,
     "metadata": {},
     "output_type": "execute_result"
    }
   ],
   "source": [
    "# Get the current working directory\n",
    "os.getcwd()"
   ]
  },
  {
   "cell_type": "markdown",
   "id": "a22e5826",
   "metadata": {},
   "source": [
    "**Two Notes**:\n",
    "- The `os` module returns paths as strings (`str`)\n",
    "- The file separator character depends on your operating system. For me on Windows, it is backslash: `\\`. `\\` has special meaning in Python and is used for special text commands (for example, `\\t` does not print \"\\t\", but instead creates a tab). Therefore, to tell Python that we really want a `\\` character, we must use two: `\\\\`. To find the file separator character for your machine:"
   ]
  },
  {
   "cell_type": "code",
   "execution_count": 118,
   "id": "aa5601b0",
   "metadata": {},
   "outputs": [
    {
     "data": {
      "text/plain": [
       "'\\\\'"
      ]
     },
     "execution_count": 118,
     "metadata": {},
     "output_type": "execute_result"
    }
   ],
   "source": [
    "# Get the file separator\n",
    "os.sep"
   ]
  },
  {
   "cell_type": "markdown",
   "id": "3dcb072b",
   "metadata": {},
   "source": [
    "Python can see all files within the current working directory without us needing to specify any additional information."
   ]
  },
  {
   "cell_type": "code",
   "execution_count": 119,
   "id": "1005dd48",
   "metadata": {},
   "outputs": [
    {
     "data": {
      "text/plain": [
       "['.ipynb_checkpoints',\n",
       " 'Additional Files',\n",
       " 'example1.txt',\n",
       " 'expFileManager.py',\n",
       " 'L11 - Working with Files.ipynb']"
      ]
     },
     "execution_count": 119,
     "metadata": {},
     "output_type": "execute_result"
    }
   ],
   "source": [
    "# List all the files in the current working directory\n",
    "os.listdir()"
   ]
  },
  {
   "cell_type": "markdown",
   "id": "3714467f",
   "metadata": {},
   "source": [
    "We have used this to load .txt files during lectures and assignments; if a file is located in the same directory as your Python script, then the file can be found simply by specifying the file name."
   ]
  },
  {
   "cell_type": "code",
   "execution_count": 120,
   "id": "416d0273",
   "metadata": {},
   "outputs": [
    {
     "name": "stdout",
     "output_type": "stream",
     "text": [
      "Hello! These are the contents of an example file.\n"
     ]
    }
   ],
   "source": [
    "# Define a quick function for reading text files\n",
    "def readFile(fileName):\n",
    "    '''\n",
    "    Reads a text file and prints out its contents.\n",
    "    '''\n",
    "    with open(fileName, 'r') as file:\n",
    "        data = file.read()\n",
    "\n",
    "    print(data)\n",
    "\n",
    "\n",
    "# Specify file name\n",
    "fileName = 'example1.txt'\n",
    "readFile(fileName)"
   ]
  },
  {
   "cell_type": "markdown",
   "id": "2526653d",
   "metadata": {},
   "source": [
    "But what if we want to access a file that is not in the same directory as our script? For example, consider two additional text files named `example2.txt` and `example3.txt` that are located in the subfolder `Additional Files`."
   ]
  },
  {
   "cell_type": "code",
   "execution_count": 121,
   "id": "7efcf117",
   "metadata": {},
   "outputs": [
    {
     "ename": "FileNotFoundError",
     "evalue": "[Errno 2] No such file or directory: 'example2.txt'",
     "output_type": "error",
     "traceback": [
      "\u001b[1;31m---------------------------------------------------------------------------\u001b[0m",
      "\u001b[1;31mFileNotFoundError\u001b[0m                         Traceback (most recent call last)",
      "\u001b[1;32m~\\AppData\\Local\\Temp\\ipykernel_12624\\3516221924.py\u001b[0m in \u001b[0;36m<module>\u001b[1;34m\u001b[0m\n\u001b[0;32m      3\u001b[0m \u001b[1;33m\u001b[0m\u001b[0m\n\u001b[0;32m      4\u001b[0m \u001b[1;31m# Open file and read the text\u001b[0m\u001b[1;33m\u001b[0m\u001b[1;33m\u001b[0m\u001b[0m\n\u001b[1;32m----> 5\u001b[1;33m \u001b[1;32mwith\u001b[0m \u001b[0mopen\u001b[0m\u001b[1;33m(\u001b[0m\u001b[0mfileName\u001b[0m\u001b[1;33m,\u001b[0m \u001b[1;34m'r'\u001b[0m\u001b[1;33m)\u001b[0m \u001b[1;32mas\u001b[0m \u001b[0mfile\u001b[0m\u001b[1;33m:\u001b[0m\u001b[1;33m\u001b[0m\u001b[1;33m\u001b[0m\u001b[0m\n\u001b[0m\u001b[0;32m      6\u001b[0m     \u001b[0mdata\u001b[0m \u001b[1;33m=\u001b[0m \u001b[0mfile\u001b[0m\u001b[1;33m.\u001b[0m\u001b[0mread\u001b[0m\u001b[1;33m(\u001b[0m\u001b[1;33m)\u001b[0m\u001b[1;33m\u001b[0m\u001b[1;33m\u001b[0m\u001b[0m\n\u001b[0;32m      7\u001b[0m \u001b[1;33m\u001b[0m\u001b[0m\n",
      "\u001b[1;31mFileNotFoundError\u001b[0m: [Errno 2] No such file or directory: 'example2.txt'"
     ]
    }
   ],
   "source": [
    "# Try to read directly.\n",
    "fileName = 'example2.txt'\n",
    "\n",
    "# Open file and read the text\n",
    "with open(fileName, 'r') as file:\n",
    "    data = file.read()\n",
    "    \n",
    "print(data)"
   ]
  },
  {
   "cell_type": "markdown",
   "id": "ac9f549a",
   "metadata": {},
   "source": [
    "Python cannot see the files that are located in the subdirectory `Additional Files`. We need to provide Python with additional information about the **path** to these files to be able to access these."
   ]
  },
  {
   "cell_type": "markdown",
   "id": "1b35ff32",
   "metadata": {},
   "source": [
    "***\n",
    "## File Paths\n",
    "\n",
    "A **path** is a string that represents the specific location of a directory or file on your computer. You can think of this as the directions that your computer follows to find a file.\n",
    "\n",
    "There are two kinds of paths:"
   ]
  },
  {
   "cell_type": "markdown",
   "id": "b941f766",
   "metadata": {},
   "source": [
    "### Relative paths\n",
    "A relative path describes the location of a file **relative to the current working directory**. When we use relative paths, we are telling Python to find a certain file, starting from where the script is executed."
   ]
  },
  {
   "cell_type": "code",
   "execution_count": 122,
   "id": "52069575",
   "metadata": {},
   "outputs": [
    {
     "name": "stdout",
     "output_type": "stream",
     "text": [
      "Hello! These are the contents of an example file.\n"
     ]
    }
   ],
   "source": [
    "# Read the file 'example.txt', which is in the current working directory\n",
    "fileName = 'example1.txt'\n",
    "\n",
    "readFile(fileName)"
   ]
  },
  {
   "cell_type": "code",
   "execution_count": 123,
   "id": "2ae8efde",
   "metadata": {},
   "outputs": [
    {
     "name": "stdout",
     "output_type": "stream",
     "text": [
      "Hello! These are the contents of an example file.\n"
     ]
    }
   ],
   "source": [
    "# The current working directory can also be represented by a single . followed by the file separator.\n",
    "fileName = '.\\\\example1.txt'\n",
    "\n",
    "readFile(fileName)"
   ]
  },
  {
   "cell_type": "markdown",
   "id": "cd31b4df",
   "metadata": {},
   "source": [
    "We can specify the subfolder we want Python to look in as a relative path:"
   ]
  },
  {
   "cell_type": "code",
   "execution_count": 124,
   "id": "5d4de39f",
   "metadata": {},
   "outputs": [
    {
     "data": {
      "text/plain": [
       "['Even more files',\n",
       " 'example2.txt',\n",
       " 'example3.txt',\n",
       " 'example4.txt',\n",
       " 'exampleFive.txt']"
      ]
     },
     "execution_count": 124,
     "metadata": {},
     "output_type": "execute_result"
    }
   ],
   "source": [
    "# Look inside the Additional Files subdirectory, starting from the current directory\n",
    "os.listdir('.\\\\Additional Files')"
   ]
  },
  {
   "cell_type": "code",
   "execution_count": 125,
   "id": "deb1b9bc",
   "metadata": {},
   "outputs": [
    {
     "name": "stdout",
     "output_type": "stream",
     "text": [
      "This is a file that is located in a subfolder.\n"
     ]
    }
   ],
   "source": [
    "# Starting from the current working directory, read the file 'example2.txt' in the subfolder 'Additional Files'\n",
    "fileName = '.\\\\Additional Files\\\\example2.txt'\n",
    "\n",
    "readFile(fileName)"
   ]
  },
  {
   "cell_type": "markdown",
   "id": "3a61b00f",
   "metadata": {},
   "source": [
    "### Absolute paths\n",
    "An absolute path describes the location of a file relative to the **home directory**. When we use absolute paths, we are telling Python to find a certain file, using a **starting point that does not depend on the location of the script we are running**."
   ]
  },
  {
   "cell_type": "code",
   "execution_count": 126,
   "id": "f950ece0",
   "metadata": {},
   "outputs": [
    {
     "data": {
      "text/plain": [
       "'C:\\\\Users\\\\Aidan Hunt'"
      ]
     },
     "execution_count": 126,
     "metadata": {},
     "output_type": "execute_result"
    }
   ],
   "source": [
    "# Get the home directory\n",
    "os.path.expanduser('~')"
   ]
  },
  {
   "cell_type": "code",
   "execution_count": 127,
   "id": "794b228b",
   "metadata": {},
   "outputs": [
    {
     "data": {
      "text/plain": [
       "'C:\\\\Users\\\\Aidan Hunt\\\\MREL Dropbox\\\\Aidan Hunt\\\\STEP-UP - ME 498\\\\Lectures\\\\Lecture 11 - Working with Files'"
      ]
     },
     "execution_count": 127,
     "metadata": {},
     "output_type": "execute_result"
    }
   ],
   "source": [
    "# Remind ourselves what the current directory is\n",
    "os.getcwd()"
   ]
  },
  {
   "cell_type": "code",
   "execution_count": 128,
   "id": "46399b38",
   "metadata": {},
   "outputs": [
    {
     "name": "stdout",
     "output_type": "stream",
     "text": [
      "C:\\Users\\Aidan Hunt\\MREL Dropbox\\Aidan Hunt\\STEP-UP - ME 498\\Lectures\\Lecture 11 - Working with Files\\example1.txt\n",
      "Hello! These are the contents of an example file.\n"
     ]
    }
   ],
   "source": [
    "# Get the absolute path to `example.txt`\n",
    "fullPath = os.getcwd() + '\\\\example1.txt'\n",
    "print(fullPath)\n",
    "\n",
    "# Read the file\n",
    "readFile(fullPath)"
   ]
  },
  {
   "cell_type": "code",
   "execution_count": 129,
   "id": "4251f6cf",
   "metadata": {},
   "outputs": [
    {
     "name": "stdout",
     "output_type": "stream",
     "text": [
      "C:\\Users\\Aidan Hunt\\MREL Dropbox\\Aidan Hunt\\STEP-UP - ME 498\\Lectures\\Lecture 11 - Working with Files\\Additional Files\\example2.txt\n",
      "This is a file that is located in a subfolder.\n"
     ]
    }
   ],
   "source": [
    "# Get the absolute path to `example2.txt`\n",
    "fullPath = os.getcwd() + '\\\\Additional Files\\\\example2.txt'\n",
    "print(fullPath)\n",
    "\n",
    "# Read the file\n",
    "readFile(fullPath)"
   ]
  },
  {
   "cell_type": "markdown",
   "id": "7e731b13",
   "metadata": {},
   "source": [
    "## Constructing file paths programmatically\n",
    "\n",
    "The `os` module has functions for building file paths *programatically*.\n",
    "- Automatically uses appropriate file separator for your operating system in string concatenation.\n",
    "- Adds flexiblity: pass names of subfolders and files as parameters.\n",
    "\n",
    "**Goal**: Programmatically construct a relative and absolute paths `example2.txt`."
   ]
  },
  {
   "cell_type": "markdown",
   "id": "499a9a22",
   "metadata": {},
   "source": [
    "### Relative paths\n",
    "\n",
    "Start with the current working directory, then add on the subfolder and data file:"
   ]
  },
  {
   "cell_type": "code",
   "execution_count": 130,
   "id": "5957ab10",
   "metadata": {},
   "outputs": [
    {
     "name": "stdout",
     "output_type": "stream",
     "text": [
      ".\n",
      ".\\Additional Files\n",
      ".\\Additional Files\\example2.txt\n"
     ]
    }
   ],
   "source": [
    "# Initialize our path to be the current working directory\n",
    "fullPath = '.'\n",
    "print(fullPath)\n",
    "\n",
    "# Add subfolder\n",
    "fullPath = os.path.join(fullPath, 'Additional Files')\n",
    "print(fullPath)\n",
    "\n",
    "# Add data file to the path\n",
    "fullPath = os.path.join(fullPath, 'example2.txt')\n",
    "print(fullPath)"
   ]
  },
  {
   "cell_type": "code",
   "execution_count": 131,
   "id": "40981e03",
   "metadata": {},
   "outputs": [
    {
     "name": "stdout",
     "output_type": "stream",
     "text": [
      "This is a file that is located in a subfolder.\n"
     ]
    }
   ],
   "source": [
    "# Read the file\n",
    "readFile(fullPath)"
   ]
  },
  {
   "cell_type": "markdown",
   "id": "b8a79825",
   "metadata": {},
   "source": [
    "### Absolute paths\n",
    "\n",
    "Start with the home path, then add on each subdirectory:"
   ]
  },
  {
   "cell_type": "code",
   "execution_count": 132,
   "id": "35e47301",
   "metadata": {},
   "outputs": [
    {
     "name": "stdout",
     "output_type": "stream",
     "text": [
      "C:\\Users\\Aidan Hunt\\MREL Dropbox\n",
      "C:\\Users\\Aidan Hunt\\MREL Dropbox\\Aidan Hunt\n",
      "C:\\Users\\Aidan Hunt\\MREL Dropbox\\Aidan Hunt\\STEP-UP - ME 498\n",
      "C:\\Users\\Aidan Hunt\\MREL Dropbox\\Aidan Hunt\\STEP-UP - ME 498\\Lectures\n",
      "C:\\Users\\Aidan Hunt\\MREL Dropbox\\Aidan Hunt\\STEP-UP - ME 498\\Lectures\\Lecture 11 - Working with Files\n",
      "C:\\Users\\Aidan Hunt\\MREL Dropbox\\Aidan Hunt\\STEP-UP - ME 498\\Lectures\\Lecture 11 - Working with Files\\Additional Files\n"
     ]
    }
   ],
   "source": [
    "homePath = os.path.expanduser('~')\n",
    "subDirs = ['MREL Dropbox', 'Aidan Hunt', 'STEP-UP - ME 498', 'Lectures', \n",
    "           'Lecture 11 - Working with Files', 'Additional Files']\n",
    "\n",
    "fullPath = homePath # Initialize our path as the home path\n",
    "for s in subDirs:\n",
    "    fullPath = os.path.join(fullPath, s) # Add next subdirectory\n",
    "    print(fullPath)"
   ]
  },
  {
   "cell_type": "code",
   "execution_count": 133,
   "id": "10358f13",
   "metadata": {},
   "outputs": [
    {
     "name": "stdout",
     "output_type": "stream",
     "text": [
      "This is a file that is located in a subfolder.\n",
      "Another example file in the same subfolder.\n"
     ]
    }
   ],
   "source": [
    "# Read example2.txt\n",
    "filePath = os.path.join(fullPath, 'example2.txt')\n",
    "readFile(filePath)\n",
    "\n",
    "# Read example3.txt\n",
    "filePath = os.path.join(fullPath, 'example3.txt')\n",
    "readFile(filePath)"
   ]
  },
  {
   "cell_type": "markdown",
   "id": "646275e9",
   "metadata": {},
   "source": [
    "### Comparing path types\n",
    "\n",
    "**So, which is best? (Discuss)**:\n",
    "\n",
    "Relative paths\n",
    "- Pro: Quick and easy to make, especially for small numbers of files\n",
    "- Con: Path is dependent on processing script location\n",
    "\n",
    "Absolute paths\n",
    "- Pro: Path is independent of processing script location\n",
    "- Con: Harder to construct file paths on the fly (?)\n",
    "\n",
    "In terms of scalability, absolute paths are the most robust because they depend on the *location of the data*, not the script that is working with the data."
   ]
  },
  {
   "cell_type": "markdown",
   "id": "2c92785a",
   "metadata": {},
   "source": [
    "***\n",
    "## Pattern-matching for filenames\n",
    "\n",
    "Common scenario: we are working with a lot of files with similar names, stored in a similar location.\n",
    "- Sequence of data files generated by a sensor/machine\n",
    "- Images\n",
    "\n",
    "Use the `glob` module for finding files based on a particular naming convention and path.\n",
    "- Given a file path pattern, returns a list of the paths to all files matching that pattern.\n",
    "- '*' character acts as a wildcard (can be any number of characters)"
   ]
  },
  {
   "cell_type": "code",
   "execution_count": 146,
   "id": "cdc6091a",
   "metadata": {},
   "outputs": [],
   "source": [
    "# The most fun import statement that we will write all quarter\n",
    "import glob"
   ]
  },
  {
   "cell_type": "code",
   "execution_count": 147,
   "id": "5cf56ee8",
   "metadata": {},
   "outputs": [
    {
     "data": {
      "text/plain": [
       "['.\\\\example1.txt']"
      ]
     },
     "execution_count": 147,
     "metadata": {},
     "output_type": "execute_result"
    }
   ],
   "source": [
    "# Find all files matching matching the template of 'example*.txt' in the current directory\n",
    "glob.glob('.\\\\example*.txt')"
   ]
  },
  {
   "cell_type": "code",
   "execution_count": 148,
   "id": "f60dcd41",
   "metadata": {},
   "outputs": [
    {
     "data": {
      "text/plain": [
       "['.\\\\Additional Files\\\\example2.txt',\n",
       " '.\\\\Additional Files\\\\example3.txt',\n",
       " '.\\\\Additional Files\\\\example4.txt',\n",
       " '.\\\\Additional Files\\\\exampleFive.txt']"
      ]
     },
     "execution_count": 148,
     "metadata": {},
     "output_type": "execute_result"
    }
   ],
   "source": [
    "# Find all files matching the template of 'example*.txt' in any subdirectories of the current directory\n",
    "glob.glob('.\\\\**\\\\example*.txt')"
   ]
  },
  {
   "cell_type": "code",
   "execution_count": 149,
   "id": "70163f39",
   "metadata": {},
   "outputs": [
    {
     "data": {
      "text/plain": [
       "['.\\\\Additional Files\\\\Even more files\\\\example6.txt',\n",
       " '.\\\\Additional Files\\\\Even more files\\\\example7.txt',\n",
       " '.\\\\Additional Files\\\\Even more files\\\\example8.txt']"
      ]
     },
     "execution_count": 149,
     "metadata": {},
     "output_type": "execute_result"
    }
   ],
   "source": [
    "# Find all files matching the template of 'example*.txt'\n",
    "# in any subdirectories of subdirectories of the current directory\n",
    "glob.glob('.\\\\**\\\\**\\\\example*.txt')"
   ]
  },
  {
   "cell_type": "code",
   "execution_count": 150,
   "id": "d7313725",
   "metadata": {},
   "outputs": [
    {
     "data": {
      "text/plain": [
       "['.\\\\example1.txt',\n",
       " '.\\\\Additional Files\\\\example2.txt',\n",
       " '.\\\\Additional Files\\\\example3.txt',\n",
       " '.\\\\Additional Files\\\\example4.txt',\n",
       " '.\\\\Additional Files\\\\exampleFive.txt',\n",
       " '.\\\\Additional Files\\\\Even more files\\\\example6.txt',\n",
       " '.\\\\Additional Files\\\\Even more files\\\\example7.txt',\n",
       " '.\\\\Additional Files\\\\Even more files\\\\example8.txt']"
      ]
     },
     "execution_count": 150,
     "metadata": {},
     "output_type": "execute_result"
    }
   ],
   "source": [
    "# Find all files matching the template of 'example*.txt'\n",
    "# in the current directory AND any level of subdirectory\n",
    "glob.glob('.\\\\**\\\\example*.txt', recursive=True)"
   ]
  },
  {
   "cell_type": "markdown",
   "id": "2c025258",
   "metadata": {},
   "source": [
    "## Next Time\n",
    "\n",
    "Expand on this with a batch processing routine!"
   ]
  }
 ],
 "metadata": {
  "kernelspec": {
   "display_name": "Python 3 (ipykernel)",
   "language": "python",
   "name": "python3"
  },
  "language_info": {
   "codemirror_mode": {
    "name": "ipython",
    "version": 3
   },
   "file_extension": ".py",
   "mimetype": "text/x-python",
   "name": "python",
   "nbconvert_exporter": "python",
   "pygments_lexer": "ipython3",
   "version": "3.9.12"
  }
 },
 "nbformat": 4,
 "nbformat_minor": 5
}
