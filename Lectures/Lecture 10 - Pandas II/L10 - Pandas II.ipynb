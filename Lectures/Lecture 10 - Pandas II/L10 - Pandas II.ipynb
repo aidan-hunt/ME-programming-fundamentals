{
 "cells": [
  {
   "cell_type": "markdown",
   "id": "5192cf11",
   "metadata": {},
   "source": [
    "# Pandas II\n",
    "Aidan Hunt, University of Washington\n",
    "\n",
    "***\n",
    "## Learning Objectives\n",
    "In this lecture, students will practice working with DataFrames, including how to:\n",
    "- Performing data analysis with DataFrames\n",
    "- Merging multiple data frames into a single DataFrame\n",
    "- Writing DataFrames to .csv files\n",
    "\n",
    "## Check-in\n",
    "- Please fill out survey\n",
    "- Homework 3 feedback video\n",
    "- Homework 4 due Friday, updated spec\n",
    "\n",
    "***"
   ]
  },
  {
   "cell_type": "markdown",
   "id": "75142aca",
   "metadata": {},
   "source": [
    "## Summary from last time\n",
    "- Pandas gives us data structures for handling tabular data that are built on top of NumPy\n",
    "    - `DataFrame`: like a spreadsheet\n",
    "    - `Series`: like a column of the spreadsheet\n",
    "    -  Both `DataFrame` and `Series` objects have an \"explicit\" index (like dictionary keys) and \"implicit\" numerical index (like NumPy arrays)\n",
    "    - All columns are single type\n",
    "    - Like dictionary keys, index can be anything immutable\n",
    "- Very easy to import data .txt, .csv, etc. data directly as a DataFrame\n",
    "- Can index `DataFrame` and `Series` objects using labels or using integer index\n",
    "- Can use timestamps as our index and slice by year, year and month, etc."
   ]
  },
  {
   "cell_type": "markdown",
   "id": "1d717474",
   "metadata": {},
   "source": [
    "We used this to create import data from the USGS readings on the Skykomish River as a DataFrame"
   ]
  },
  {
   "cell_type": "code",
   "execution_count": 7,
   "id": "c9f91a9f",
   "metadata": {},
   "outputs": [],
   "source": [
    "import numpy as np\n",
    "import pandas as pd\n",
    "\n",
    "def importUSGSData(fileName, metricName):\n",
    "    '''\n",
    "    Reads a USGS .txt file given by fileName (as a string) and returns \n",
    "    the result as a dataframe. The 5th column is labeled using the \n",
    "    given metricName (as a string).\n",
    "    '''\n",
    "    \n",
    "    # Import data, keeping only the columns that we are interested in\n",
    "    colNames = ['Timestamp', metricName]\n",
    "    df = pd.read_csv(fileName, skiprows=29, delimiter='\\t', \n",
    "                 header=None, usecols=[2, 4], names=colNames)\n",
    "    \n",
    "    # Convert timestamps to datetime and set as index\n",
    "    df.set_index('Timestamp', inplace=True)\n",
    "    df.index = pd.to_datetime(df.index)\n",
    "    \n",
    "    # Return object\n",
    "    return df\n",
    "    "
   ]
  },
  {
   "cell_type": "code",
   "execution_count": 13,
   "id": "e081c396",
   "metadata": {},
   "outputs": [
    {
     "data": {
      "text/html": [
       "<div>\n",
       "<style scoped>\n",
       "    .dataframe tbody tr th:only-of-type {\n",
       "        vertical-align: middle;\n",
       "    }\n",
       "\n",
       "    .dataframe tbody tr th {\n",
       "        vertical-align: top;\n",
       "    }\n",
       "\n",
       "    .dataframe thead th {\n",
       "        text-align: right;\n",
       "    }\n",
       "</style>\n",
       "<table border=\"1\" class=\"dataframe\">\n",
       "  <thead>\n",
       "    <tr style=\"text-align: right;\">\n",
       "      <th></th>\n",
       "      <th>Flow</th>\n",
       "    </tr>\n",
       "    <tr>\n",
       "      <th>Timestamp</th>\n",
       "      <th></th>\n",
       "    </tr>\n",
       "  </thead>\n",
       "  <tbody>\n",
       "    <tr>\n",
       "      <th>2020-01-01 01:15:00</th>\n",
       "      <td>17800</td>\n",
       "    </tr>\n",
       "    <tr>\n",
       "      <th>2020-01-01 01:30:00</th>\n",
       "      <td>17900</td>\n",
       "    </tr>\n",
       "    <tr>\n",
       "      <th>2020-01-01 01:45:00</th>\n",
       "      <td>18300</td>\n",
       "    </tr>\n",
       "    <tr>\n",
       "      <th>2020-01-01 02:00:00</th>\n",
       "      <td>18500</td>\n",
       "    </tr>\n",
       "    <tr>\n",
       "      <th>2020-01-01 02:15:00</th>\n",
       "      <td>18800</td>\n",
       "    </tr>\n",
       "    <tr>\n",
       "      <th>...</th>\n",
       "      <td>...</td>\n",
       "    </tr>\n",
       "    <tr>\n",
       "      <th>2022-12-30 23:45:00</th>\n",
       "      <td>6330</td>\n",
       "    </tr>\n",
       "    <tr>\n",
       "      <th>2022-12-31 00:00:00</th>\n",
       "      <td>6300</td>\n",
       "    </tr>\n",
       "    <tr>\n",
       "      <th>2022-12-31 00:15:00</th>\n",
       "      <td>6330</td>\n",
       "    </tr>\n",
       "    <tr>\n",
       "      <th>2022-12-31 00:30:00</th>\n",
       "      <td>6380</td>\n",
       "    </tr>\n",
       "    <tr>\n",
       "      <th>2022-12-31 00:45:00</th>\n",
       "      <td>6380</td>\n",
       "    </tr>\n",
       "  </tbody>\n",
       "</table>\n",
       "<p>105048 rows × 1 columns</p>\n",
       "</div>"
      ],
      "text/plain": [
       "                      Flow\n",
       "Timestamp                 \n",
       "2020-01-01 01:15:00  17800\n",
       "2020-01-01 01:30:00  17900\n",
       "2020-01-01 01:45:00  18300\n",
       "2020-01-01 02:00:00  18500\n",
       "2020-01-01 02:15:00  18800\n",
       "...                    ...\n",
       "2022-12-30 23:45:00   6330\n",
       "2022-12-31 00:00:00   6300\n",
       "2022-12-31 00:15:00   6330\n",
       "2022-12-31 00:30:00   6380\n",
       "2022-12-31 00:45:00   6380\n",
       "\n",
       "[105048 rows x 1 columns]"
      ]
     },
     "execution_count": 13,
     "metadata": {},
     "output_type": "execute_result"
    }
   ],
   "source": [
    "# Import flow time series\n",
    "skyFlow = importUSGSData('sky_flow.txt', 'Flow')\n",
    "skyFlow"
   ]
  },
  {
   "cell_type": "markdown",
   "id": "addda4bd",
   "metadata": {},
   "source": [
    "This time: work in groups to accomplish several tasks with DataFrames"
   ]
  },
  {
   "cell_type": "markdown",
   "id": "825de239",
   "metadata": {},
   "source": [
    "## Task #1: Data Analysis\n",
    "\n",
    "**Objective**: For each year, identify the month with the highest average flow rate.\n",
    "- Return the result as a length N vector, where N is the number of years.\n",
    "- Determine the months and years to consider *programmatically* based on the data (i.e., don't hard-code the years).\n",
    "\n",
    "**Hints**:\n",
    "- For *programmatically* determining the months and years to consider:\n",
    "    - Remember that we can easily access the components of a DateTimeIndex (e.g., .year or .day)\n",
    "    - Consider using the `np.unique` function.\n",
    "- For finding maximum flows, consider the `np.max` and `np.argmax` functions.\n",
    "\n",
    "**Organization**:\n",
    "- 2 minutes - pseudocode\n",
    "- 5 minutes - talk about pseudocode\n",
    "- 10 minutes: work on this in groups\n",
    "- 10 minutes: talk about together"
   ]
  },
  {
   "cell_type": "markdown",
   "id": "9838ba31",
   "metadata": {},
   "source": [
    "### Building a pseudocode outline\n",
    "First, recall that when using time-stamps as our `DataFrame` index, we can slice the `DataFrame` based on parts of the date:"
   ]
  },
  {
   "cell_type": "code",
   "execution_count": 28,
   "id": "2e7b0c53",
   "metadata": {},
   "outputs": [
    {
     "data": {
      "text/html": [
       "<div>\n",
       "<style scoped>\n",
       "    .dataframe tbody tr th:only-of-type {\n",
       "        vertical-align: middle;\n",
       "    }\n",
       "\n",
       "    .dataframe tbody tr th {\n",
       "        vertical-align: top;\n",
       "    }\n",
       "\n",
       "    .dataframe thead th {\n",
       "        text-align: right;\n",
       "    }\n",
       "</style>\n",
       "<table border=\"1\" class=\"dataframe\">\n",
       "  <thead>\n",
       "    <tr style=\"text-align: right;\">\n",
       "      <th></th>\n",
       "      <th>Flow</th>\n",
       "    </tr>\n",
       "    <tr>\n",
       "      <th>Timestamp</th>\n",
       "      <th></th>\n",
       "    </tr>\n",
       "  </thead>\n",
       "  <tbody>\n",
       "    <tr>\n",
       "      <th>2021-01-01 00:00:00</th>\n",
       "      <td>5010</td>\n",
       "    </tr>\n",
       "    <tr>\n",
       "      <th>2021-01-01 00:15:00</th>\n",
       "      <td>5080</td>\n",
       "    </tr>\n",
       "    <tr>\n",
       "      <th>2021-01-01 00:30:00</th>\n",
       "      <td>5010</td>\n",
       "    </tr>\n",
       "    <tr>\n",
       "      <th>2021-01-01 00:45:00</th>\n",
       "      <td>5040</td>\n",
       "    </tr>\n",
       "    <tr>\n",
       "      <th>2021-01-01 01:00:00</th>\n",
       "      <td>5040</td>\n",
       "    </tr>\n",
       "    <tr>\n",
       "      <th>...</th>\n",
       "      <td>...</td>\n",
       "    </tr>\n",
       "    <tr>\n",
       "      <th>2021-12-31 22:45:00</th>\n",
       "      <td>2130</td>\n",
       "    </tr>\n",
       "    <tr>\n",
       "      <th>2021-12-31 23:00:00</th>\n",
       "      <td>2130</td>\n",
       "    </tr>\n",
       "    <tr>\n",
       "      <th>2021-12-31 23:15:00</th>\n",
       "      <td>2130</td>\n",
       "    </tr>\n",
       "    <tr>\n",
       "      <th>2021-12-31 23:30:00</th>\n",
       "      <td>2120</td>\n",
       "    </tr>\n",
       "    <tr>\n",
       "      <th>2021-12-31 23:45:00</th>\n",
       "      <td>2130</td>\n",
       "    </tr>\n",
       "  </tbody>\n",
       "</table>\n",
       "<p>35034 rows × 1 columns</p>\n",
       "</div>"
      ],
      "text/plain": [
       "                     Flow\n",
       "Timestamp                \n",
       "2021-01-01 00:00:00  5010\n",
       "2021-01-01 00:15:00  5080\n",
       "2021-01-01 00:30:00  5010\n",
       "2021-01-01 00:45:00  5040\n",
       "2021-01-01 01:00:00  5040\n",
       "...                   ...\n",
       "2021-12-31 22:45:00  2130\n",
       "2021-12-31 23:00:00  2130\n",
       "2021-12-31 23:15:00  2130\n",
       "2021-12-31 23:30:00  2120\n",
       "2021-12-31 23:45:00  2130\n",
       "\n",
       "[35034 rows x 1 columns]"
      ]
     },
     "execution_count": 28,
     "metadata": {},
     "output_type": "execute_result"
    }
   ],
   "source": [
    "skyFlow.loc['2021'] # Get all data from 2021"
   ]
  },
  {
   "cell_type": "code",
   "execution_count": 29,
   "id": "5c57b889",
   "metadata": {},
   "outputs": [
    {
     "data": {
      "text/html": [
       "<div>\n",
       "<style scoped>\n",
       "    .dataframe tbody tr th:only-of-type {\n",
       "        vertical-align: middle;\n",
       "    }\n",
       "\n",
       "    .dataframe tbody tr th {\n",
       "        vertical-align: top;\n",
       "    }\n",
       "\n",
       "    .dataframe thead th {\n",
       "        text-align: right;\n",
       "    }\n",
       "</style>\n",
       "<table border=\"1\" class=\"dataframe\">\n",
       "  <thead>\n",
       "    <tr style=\"text-align: right;\">\n",
       "      <th></th>\n",
       "      <th>Flow</th>\n",
       "    </tr>\n",
       "    <tr>\n",
       "      <th>Timestamp</th>\n",
       "      <th></th>\n",
       "    </tr>\n",
       "  </thead>\n",
       "  <tbody>\n",
       "    <tr>\n",
       "      <th>2021-01-01 00:00:00</th>\n",
       "      <td>5010</td>\n",
       "    </tr>\n",
       "    <tr>\n",
       "      <th>2021-01-01 00:15:00</th>\n",
       "      <td>5080</td>\n",
       "    </tr>\n",
       "    <tr>\n",
       "      <th>2021-01-01 00:30:00</th>\n",
       "      <td>5010</td>\n",
       "    </tr>\n",
       "    <tr>\n",
       "      <th>2021-01-01 00:45:00</th>\n",
       "      <td>5040</td>\n",
       "    </tr>\n",
       "    <tr>\n",
       "      <th>2021-01-01 01:00:00</th>\n",
       "      <td>5040</td>\n",
       "    </tr>\n",
       "    <tr>\n",
       "      <th>...</th>\n",
       "      <td>...</td>\n",
       "    </tr>\n",
       "    <tr>\n",
       "      <th>2021-01-31 22:45:00</th>\n",
       "      <td>1660</td>\n",
       "    </tr>\n",
       "    <tr>\n",
       "      <th>2021-01-31 23:00:00</th>\n",
       "      <td>1660</td>\n",
       "    </tr>\n",
       "    <tr>\n",
       "      <th>2021-01-31 23:15:00</th>\n",
       "      <td>1670</td>\n",
       "    </tr>\n",
       "    <tr>\n",
       "      <th>2021-01-31 23:30:00</th>\n",
       "      <td>1660</td>\n",
       "    </tr>\n",
       "    <tr>\n",
       "      <th>2021-01-31 23:45:00</th>\n",
       "      <td>1660</td>\n",
       "    </tr>\n",
       "  </tbody>\n",
       "</table>\n",
       "<p>2976 rows × 1 columns</p>\n",
       "</div>"
      ],
      "text/plain": [
       "                     Flow\n",
       "Timestamp                \n",
       "2021-01-01 00:00:00  5010\n",
       "2021-01-01 00:15:00  5080\n",
       "2021-01-01 00:30:00  5010\n",
       "2021-01-01 00:45:00  5040\n",
       "2021-01-01 01:00:00  5040\n",
       "...                   ...\n",
       "2021-01-31 22:45:00  1660\n",
       "2021-01-31 23:00:00  1660\n",
       "2021-01-31 23:15:00  1670\n",
       "2021-01-31 23:30:00  1660\n",
       "2021-01-31 23:45:00  1660\n",
       "\n",
       "[2976 rows x 1 columns]"
      ]
     },
     "execution_count": 29,
     "metadata": {},
     "output_type": "execute_result"
    }
   ],
   "source": [
    "skyFlow.loc['2021-01'] # Get all data from January 2021"
   ]
  },
  {
   "cell_type": "markdown",
   "id": "6e0139d2",
   "metadata": {},
   "source": [
    "This gives us a way to examine each month-year combination in the `DataFrame`. We just need to generate a string that matches the expected format. Something like:"
   ]
  },
  {
   "cell_type": "code",
   "execution_count": 30,
   "id": "e4514a9f",
   "metadata": {},
   "outputs": [],
   "source": [
    "# For each year\n",
    "    # For each month\n",
    "        # Generate 'year-month' string\n",
    "        # Slice data frame\n",
    "        # Determine maximum flow for this year month\n",
    "        # Store this maximum in a matrix of some kind?"
   ]
  },
  {
   "cell_type": "markdown",
   "id": "db30eea3",
   "metadata": {},
   "source": [
    "We will also need:\n",
    "- some way to know the months and years to consider based on the data.\n",
    "- some way to store the month-year maximums."
   ]
  },
  {
   "cell_type": "code",
   "execution_count": 30,
   "id": "ea3f3d7d",
   "metadata": {},
   "outputs": [],
   "source": [
    "# Determine year range\n",
    "# Determine month range\n",
    "\n",
    "# Initialize results matrix\n",
    "\n",
    "# For each year\n",
    "    # For each month\n",
    "        # Generate 'year-month' string\n",
    "        # Slice data frame\n",
    "        # Determine average flow for this year month\n",
    "        # Store this average in a matrix of some kind?\n",
    "        \n",
    "# Analyze the reuslts matrix to determine month of each yearly maximum"
   ]
  },
  {
   "cell_type": "markdown",
   "id": "602be42e",
   "metadata": {},
   "source": [
    "### Building on the pseudocode outline"
   ]
  },
  {
   "cell_type": "markdown",
   "id": "9832b3d1",
   "metadata": {},
   "source": [
    "To get the years and months from the data, recall that we can extract these from the DateTimeIndex:"
   ]
  },
  {
   "cell_type": "code",
   "execution_count": 31,
   "id": "ca572ea4",
   "metadata": {},
   "outputs": [
    {
     "name": "stdout",
     "output_type": "stream",
     "text": [
      "Int64Index([2020, 2020, 2020, 2020, 2020, 2020, 2020, 2020, 2020, 2020,\n",
      "            ...\n",
      "            2022, 2022, 2022, 2022, 2022, 2022, 2022, 2022, 2022, 2022],\n",
      "           dtype='int64', name='Timestamp', length=105048)\n",
      "Int64Index([ 1,  1,  1,  1,  1,  1,  1,  1,  1,  1,\n",
      "            ...\n",
      "            12, 12, 12, 12, 12, 12, 12, 12, 12, 12],\n",
      "           dtype='int64', name='Timestamp', length=105048)\n"
     ]
    }
   ],
   "source": [
    "# Get year and month values (yay Datetimes!)\n",
    "years = skyFlow.index.year\n",
    "months =skyFlow.index.month \n",
    "print(years)\n",
    "print(months)"
   ]
  },
  {
   "cell_type": "markdown",
   "id": "e14fae38",
   "metadata": {},
   "source": [
    "However, we only need unique values to determine the year-month combinations. Use `np.unique!`"
   ]
  },
  {
   "cell_type": "code",
   "execution_count": 32,
   "id": "3d7896bc",
   "metadata": {},
   "outputs": [
    {
     "name": "stdout",
     "output_type": "stream",
     "text": [
      "[2020 2021 2022]\n",
      "[ 1  2  3  4  5  6  7  8  9 10 11 12]\n"
     ]
    }
   ],
   "source": [
    "years = np.unique(skyFlow.index.year)\n",
    "months = np.unique(skyFlow.index.month)\n",
    "print(years)\n",
    "print(months)"
   ]
  },
  {
   "cell_type": "markdown",
   "id": "8745c223",
   "metadata": {},
   "source": [
    "Let's preallocate a NumPy array to put our results in:\n",
    "- Rows: each year\n",
    "- Columns: each month"
   ]
  },
  {
   "cell_type": "code",
   "execution_count": 36,
   "id": "53516c5e",
   "metadata": {},
   "outputs": [
    {
     "name": "stdout",
     "output_type": "stream",
     "text": [
      "[[0. 0. 0. 0. 0. 0. 0. 0. 0. 0. 0. 0.]\n",
      " [0. 0. 0. 0. 0. 0. 0. 0. 0. 0. 0. 0.]\n",
      " [0. 0. 0. 0. 0. 0. 0. 0. 0. 0. 0. 0.]]\n"
     ]
    }
   ],
   "source": [
    "# Preallocate\n",
    "monthlyAverages = np.zeros([len(years), len(months)])\n",
    "print(monthlyAverages)"
   ]
  },
  {
   "cell_type": "markdown",
   "id": "e62c727d",
   "metadata": {},
   "source": [
    "Now fill in the loop with what we know so far:"
   ]
  },
  {
   "cell_type": "code",
   "execution_count": null,
   "id": "3c3c6b5a",
   "metadata": {},
   "outputs": [],
   "source": [
    "for i, y in enumerate(years): # For each year\n",
    "    for j, m in enumerate(months): # For each month\n",
    "        # Generate 'year-month' string\n",
    "        # Slice data frame\n",
    "        # Determine average flow for this year month\n",
    "        # monthlyAverages[i,j] = max we determined before"
   ]
  },
  {
   "cell_type": "markdown",
   "id": "8f40f197",
   "metadata": {},
   "source": [
    "The last step is to create the string from the year and month that we can use to slice the `DataFrame`!"
   ]
  },
  {
   "cell_type": "code",
   "execution_count": 46,
   "id": "9bf989ab",
   "metadata": {},
   "outputs": [],
   "source": [
    "for i, y in enumerate(years): # For each year\n",
    "    for j, m in enumerate(months): # For each month\n",
    "        # Build date and month spec\n",
    "        date = str(y) + '-' + str(m)\n",
    "        \n",
    "        # Slice the dataframe\n",
    "        currSlice = skyFlow.loc[date]\n",
    "        \n",
    "        # Get the average flow\n",
    "        monthlyAverages[i,j] = np.mean(currSlice.Flow)\n",
    "        "
   ]
  },
  {
   "cell_type": "code",
   "execution_count": 47,
   "id": "dcc61cb2",
   "metadata": {
    "scrolled": true
   },
   "outputs": [
    {
     "name": "stdout",
     "output_type": "stream",
     "text": [
      "[[ 9012.29054054  7792.37734488  2385.01516684  4546.56944444\n",
      "   8433.9635996   6560.15277778  2546.85608608   881.0124328\n",
      "   1449.65486111  5300.18218487  5928.54368932  4879.22326833]\n",
      " [ 5822.89650538  3379.63169643  2447.37213997  4140.46543939\n",
      "   7072.75201613  8372.64930556  2049.60819892   740.42789916\n",
      "   1327.95486111  4352.45289367 11239.02912621  5010.43682796]\n",
      " [ 6859.70400269  3385.88169643  6071.98519515  3094.23958333\n",
      "   6217.65120968  9312.38888889  3365.78288806   878.69522849\n",
      "    470.65578326   956.87264785  3719.96705964  3613.47156727]]\n"
     ]
    }
   ],
   "source": [
    "print(monthlyAverages)"
   ]
  },
  {
   "cell_type": "code",
   "execution_count": 48,
   "id": "473f8772",
   "metadata": {},
   "outputs": [
    {
     "data": {
      "text/plain": [
       "array([ 9012.29054054, 11239.02912621,  9312.38888889])"
      ]
     },
     "execution_count": 48,
     "metadata": {},
     "output_type": "execute_result"
    }
   ],
   "source": [
    "# Get the max flow each year\n",
    "np.max(monthlyAverages, axis=1)"
   ]
  },
  {
   "cell_type": "code",
   "execution_count": 49,
   "id": "35c07bf7",
   "metadata": {},
   "outputs": [
    {
     "data": {
      "text/plain": [
       "array([ 0, 10,  5], dtype=int64)"
      ]
     },
     "execution_count": 49,
     "metadata": {},
     "output_type": "execute_result"
    }
   ],
   "source": [
    "# Get index of the max average each year\n",
    "monthInd = np.argmax(monthlyAverages, axis=1)"
   ]
  },
  {
   "cell_type": "code",
   "execution_count": 50,
   "id": "710bc836",
   "metadata": {},
   "outputs": [
    {
     "data": {
      "text/plain": [
       "array([ 1, 11,  6], dtype=int64)"
      ]
     },
     "execution_count": 50,
     "metadata": {},
     "output_type": "execute_result"
    }
   ],
   "source": [
    "# Determine the month corresponding to each index\n",
    "months[monthInd]"
   ]
  },
  {
   "cell_type": "markdown",
   "id": "395c3346",
   "metadata": {},
   "source": [
    "So:\n",
    "- In 2020, max average flow was in January\n",
    "- In 2021, max average flow was in November\n",
    "- In 2022, max average flow was in June"
   ]
  },
  {
   "cell_type": "markdown",
   "id": "2c92785a",
   "metadata": {},
   "source": [
    "***\n",
    "## Task 2: Creating a combined DataFrame\n",
    "\n",
    "The USGS timeseries can only be accessed for one quantity of interest at a time.\n",
    "- We have three data files: `skykomish_flow.txt` and `skykomish_temp.txt`.\n",
    "- Since the files are of similar formats, lets define a function to do this for us!\n",
    "- Then, lets parse all three"
   ]
  },
  {
   "cell_type": "code",
   "execution_count": 52,
   "id": "8d979fe0",
   "metadata": {},
   "outputs": [
    {
     "data": {
      "text/html": [
       "<div>\n",
       "<style scoped>\n",
       "    .dataframe tbody tr th:only-of-type {\n",
       "        vertical-align: middle;\n",
       "    }\n",
       "\n",
       "    .dataframe tbody tr th {\n",
       "        vertical-align: top;\n",
       "    }\n",
       "\n",
       "    .dataframe thead th {\n",
       "        text-align: right;\n",
       "    }\n",
       "</style>\n",
       "<table border=\"1\" class=\"dataframe\">\n",
       "  <thead>\n",
       "    <tr style=\"text-align: right;\">\n",
       "      <th></th>\n",
       "      <th>temp</th>\n",
       "    </tr>\n",
       "    <tr>\n",
       "      <th>Timestamp</th>\n",
       "      <th></th>\n",
       "    </tr>\n",
       "  </thead>\n",
       "  <tbody>\n",
       "    <tr>\n",
       "      <th>2022-07-12 11:45:00</th>\n",
       "      <td>12.6</td>\n",
       "    </tr>\n",
       "    <tr>\n",
       "      <th>2022-07-12 12:00:00</th>\n",
       "      <td>12.7</td>\n",
       "    </tr>\n",
       "    <tr>\n",
       "      <th>2022-07-12 12:15:00</th>\n",
       "      <td>12.8</td>\n",
       "    </tr>\n",
       "    <tr>\n",
       "      <th>2022-07-12 12:30:00</th>\n",
       "      <td>12.9</td>\n",
       "    </tr>\n",
       "    <tr>\n",
       "      <th>2022-07-12 12:45:00</th>\n",
       "      <td>13.0</td>\n",
       "    </tr>\n",
       "    <tr>\n",
       "      <th>...</th>\n",
       "      <td>...</td>\n",
       "    </tr>\n",
       "    <tr>\n",
       "      <th>2022-12-30 23:45:00</th>\n",
       "      <td>4.5</td>\n",
       "    </tr>\n",
       "    <tr>\n",
       "      <th>2022-12-31 00:00:00</th>\n",
       "      <td>4.5</td>\n",
       "    </tr>\n",
       "    <tr>\n",
       "      <th>2022-12-31 00:15:00</th>\n",
       "      <td>4.5</td>\n",
       "    </tr>\n",
       "    <tr>\n",
       "      <th>2022-12-31 00:30:00</th>\n",
       "      <td>4.5</td>\n",
       "    </tr>\n",
       "    <tr>\n",
       "      <th>2022-12-31 00:45:00</th>\n",
       "      <td>4.5</td>\n",
       "    </tr>\n",
       "  </tbody>\n",
       "</table>\n",
       "<p>16467 rows × 1 columns</p>\n",
       "</div>"
      ],
      "text/plain": [
       "                     temp\n",
       "Timestamp                \n",
       "2022-07-12 11:45:00  12.6\n",
       "2022-07-12 12:00:00  12.7\n",
       "2022-07-12 12:15:00  12.8\n",
       "2022-07-12 12:30:00  12.9\n",
       "2022-07-12 12:45:00  13.0\n",
       "...                   ...\n",
       "2022-12-30 23:45:00   4.5\n",
       "2022-12-31 00:00:00   4.5\n",
       "2022-12-31 00:15:00   4.5\n",
       "2022-12-31 00:30:00   4.5\n",
       "2022-12-31 00:45:00   4.5\n",
       "\n",
       "[16467 rows x 1 columns]"
      ]
     },
     "execution_count": 52,
     "metadata": {},
     "output_type": "execute_result"
    }
   ],
   "source": [
    "# Import temperature time series\n",
    "skyTemp = importUSGSData('sky_waterTemp.txt', 'temp')\n",
    "skyTemp"
   ]
  },
  {
   "cell_type": "code",
   "execution_count": 53,
   "id": "3f4dc512",
   "metadata": {},
   "outputs": [
    {
     "data": {
      "text/html": [
       "<div>\n",
       "<style scoped>\n",
       "    .dataframe tbody tr th:only-of-type {\n",
       "        vertical-align: middle;\n",
       "    }\n",
       "\n",
       "    .dataframe tbody tr th {\n",
       "        vertical-align: top;\n",
       "    }\n",
       "\n",
       "    .dataframe thead th {\n",
       "        text-align: right;\n",
       "    }\n",
       "</style>\n",
       "<table border=\"1\" class=\"dataframe\">\n",
       "  <thead>\n",
       "    <tr style=\"text-align: right;\">\n",
       "      <th></th>\n",
       "      <th>height</th>\n",
       "    </tr>\n",
       "    <tr>\n",
       "      <th>Timestamp</th>\n",
       "      <th></th>\n",
       "    </tr>\n",
       "  </thead>\n",
       "  <tbody>\n",
       "    <tr>\n",
       "      <th>2020-01-01 01:15:00</th>\n",
       "      <td>11.65</td>\n",
       "    </tr>\n",
       "    <tr>\n",
       "      <th>2020-01-01 01:30:00</th>\n",
       "      <td>11.69</td>\n",
       "    </tr>\n",
       "    <tr>\n",
       "      <th>2020-01-01 01:45:00</th>\n",
       "      <td>11.78</td>\n",
       "    </tr>\n",
       "    <tr>\n",
       "      <th>2020-01-01 02:00:00</th>\n",
       "      <td>11.82</td>\n",
       "    </tr>\n",
       "    <tr>\n",
       "      <th>2020-01-01 02:15:00</th>\n",
       "      <td>11.88</td>\n",
       "    </tr>\n",
       "    <tr>\n",
       "      <th>...</th>\n",
       "      <td>...</td>\n",
       "    </tr>\n",
       "    <tr>\n",
       "      <th>2022-12-30 23:45:00</th>\n",
       "      <td>8.40</td>\n",
       "    </tr>\n",
       "    <tr>\n",
       "      <th>2022-12-31 00:00:00</th>\n",
       "      <td>8.39</td>\n",
       "    </tr>\n",
       "    <tr>\n",
       "      <th>2022-12-31 00:15:00</th>\n",
       "      <td>8.40</td>\n",
       "    </tr>\n",
       "    <tr>\n",
       "      <th>2022-12-31 00:30:00</th>\n",
       "      <td>8.42</td>\n",
       "    </tr>\n",
       "    <tr>\n",
       "      <th>2022-12-31 00:45:00</th>\n",
       "      <td>8.42</td>\n",
       "    </tr>\n",
       "  </tbody>\n",
       "</table>\n",
       "<p>105048 rows × 1 columns</p>\n",
       "</div>"
      ],
      "text/plain": [
       "                     height\n",
       "Timestamp                  \n",
       "2020-01-01 01:15:00   11.65\n",
       "2020-01-01 01:30:00   11.69\n",
       "2020-01-01 01:45:00   11.78\n",
       "2020-01-01 02:00:00   11.82\n",
       "2020-01-01 02:15:00   11.88\n",
       "...                     ...\n",
       "2022-12-30 23:45:00    8.40\n",
       "2022-12-31 00:00:00    8.39\n",
       "2022-12-31 00:15:00    8.40\n",
       "2022-12-31 00:30:00    8.42\n",
       "2022-12-31 00:45:00    8.42\n",
       "\n",
       "[105048 rows x 1 columns]"
      ]
     },
     "execution_count": 53,
     "metadata": {},
     "output_type": "execute_result"
    }
   ],
   "source": [
    "# Import gauge height time series\n",
    "skyHeight = importUSGSData('sky_height.txt', 'height')\n",
    "skyHeight"
   ]
  },
  {
   "cell_type": "markdown",
   "id": "d0d0bedd",
   "metadata": {},
   "source": [
    "Now, we want to merge these individual data frames into a single data frame with shared time stamps.\n",
    "\n",
    "There are multiple ways to do this, each with their own settings for how to merge the DataFrames. Key things to keep in mind are:\n",
    "- \"Join Keys\": What is our reference for joining the DataFrames together? Usually the reference is the index (i.e., appending columns with shared index).\n",
    "- \"Inner\" join vs \"outer\" join. An inner join keeps the *intersection* between the two DataFrames with respect to the join key, while the outer join keeps the *union* with respect to the join keys.\n",
    "\n",
    "`pd.merge(df1, df2, ...)`: merge `df1` and `df2`, with multiple options for how to combine them.\n",
    "\n",
    "`pd.concat([df1, df2, df3...], axis=...)`: like matrix concatenation. Specify which axis to concatenate the DataFrames along.\n",
    "\n",
    "`df1.join(df2, ...)`: Join df2 to df1, with multiple options for how to combine them.\n",
    "\n",
    "Let's use `pd.concat` since we want to join more than one DataFrame"
   ]
  },
  {
   "cell_type": "code",
   "execution_count": 54,
   "id": "5f2ba65a",
   "metadata": {},
   "outputs": [
    {
     "ename": "InvalidIndexError",
     "evalue": "Reindexing only valid with uniquely valued Index objects",
     "output_type": "error",
     "traceback": [
      "\u001b[1;31m---------------------------------------------------------------------------\u001b[0m",
      "\u001b[1;31mInvalidIndexError\u001b[0m                         Traceback (most recent call last)",
      "\u001b[1;32m~\\AppData\\Local\\Temp\\ipykernel_18280\\3229506871.py\u001b[0m in \u001b[0;36m<module>\u001b[1;34m\u001b[0m\n\u001b[1;32m----> 1\u001b[1;33m \u001b[0msky\u001b[0m \u001b[1;33m=\u001b[0m \u001b[0mpd\u001b[0m\u001b[1;33m.\u001b[0m\u001b[0mconcat\u001b[0m\u001b[1;33m(\u001b[0m\u001b[1;33m[\u001b[0m\u001b[0mskyFlow\u001b[0m\u001b[1;33m,\u001b[0m \u001b[0mskyHeight\u001b[0m\u001b[1;33m,\u001b[0m \u001b[0mskyTemp\u001b[0m\u001b[1;33m]\u001b[0m\u001b[1;33m,\u001b[0m \u001b[0maxis\u001b[0m\u001b[1;33m=\u001b[0m\u001b[1;36m1\u001b[0m\u001b[1;33m,\u001b[0m \u001b[0mjoin\u001b[0m\u001b[1;33m=\u001b[0m\u001b[1;34m'outer'\u001b[0m\u001b[1;33m)\u001b[0m\u001b[1;33m\u001b[0m\u001b[1;33m\u001b[0m\u001b[0m\n\u001b[0m",
      "\u001b[1;32m~\\anaconda3\\lib\\site-packages\\pandas\\util\\_decorators.py\u001b[0m in \u001b[0;36mwrapper\u001b[1;34m(*args, **kwargs)\u001b[0m\n\u001b[0;32m    309\u001b[0m                     \u001b[0mstacklevel\u001b[0m\u001b[1;33m=\u001b[0m\u001b[0mstacklevel\u001b[0m\u001b[1;33m,\u001b[0m\u001b[1;33m\u001b[0m\u001b[1;33m\u001b[0m\u001b[0m\n\u001b[0;32m    310\u001b[0m                 )\n\u001b[1;32m--> 311\u001b[1;33m             \u001b[1;32mreturn\u001b[0m \u001b[0mfunc\u001b[0m\u001b[1;33m(\u001b[0m\u001b[1;33m*\u001b[0m\u001b[0margs\u001b[0m\u001b[1;33m,\u001b[0m \u001b[1;33m**\u001b[0m\u001b[0mkwargs\u001b[0m\u001b[1;33m)\u001b[0m\u001b[1;33m\u001b[0m\u001b[1;33m\u001b[0m\u001b[0m\n\u001b[0m\u001b[0;32m    312\u001b[0m \u001b[1;33m\u001b[0m\u001b[0m\n\u001b[0;32m    313\u001b[0m         \u001b[1;32mreturn\u001b[0m \u001b[0mwrapper\u001b[0m\u001b[1;33m\u001b[0m\u001b[1;33m\u001b[0m\u001b[0m\n",
      "\u001b[1;32m~\\anaconda3\\lib\\site-packages\\pandas\\core\\reshape\\concat.py\u001b[0m in \u001b[0;36mconcat\u001b[1;34m(objs, axis, join, ignore_index, keys, levels, names, verify_integrity, sort, copy)\u001b[0m\n\u001b[0;32m    358\u001b[0m     )\n\u001b[0;32m    359\u001b[0m \u001b[1;33m\u001b[0m\u001b[0m\n\u001b[1;32m--> 360\u001b[1;33m     \u001b[1;32mreturn\u001b[0m \u001b[0mop\u001b[0m\u001b[1;33m.\u001b[0m\u001b[0mget_result\u001b[0m\u001b[1;33m(\u001b[0m\u001b[1;33m)\u001b[0m\u001b[1;33m\u001b[0m\u001b[1;33m\u001b[0m\u001b[0m\n\u001b[0m\u001b[0;32m    361\u001b[0m \u001b[1;33m\u001b[0m\u001b[0m\n\u001b[0;32m    362\u001b[0m \u001b[1;33m\u001b[0m\u001b[0m\n",
      "\u001b[1;32m~\\anaconda3\\lib\\site-packages\\pandas\\core\\reshape\\concat.py\u001b[0m in \u001b[0;36mget_result\u001b[1;34m(self)\u001b[0m\n\u001b[0;32m    589\u001b[0m                     \u001b[0mobj_labels\u001b[0m \u001b[1;33m=\u001b[0m \u001b[0mobj\u001b[0m\u001b[1;33m.\u001b[0m\u001b[0maxes\u001b[0m\u001b[1;33m[\u001b[0m\u001b[1;36m1\u001b[0m \u001b[1;33m-\u001b[0m \u001b[0max\u001b[0m\u001b[1;33m]\u001b[0m\u001b[1;33m\u001b[0m\u001b[1;33m\u001b[0m\u001b[0m\n\u001b[0;32m    590\u001b[0m                     \u001b[1;32mif\u001b[0m \u001b[1;32mnot\u001b[0m \u001b[0mnew_labels\u001b[0m\u001b[1;33m.\u001b[0m\u001b[0mequals\u001b[0m\u001b[1;33m(\u001b[0m\u001b[0mobj_labels\u001b[0m\u001b[1;33m)\u001b[0m\u001b[1;33m:\u001b[0m\u001b[1;33m\u001b[0m\u001b[1;33m\u001b[0m\u001b[0m\n\u001b[1;32m--> 591\u001b[1;33m                         \u001b[0mindexers\u001b[0m\u001b[1;33m[\u001b[0m\u001b[0max\u001b[0m\u001b[1;33m]\u001b[0m \u001b[1;33m=\u001b[0m \u001b[0mobj_labels\u001b[0m\u001b[1;33m.\u001b[0m\u001b[0mget_indexer\u001b[0m\u001b[1;33m(\u001b[0m\u001b[0mnew_labels\u001b[0m\u001b[1;33m)\u001b[0m\u001b[1;33m\u001b[0m\u001b[1;33m\u001b[0m\u001b[0m\n\u001b[0m\u001b[0;32m    592\u001b[0m \u001b[1;33m\u001b[0m\u001b[0m\n\u001b[0;32m    593\u001b[0m                 \u001b[0mmgrs_indexers\u001b[0m\u001b[1;33m.\u001b[0m\u001b[0mappend\u001b[0m\u001b[1;33m(\u001b[0m\u001b[1;33m(\u001b[0m\u001b[0mobj\u001b[0m\u001b[1;33m.\u001b[0m\u001b[0m_mgr\u001b[0m\u001b[1;33m,\u001b[0m \u001b[0mindexers\u001b[0m\u001b[1;33m)\u001b[0m\u001b[1;33m)\u001b[0m\u001b[1;33m\u001b[0m\u001b[1;33m\u001b[0m\u001b[0m\n",
      "\u001b[1;32m~\\anaconda3\\lib\\site-packages\\pandas\\core\\indexes\\base.py\u001b[0m in \u001b[0;36mget_indexer\u001b[1;34m(self, target, method, limit, tolerance)\u001b[0m\n\u001b[0;32m   3727\u001b[0m \u001b[1;33m\u001b[0m\u001b[0m\n\u001b[0;32m   3728\u001b[0m         \u001b[1;32mif\u001b[0m \u001b[1;32mnot\u001b[0m \u001b[0mself\u001b[0m\u001b[1;33m.\u001b[0m\u001b[0m_index_as_unique\u001b[0m\u001b[1;33m:\u001b[0m\u001b[1;33m\u001b[0m\u001b[1;33m\u001b[0m\u001b[0m\n\u001b[1;32m-> 3729\u001b[1;33m             \u001b[1;32mraise\u001b[0m \u001b[0mInvalidIndexError\u001b[0m\u001b[1;33m(\u001b[0m\u001b[0mself\u001b[0m\u001b[1;33m.\u001b[0m\u001b[0m_requires_unique_msg\u001b[0m\u001b[1;33m)\u001b[0m\u001b[1;33m\u001b[0m\u001b[1;33m\u001b[0m\u001b[0m\n\u001b[0m\u001b[0;32m   3730\u001b[0m \u001b[1;33m\u001b[0m\u001b[0m\n\u001b[0;32m   3731\u001b[0m         \u001b[1;32mif\u001b[0m \u001b[0mlen\u001b[0m\u001b[1;33m(\u001b[0m\u001b[0mtarget\u001b[0m\u001b[1;33m)\u001b[0m \u001b[1;33m==\u001b[0m \u001b[1;36m0\u001b[0m\u001b[1;33m:\u001b[0m\u001b[1;33m\u001b[0m\u001b[1;33m\u001b[0m\u001b[0m\n",
      "\u001b[1;31mInvalidIndexError\u001b[0m: Reindexing only valid with uniquely valued Index objects"
     ]
    }
   ],
   "source": [
    "sky = pd.concat([skyFlow, skyHeight, skyTemp], axis=1, join='outer')"
   ]
  },
  {
   "cell_type": "markdown",
   "id": "0bb00305",
   "metadata": {},
   "source": [
    "We are running into an issue because there are duplicate time stamps in the data\n",
    "- This occurs because of duplicate time stamps around daylight savings time\n",
    "- So, need to remove those timestamps in our parsing function."
   ]
  },
  {
   "cell_type": "code",
   "execution_count": 56,
   "id": "4c6f6a61",
   "metadata": {},
   "outputs": [],
   "source": [
    "# Update the function to remove duplicate time stamps\n",
    "def importUSGSData(fileName, metricName):\n",
    "    '''\n",
    "    Reads a USGS .txt file given by fileName (as a string) and returns \n",
    "    the result as a dataframe. The 5th column is labeled using the \n",
    "    given metricName (as a string). If the time series contains\n",
    "    duplicate timestamps, the last entry with the duplicate timestamp \n",
    "    is kept.\n",
    "    '''\n",
    "    \n",
    "    # Import data, keeping only the columns that we are interested in\n",
    "    colNames = ['Timestamp', metricName]\n",
    "    df = pd.read_csv(fileName, skiprows=29, delimiter='\\t', \n",
    "                 header=None, usecols=[2, 4], names=colNames)\n",
    "    \n",
    "    # Convert timestamps to datetime and set as index\n",
    "    df.set_index('Timestamp', inplace=True)\n",
    "    df.index = pd.to_datetime(df.index)\n",
    "    \n",
    "    # Remove the \"first\" instance of duplicated time stamps\n",
    "    dupInd = df.index.duplicated('first')\n",
    "    df = df[~dupInd]\n",
    "    \n",
    "    # Return object\n",
    "    return df\n",
    "\n",
    "skyFlow = importUSGSData('sky_flow.txt', 'Flow')\n",
    "skyHeight = importUSGSData('sky_height.txt', 'Height')\n",
    "skyTemp =  importUSGSData('sky_waterTemp.txt', 'Temp')"
   ]
  },
  {
   "cell_type": "code",
   "execution_count": 57,
   "id": "9474a39a",
   "metadata": {},
   "outputs": [
    {
     "data": {
      "text/html": [
       "<div>\n",
       "<style scoped>\n",
       "    .dataframe tbody tr th:only-of-type {\n",
       "        vertical-align: middle;\n",
       "    }\n",
       "\n",
       "    .dataframe tbody tr th {\n",
       "        vertical-align: top;\n",
       "    }\n",
       "\n",
       "    .dataframe thead th {\n",
       "        text-align: right;\n",
       "    }\n",
       "</style>\n",
       "<table border=\"1\" class=\"dataframe\">\n",
       "  <thead>\n",
       "    <tr style=\"text-align: right;\">\n",
       "      <th></th>\n",
       "      <th>Flow</th>\n",
       "      <th>Height</th>\n",
       "      <th>Temp</th>\n",
       "    </tr>\n",
       "    <tr>\n",
       "      <th>Timestamp</th>\n",
       "      <th></th>\n",
       "      <th></th>\n",
       "      <th></th>\n",
       "    </tr>\n",
       "  </thead>\n",
       "  <tbody>\n",
       "    <tr>\n",
       "      <th>2020-01-01 01:15:00</th>\n",
       "      <td>17800.0</td>\n",
       "      <td>11.65</td>\n",
       "      <td>NaN</td>\n",
       "    </tr>\n",
       "    <tr>\n",
       "      <th>2020-01-01 01:30:00</th>\n",
       "      <td>17900.0</td>\n",
       "      <td>11.69</td>\n",
       "      <td>NaN</td>\n",
       "    </tr>\n",
       "    <tr>\n",
       "      <th>2020-01-01 01:45:00</th>\n",
       "      <td>18300.0</td>\n",
       "      <td>11.78</td>\n",
       "      <td>NaN</td>\n",
       "    </tr>\n",
       "    <tr>\n",
       "      <th>2020-01-01 02:00:00</th>\n",
       "      <td>18500.0</td>\n",
       "      <td>11.82</td>\n",
       "      <td>NaN</td>\n",
       "    </tr>\n",
       "    <tr>\n",
       "      <th>2020-01-01 02:15:00</th>\n",
       "      <td>18800.0</td>\n",
       "      <td>11.88</td>\n",
       "      <td>NaN</td>\n",
       "    </tr>\n",
       "    <tr>\n",
       "      <th>...</th>\n",
       "      <td>...</td>\n",
       "      <td>...</td>\n",
       "      <td>...</td>\n",
       "    </tr>\n",
       "    <tr>\n",
       "      <th>2022-12-30 23:45:00</th>\n",
       "      <td>6330.0</td>\n",
       "      <td>8.40</td>\n",
       "      <td>4.5</td>\n",
       "    </tr>\n",
       "    <tr>\n",
       "      <th>2022-12-31 00:00:00</th>\n",
       "      <td>6300.0</td>\n",
       "      <td>8.39</td>\n",
       "      <td>4.5</td>\n",
       "    </tr>\n",
       "    <tr>\n",
       "      <th>2022-12-31 00:15:00</th>\n",
       "      <td>6330.0</td>\n",
       "      <td>8.40</td>\n",
       "      <td>4.5</td>\n",
       "    </tr>\n",
       "    <tr>\n",
       "      <th>2022-12-31 00:30:00</th>\n",
       "      <td>6380.0</td>\n",
       "      <td>8.42</td>\n",
       "      <td>4.5</td>\n",
       "    </tr>\n",
       "    <tr>\n",
       "      <th>2022-12-31 00:45:00</th>\n",
       "      <td>6380.0</td>\n",
       "      <td>8.42</td>\n",
       "      <td>4.5</td>\n",
       "    </tr>\n",
       "  </tbody>\n",
       "</table>\n",
       "<p>105056 rows × 3 columns</p>\n",
       "</div>"
      ],
      "text/plain": [
       "                        Flow  Height  Temp\n",
       "Timestamp                                 \n",
       "2020-01-01 01:15:00  17800.0   11.65   NaN\n",
       "2020-01-01 01:30:00  17900.0   11.69   NaN\n",
       "2020-01-01 01:45:00  18300.0   11.78   NaN\n",
       "2020-01-01 02:00:00  18500.0   11.82   NaN\n",
       "2020-01-01 02:15:00  18800.0   11.88   NaN\n",
       "...                      ...     ...   ...\n",
       "2022-12-30 23:45:00   6330.0    8.40   4.5\n",
       "2022-12-31 00:00:00   6300.0    8.39   4.5\n",
       "2022-12-31 00:15:00   6330.0    8.40   4.5\n",
       "2022-12-31 00:30:00   6380.0    8.42   4.5\n",
       "2022-12-31 00:45:00   6380.0    8.42   4.5\n",
       "\n",
       "[105056 rows x 3 columns]"
      ]
     },
     "execution_count": 57,
     "metadata": {},
     "output_type": "execute_result"
    }
   ],
   "source": [
    "# Concatenate\n",
    "sky = pd.concat([skyFlow, skyHeight, skyTemp], axis=1)\n",
    "sky"
   ]
  },
  {
   "cell_type": "markdown",
   "id": "9c5a5f64",
   "metadata": {},
   "source": [
    "Note that missing values were automatically populated with `NaN`:\n",
    "- water temp gauge didn't come online until mid-2022.\n",
    "- Pandas is good at handling missing data and has multiple options for this."
   ]
  },
  {
   "cell_type": "markdown",
   "id": "9a9b341b",
   "metadata": {},
   "source": [
    "Writing the full result to a file\n",
    "\n",
    "Now that we have the full time series, lets write it to a .txt file using the `.to_csv` method of the `DataFrame`."
   ]
  },
  {
   "cell_type": "code",
   "execution_count": 58,
   "id": "d0d9e358",
   "metadata": {},
   "outputs": [],
   "source": [
    "sky.to_csv('sky_total.txt')"
   ]
  }
 ],
 "metadata": {
  "kernelspec": {
   "display_name": "Python 3 (ipykernel)",
   "language": "python",
   "name": "python3"
  },
  "language_info": {
   "codemirror_mode": {
    "name": "ipython",
    "version": 3
   },
   "file_extension": ".py",
   "mimetype": "text/x-python",
   "name": "python",
   "nbconvert_exporter": "python",
   "pygments_lexer": "ipython3",
   "version": "3.9.12"
  }
 },
 "nbformat": 4,
 "nbformat_minor": 5
}
