{
 "cells": [
  {
   "cell_type": "markdown",
   "id": "5192cf11",
   "metadata": {},
   "source": [
    "# Functions\n",
    "Aidan Hunt, University of Washington\n",
    "\n",
    "***\n",
    "\n",
    "## Learning Objectives\n",
    "After the lecture, students will be able to:\n",
    "\n",
    "- Interpret Python function syntax\n",
    "- Define Python functions that include input parameters and returns\n",
    "- Document functions with a succint description of what it does, required inputs, and outputs\n",
    "- Determine the information available inside and outside of a function via scope."
   ]
  },
  {
   "cell_type": "markdown",
   "id": "9cb8bd49",
   "metadata": {},
   "source": [
    "## Check-in\n",
    "- Python install going okay?"
   ]
  },
  {
   "cell_type": "markdown",
   "id": "5f61cab2",
   "metadata": {},
   "source": [
    "## Motivation\n",
    "- Functions are the building blocks of Python programs.\n",
    "- Represent distinct tasks that can be called when needed\n",
    "\n",
    "### Built-in functions\n",
    "- print function: print text to the console\n",
    "- type function: get data type of a variable\n",
    "- len function: get length of string or other sequence"
   ]
  },
  {
   "cell_type": "code",
   "execution_count": 49,
   "id": "a4e8ca9c",
   "metadata": {},
   "outputs": [
    {
     "name": "stdout",
     "output_type": "stream",
     "text": [
      "Hello there!\n"
     ]
    }
   ],
   "source": [
    "# The print function for displaying messages or the contents of variables.\n",
    "print(\"Hello there!\")"
   ]
  },
  {
   "cell_type": "code",
   "execution_count": 50,
   "id": "a4887c3f",
   "metadata": {},
   "outputs": [
    {
     "data": {
      "text/plain": [
       "int"
      ]
     },
     "execution_count": 50,
     "metadata": {},
     "output_type": "execute_result"
    }
   ],
   "source": [
    "# The type function for determining the type of data stored in a variable.\n",
    "x = 5\n",
    "type(x)"
   ]
  },
  {
   "cell_type": "code",
   "execution_count": 51,
   "id": "62c41090",
   "metadata": {},
   "outputs": [
    {
     "data": {
      "text/plain": [
       "19"
      ]
     },
     "execution_count": 51,
     "metadata": {},
     "output_type": "execute_result"
    }
   ],
   "source": [
    "# The length function for determining how many characters are in a string.\n",
    "len('This is a sentence.')"
   ]
  },
  {
   "cell_type": "markdown",
   "id": "1bb0d877",
   "metadata": {},
   "source": [
    "Functions like this are useful because they are performing common, useful actions on-demand. \n",
    "\n",
    "Today we'll be going over\n",
    "1. how to define our own functions\n",
    "2. how to use functions to factor out redundancy\n"
   ]
  },
  {
   "cell_type": "markdown",
   "id": "eee8486d",
   "metadata": {},
   "source": [
    "***\n",
    "## Defining basic functions\n",
    "\n",
    "To define a function, use the `def` keyword, followed by indented lines of code. \n",
    "\n",
    "For example, consider a simple function that calculates the Reynolds number for flow over a flat plate:"
   ]
  },
  {
   "cell_type": "code",
   "execution_count": 52,
   "id": "4e342948",
   "metadata": {},
   "outputs": [],
   "source": [
    "# Defining our function\n",
    "def calcReynoldsNumber(U, L, nu):\n",
    "    Re = U * L / nu\n",
    "    return Re"
   ]
  },
  {
   "cell_type": "markdown",
   "id": "66391326",
   "metadata": {},
   "source": [
    "Key points on syntax:\n",
    "- The keyword `def` tells Python that we are declaring a function\n",
    "- The function name comes after the `def` keyword.\n",
    "- Parameters are how information is passed into the function. You can have as many inputs as you want (including 0).\n",
    "- All lines of code *inside* the function are indented by one tab.\n",
    "- Returns are how information is passed out of the function. You can have as many returns as you want (including 0).\n",
    "- The function ends when 1) we indent back out or 2) the return keyword is encountered"
   ]
  },
  {
   "cell_type": "markdown",
   "id": "d941a44f",
   "metadata": {},
   "source": [
    "### Calling functions"
   ]
  },
  {
   "cell_type": "code",
   "execution_count": 53,
   "id": "a4f98774",
   "metadata": {},
   "outputs": [
    {
     "name": "stdout",
     "output_type": "stream",
     "text": [
      "50000000.0\n"
     ]
    }
   ],
   "source": [
    "# Calling our function\n",
    "U = 5\n",
    "L = 10\n",
    "nu = 1e-6\n",
    "\n",
    "Re = calcReynoldsNumber(U, L, nu)\n",
    "print(Re)"
   ]
  },
  {
   "cell_type": "markdown",
   "id": "2c92785a",
   "metadata": {},
   "source": [
    "Key points on calling functions:\n",
    "- The names of parameters outside the function don't need to match the names of parameters inside the function.\n",
    "    - Parameter \"slots\"\n",
    "- Same for returns\n",
    "    - Return \"slots\"\n",
    "- You must \"catch\" a return to use it outside the function."
   ]
  },
  {
   "cell_type": "markdown",
   "id": "acf05f88",
   "metadata": {},
   "source": [
    "**Questions?**\n",
    "\n",
    "- The syntax for defining functions is the easy part.\n",
    "- Let's work an example to show how they can be useful for organization.\n"
   ]
  },
  {
   "cell_type": "markdown",
   "id": "c4b4e24b",
   "metadata": {},
   "source": [
    "***\n",
    "## Example: Bernoulli calculation\n",
    "Let's look at an example from fluid mechanics:\n",
    "- Suppose there is fluid flowing in a pipe.\n",
    "- We know the upstream pressure, velocity, and elevation. \n",
    "- We know the downstream velocity and elevation, and would like to know the pressure. \n",
    "- We can solve this with the Bernoulli equation."
   ]
  },
  {
   "cell_type": "code",
   "execution_count": 54,
   "id": "b3c353bc",
   "metadata": {},
   "outputs": [],
   "source": [
    "# Insert photo here"
   ]
  },
  {
   "cell_type": "code",
   "execution_count": 55,
   "id": "aa79e4a5",
   "metadata": {},
   "outputs": [],
   "source": [
    "# Constants\n",
    "rho = 1000 # Density [kg/m^3]\n",
    "g = 9.81 # Gravity [m/s^2]\n",
    "Patm = 101.325 * 10**3 # Atmospheric pressure [Pa]"
   ]
  },
  {
   "cell_type": "code",
   "execution_count": 56,
   "id": "f1c113ba",
   "metadata": {},
   "outputs": [],
   "source": [
    "# Upstream properties\n",
    "P1 = 10 * Patm\n",
    "V1 = 3\n",
    "z1 = 5"
   ]
  },
  {
   "cell_type": "code",
   "execution_count": 57,
   "id": "21c91096",
   "metadata": {},
   "outputs": [],
   "source": [
    "# Downstream properties\n",
    "V2 = 5\n",
    "z2 = 0\n",
    "# P2 unknown"
   ]
  },
  {
   "cell_type": "code",
   "execution_count": 58,
   "id": "4309c234",
   "metadata": {},
   "outputs": [
    {
     "name": "stdout",
     "output_type": "stream",
     "text": [
      "1054300.0\n"
     ]
    }
   ],
   "source": [
    "# Calculate the downstream pressure, P2 using the Bernoulli equation.\n",
    "P2 = P1 + rho*g*z1 + 1/2*rho*V1**2 - rho*g*z2 - 1/2*rho*V2**2\n",
    "\n",
    "print(P2)"
   ]
  },
  {
   "cell_type": "markdown",
   "id": "34fe8948",
   "metadata": {},
   "source": [
    "**Question** What stands out in the calculation above?\n",
    "- Repeated calculations for hydrostatic terms\n",
    "- Repeated calculations for dynamic terms"
   ]
  },
  {
   "cell_type": "code",
   "execution_count": 59,
   "id": "de6e0f14",
   "metadata": {},
   "outputs": [],
   "source": [
    "# Let's define methods for these two repeated calculations\n",
    "\n",
    "def calcHydrostaticPressure(z, rho, g):\n",
    "    return z*rho*g\n",
    "\n",
    "def calcDynamicPressure(V, rho):\n",
    "    return 1/2*rho*V**2"
   ]
  },
  {
   "cell_type": "code",
   "execution_count": 60,
   "id": "997ba1ed",
   "metadata": {},
   "outputs": [
    {
     "name": "stdout",
     "output_type": "stream",
     "text": [
      "1054300.0\n"
     ]
    }
   ],
   "source": [
    "# Now let's reduce redundancy by plugging them into our calculation with the appropriate parameters\n",
    "\n",
    "# Calculate the downstream pressure, P2\n",
    "P2 = P1 + calcHydrostaticPressure(z1, rho, g) + calcDynamicPressure(V1, rho) \\\n",
    "        - calcHydrostaticPressure(z2, rho, g) - calcDynamicPressure(V2, rho)\n",
    "    \n",
    "print(P2)"
   ]
  },
  {
   "cell_type": "code",
   "execution_count": 61,
   "id": "8151c6b4",
   "metadata": {},
   "outputs": [],
   "source": [
    "# Finally, let's make this even more modular by making this calculation its own method\n",
    "# Break the calculation into steps for readability\n",
    "\n",
    "def calculateDownstreamPressure(P1, V1, V2, z1, z2, rho, g):\n",
    "    # Calculate difference between upstream and downstream hydrodynamic terms\n",
    "    deltaHydrostatic = calcDynamicPressure(V1, rho) - calcDynamicPressure(V2, rho)\n",
    "    \n",
    "    # Calculate difference between upstream and downstream dynamic terms\n",
    "    deltaDynamic = calcHydrostaticPressure(z1, rho, g) - calcHydrostaticPressure(z2, rho, g)\n",
    "    \n",
    "    # Calculate downstream pressure and return\n",
    "    P2 = P1 + deltaHydrostatic + deltaDynamic\n",
    "    return P2"
   ]
  },
  {
   "cell_type": "code",
   "execution_count": 62,
   "id": "e04ee2a4",
   "metadata": {},
   "outputs": [
    {
     "name": "stdout",
     "output_type": "stream",
     "text": [
      "1054300.0\n"
     ]
    }
   ],
   "source": [
    "# Call the function\n",
    "P2 = calculateDownstreamPressure(P1, V1, V2, z1, z2, rho, g)\n",
    "print(P2)"
   ]
  },
  {
   "cell_type": "markdown",
   "id": "97bdc064",
   "metadata": {},
   "source": [
    "### Advantages of this approach\n",
    "- We can easily perform this calculation on several different cases and compare the results.\n",
    "- Math errors can be fixed program-wide very easily.\n",
    "- Our code is readable and organized into distinct steps."
   ]
  },
  {
   "cell_type": "markdown",
   "id": "f8814caa",
   "metadata": {},
   "source": [
    "### How many functions should we define?\n",
    "- We could, but eventually reach diminishing returns\n",
    "    - Too many functions can make a program less readable.\n",
    "    - If every line of code is a function - then you just have individual lines of code!\n",
    "- Remember our goals for writing functions are to:\n",
    "    - Factor out distinct tasks that we'd like to have access to on-demand\n",
    "    - Make our program more readable and organized"
   ]
  },
  {
   "cell_type": "markdown",
   "id": "552609f5",
   "metadata": {},
   "source": [
    "### What's missing from the functions we've defined?\n",
    "\n",
    "Documentation! Every function we write should have a description that allows other people (or ourselves in the future) to understand what it does and how to use it."
   ]
  },
  {
   "cell_type": "markdown",
   "id": "9a9b341b",
   "metadata": {},
   "source": [
    "***\n",
    "## Documenting functions\n",
    "\n",
    "There's something important missing from this function: documentation.\n",
    "- Tells someone unfamiliar with our program how to use it.\n",
    "- Remind ourselves how to use our program.\n",
    "\n",
    "**Question: What information should we include in our documentation?**\n",
    "- A general description of what the function does. Don't need implementation details\n",
    "- Describe each input parameters (what they mean, what types are expected, whether optional or not)\n",
    "- Describe each return variable (what they mean, types expected)\n",
    "\n",
    "**What shouldn't go in our documentation?**\n",
    "- Implementation details (the nitty gritty)\n",
    "\n",
    "Let's add these things as a \"docstring\" to our function.\n",
    "- Multiline string\n",
    "- Write below function definition"
   ]
  },
  {
   "cell_type": "code",
   "execution_count": 63,
   "id": "9ade1029",
   "metadata": {},
   "outputs": [],
   "source": [
    "# Option 1: Short docstring (good for simple functions)\n",
    "\n",
    "def calcHydrostaticPressure(z, rho, g):\n",
    "    '''\n",
    "    Given an elevation (z), density (rho), and acceleration due to gravity (g),\n",
    "    calculates and returns the hydrostatic pressure term from the\n",
    "    Bernoulli equation.\n",
    "    '''\n",
    "    return z*rho*g\n",
    "\n",
    "def calcDynamicPressure(V, rho):\n",
    "    '''\n",
    "    Given a velocity (V) and density (rho), calculates and returns the \n",
    "    dynamic pressure term from the Bernoulli equation.\n",
    "    '''\n",
    "    return 1/2*rho*V**2\n"
   ]
  },
  {
   "cell_type": "code",
   "execution_count": 64,
   "id": "28e2f2c7",
   "metadata": {},
   "outputs": [],
   "source": [
    "# Option 2: List-type docstring (good for more complicated functions)\n",
    "def calculateDownstreamPressure(P1, V1, V2, z1, z2, rho, g):\n",
    "    '''\n",
    "    Given known upstream and downstream fluid properties, as well as the density\n",
    "    and acceleration due to gravity, calculates and returns the downstream pressure.\n",
    "    \n",
    "    Inputs:\n",
    "        P1 - upstream pressure in Pa\n",
    "        V1 - upstream velocity in m/s\n",
    "        V2 - downstream velocity in m/s\n",
    "        z1 - upstream elevation in m\n",
    "        z2 - downstream elevation in m\n",
    "        rho - fluid density in kg/m^3\n",
    "        g - acceleration due to gravity in m/s^2\n",
    "        \n",
    "    Ouptuts\n",
    "        The downstream pressure, P2, in Pa\n",
    "    '''\n",
    "    \n",
    "    # Calculate difference between upstream and downstream hydrodynamic terms\n",
    "    deltaHydrostatic = calcDynamicPressure(V1, rho) - calcDynamicPressure(V2, rho)\n",
    "    \n",
    "    # Calculate difference between upstream and downstream dynamic terms\n",
    "    deltaDynamic = calcHydrostaticPressure(z1, rho, g) - calcHydrostaticPressure(z2, rho, g)\n",
    "    \n",
    "    # Calculate downstream pressure and return\n",
    "    P2 = P1 + deltaHydrostatic + deltaDynamic\n",
    "    return P2\n"
   ]
  },
  {
   "cell_type": "code",
   "execution_count": 65,
   "id": "803d969a",
   "metadata": {},
   "outputs": [
    {
     "name": "stdout",
     "output_type": "stream",
     "text": [
      "Help on function calculateDownstreamPressure in module __main__:\n",
      "\n",
      "calculateDownstreamPressure(P1, V1, V2, z1, z2, rho, g)\n",
      "    Given known upstream and downstream fluid properties, as well as the density\n",
      "    and acceleration due to gravity, calculates and returns the downstream pressure.\n",
      "    \n",
      "    Inputs:\n",
      "        P1 - upstream pressure in Pa\n",
      "        V1 - upstream velocity in m/s\n",
      "        V2 - downstream velocity in m/s\n",
      "        z1 - upstream elevation in m\n",
      "        z2 - downstream elevation in m\n",
      "        rho - fluid density in kg/m^3\n",
      "        g - acceleration due to gravity in m/s^2\n",
      "        \n",
      "    Ouptuts\n",
      "        The downstream pressure, P2, in Pa\n",
      "\n"
     ]
    }
   ],
   "source": [
    "# The documentation for our function is visible if we call the \"help\" function and provide it our function name.\n",
    "help(calculateDownstreamPressure)"
   ]
  },
  {
   "cell_type": "code",
   "execution_count": 66,
   "id": "16ed3d0a",
   "metadata": {},
   "outputs": [
    {
     "name": "stdout",
     "output_type": "stream",
     "text": [
      "Help on built-in function print in module builtins:\n",
      "\n",
      "print(...)\n",
      "    print(value, ..., sep=' ', end='\\n', file=sys.stdout, flush=False)\n",
      "    \n",
      "    Prints the values to a stream, or to sys.stdout by default.\n",
      "    Optional keyword arguments:\n",
      "    file:  a file-like object (stream); defaults to the current sys.stdout.\n",
      "    sep:   string inserted between values, default a space.\n",
      "    end:   string appended after the last value, default a newline.\n",
      "    flush: whether to forcibly flush the stream.\n",
      "\n"
     ]
    }
   ],
   "source": [
    "# You can do this for all functions.\n",
    "help(print)"
   ]
  },
  {
   "cell_type": "markdown",
   "id": "7240a158",
   "metadata": {},
   "source": [
    "**Questions?**"
   ]
  },
  {
   "cell_type": "markdown",
   "id": "9aba8c50",
   "metadata": {},
   "source": [
    "## Optional Parameters\n",
    "\n",
    "Consider `g` in our function above.\n",
    "- Passed as a parameter for completeness\n",
    "- But the value will almost always be 9.81\n",
    "- Specify default value in function definition!\n",
    "- Can do the same for `rho`, as well.\n",
    "\n",
    "**Note**\n",
    "- In your function definition, optional inputs must be listed last.\n",
    "- When passing variables into the optional inputs of a function, you can pass them in any order, as long as you use the proper keyword (e.g., `rho=850`) see below.\n",
    "\n",
    "Make sure to update documentation accordingly!"
   ]
  },
  {
   "cell_type": "code",
   "execution_count": 67,
   "id": "c35f6dde",
   "metadata": {},
   "outputs": [],
   "source": [
    "def calculateDownstreamPressure(P1, V1, V2, z1, z2, rho=1000, g=9.81):\n",
    "    '''\n",
    "    Given known upstream and downstream fluid properties, as well as the density\n",
    "    and acceleration due to gravity, calculates and returns the downstream pressure.\n",
    "    \n",
    "    Required Inputs:\n",
    "        P1 - upstream pressure in Pa\n",
    "        V1 - upstream velocity in m/s\n",
    "        V2 - downstream velocity in m/s\n",
    "        z1 - upstream elevation in m\n",
    "        z2 - downstream elevation in m\n",
    "        \n",
    "    Optional Inputs:\n",
    "        rho - fluid density in kg/m^3 (default 1000)\n",
    "        g - acceleration due to gravity in m/s^2 (default 9.81)\n",
    "        \n",
    "    Ouptuts\n",
    "        The downstream pressure, P2, in Pa\n",
    "    '''\n",
    "    \n",
    "    # Calculate difference between upstream and downstream hydrodynamic terms\n",
    "    deltaHydrostatic = calcDynamicPressure(V1, rho) - calcDynamicPressure(V2, rho)\n",
    "    \n",
    "    # Calculate difference between upstream and downstream dynamic terms\n",
    "    deltaDynamic = calcHydrostaticPressure(z1, rho, g) - calcHydrostaticPressure(z2, rho, g)\n",
    "    \n",
    "    # Calculate downstream pressure and return\n",
    "    P2 = P1 + deltaHydrostatic + deltaDynamic\n",
    "    return P2"
   ]
  },
  {
   "cell_type": "code",
   "execution_count": 68,
   "id": "f1caffb2",
   "metadata": {},
   "outputs": [
    {
     "name": "stdout",
     "output_type": "stream",
     "text": [
      "1054300.0\n"
     ]
    }
   ],
   "source": [
    "# Now we can call it without rho and g (default values will be used)\n",
    "P2 = calculateDownstreamPressure(P1, V1, V2, z1, z2)\n",
    "print(P2)"
   ]
  },
  {
   "cell_type": "code",
   "execution_count": 69,
   "id": "05ea4c3e",
   "metadata": {},
   "outputs": [
    {
     "name": "stdout",
     "output_type": "stream",
     "text": [
      "1048142.5\n"
     ]
    }
   ],
   "source": [
    "# Calling with rho = 850 as optional input\n",
    "P2 = calculateDownstreamPressure(P1, V1, V2, z1, z2, 850)\n",
    "print(P2)"
   ]
  },
  {
   "cell_type": "code",
   "execution_count": 70,
   "id": "670e725a",
   "metadata": {},
   "outputs": [
    {
     "name": "stdout",
     "output_type": "stream",
     "text": [
      "1431450.0\n"
     ]
    }
   ],
   "source": [
    "# Passing optional inputs out of order, using keywords from function definition\n",
    "P2 = calculateDownstreamPressure(P1, V1, V2, z1, z2, g=100, rho=850)\n",
    "print(P2)"
   ]
  },
  {
   "cell_type": "markdown",
   "id": "364d1112",
   "metadata": {},
   "source": [
    "***\n",
    "## Scope\n",
    "\n",
    "The word \"scope\" refers to what information is visible inside and outside of a function."
   ]
  },
  {
   "cell_type": "markdown",
   "id": "eaa70fba",
   "metadata": {},
   "source": [
    "Consider our Reynolds number calculation from before. **Question: will the following code work?**"
   ]
  },
  {
   "cell_type": "code",
   "execution_count": 3,
   "id": "1ee6a7e8",
   "metadata": {},
   "outputs": [
    {
     "ename": "TypeError",
     "evalue": "calcReynoldsNumber() missing 3 required positional arguments: 'U', 'L', and 'nu'",
     "output_type": "error",
     "traceback": [
      "\u001b[1;31m---------------------------------------------------------------------------\u001b[0m",
      "\u001b[1;31mTypeError\u001b[0m                                 Traceback (most recent call last)",
      "\u001b[1;32m~\\AppData\\Local\\Temp\\ipykernel_1060\\1779576570.py\u001b[0m in \u001b[0;36m<module>\u001b[1;34m\u001b[0m\n\u001b[0;32m     10\u001b[0m \u001b[1;33m\u001b[0m\u001b[0m\n\u001b[0;32m     11\u001b[0m \u001b[1;31m# Calling function\u001b[0m\u001b[1;33m\u001b[0m\u001b[1;33m\u001b[0m\u001b[0m\n\u001b[1;32m---> 12\u001b[1;33m \u001b[0mRe\u001b[0m \u001b[1;33m=\u001b[0m \u001b[0mcalcReynoldsNumber\u001b[0m\u001b[1;33m(\u001b[0m\u001b[1;33m)\u001b[0m\u001b[1;33m\u001b[0m\u001b[1;33m\u001b[0m\u001b[0m\n\u001b[0m\u001b[0;32m     13\u001b[0m \u001b[0mprint\u001b[0m\u001b[1;33m(\u001b[0m\u001b[0mRe\u001b[0m\u001b[1;33m)\u001b[0m\u001b[1;33m\u001b[0m\u001b[1;33m\u001b[0m\u001b[0m\n",
      "\u001b[1;31mTypeError\u001b[0m: calcReynoldsNumber() missing 3 required positional arguments: 'U', 'L', and 'nu'"
     ]
    }
   ],
   "source": [
    "# Defining our function\n",
    "def calcReynoldsNumber(U, L, nu):\n",
    "    Re = U * L / nu\n",
    "    return Re\n",
    "\n",
    "# Defining variables\n",
    "U = 5\n",
    "L = 10\n",
    "nu = 1e-6\n",
    "\n",
    "# Calling function\n",
    "Re = calcReynoldsNumber()\n",
    "print(Re)"
   ]
  },
  {
   "cell_type": "markdown",
   "id": "85014e56",
   "metadata": {},
   "source": [
    "It does not because the function is expecting parameters U, L, nu.\n",
    "\n",
    "**But what about this code?**"
   ]
  },
  {
   "cell_type": "code",
   "execution_count": 4,
   "id": "6431e9e3",
   "metadata": {},
   "outputs": [
    {
     "name": "stdout",
     "output_type": "stream",
     "text": [
      "50000000.0\n"
     ]
    }
   ],
   "source": [
    "# Defining our function\n",
    "def calcReynoldsNumber():\n",
    "    Re = U * L / nu\n",
    "    return Re\n",
    "\n",
    "# Defining variables\n",
    "U = 5\n",
    "L = 10\n",
    "nu = 1e-6\n",
    "\n",
    "# Calling function\n",
    "Re = calcReynoldsNumber()\n",
    "print(Re)"
   ]
  },
  {
   "cell_type": "markdown",
   "id": "5df5b2eb",
   "metadata": {},
   "source": [
    "### Scope summary\n",
    "\n",
    "- Local scope:\n",
    "    - Variables created inside function do not exist outside unless returned\n",
    "    - Variables with the same name as named parameters must be passed into functions\n",
    "- Global scope:\n",
    "    - Variables created outside function in \"main\" body of script can be seen everywhere.\n",
    "- Local scope trumps global scope if variables use the same name.\n",
    "- Best practice: Use parameters to pass information (this makes it clear what information the function has).\n"
   ]
  },
  {
   "cell_type": "markdown",
   "id": "227003fd",
   "metadata": {},
   "source": [
    "***\n",
    "## A quick note: lambda functions\n",
    "\n",
    "Something you'll often see in Python is the keyword `lambda`, followed by a line of code:"
   ]
  },
  {
   "cell_type": "code",
   "execution_count": 5,
   "id": "69c7b6f3",
   "metadata": {},
   "outputs": [
    {
     "data": {
      "text/plain": [
       "50000000.0"
      ]
     },
     "execution_count": 5,
     "metadata": {},
     "output_type": "execute_result"
    }
   ],
   "source": [
    "# lambda function example\n",
    "\n",
    "calcReynoldsNumber_alt = lambda U, L, nu: U * L / nu\n",
    "calcReynoldsNumber_alt(5, 10, 1e-6)"
   ]
  },
  {
   "cell_type": "markdown",
   "id": "e8eec774",
   "metadata": {},
   "source": [
    "- These are called **lambda functions** or anonymous functions.\n",
    "- They are the same as regular functions, but can only have one output, and can be passed as variables!"
   ]
  }
 ],
 "metadata": {
  "kernelspec": {
   "display_name": "Python 3 (ipykernel)",
   "language": "python",
   "name": "python3"
  },
  "language_info": {
   "codemirror_mode": {
    "name": "ipython",
    "version": 3
   },
   "file_extension": ".py",
   "mimetype": "text/x-python",
   "name": "python",
   "nbconvert_exporter": "python",
   "pygments_lexer": "ipython3",
   "version": "3.9.12"
  }
 },
 "nbformat": 4,
 "nbformat_minor": 5
}
