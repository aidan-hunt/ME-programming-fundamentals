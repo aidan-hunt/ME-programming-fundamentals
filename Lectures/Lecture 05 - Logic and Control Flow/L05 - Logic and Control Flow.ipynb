{
 "cells": [
  {
   "cell_type": "markdown",
   "id": "5192cf11",
   "metadata": {},
   "source": [
    "# Logic and Control Flow\n",
    "Aidan Hunt, University of Washington\n",
    "\n",
    "***\n",
    "\n",
    "## Learning Objectives\n",
    "After this lesson, students will be able to:\n",
    "- interpret logical operators in Python\n",
    "- write and interpret logical expressions\n",
    "- conditionally execute code using if/else"
   ]
  },
  {
   "cell_type": "markdown",
   "id": "c3143977",
   "metadata": {},
   "source": [
    "***\n",
    "## Announcements/ Check-In\n",
    "- Homework 2 posted\n",
    "- Homework 1 grading underway\n",
    "\n",
    "### Where we are at\n",
    "- In our third and final week of Python basics.\n",
    "- We've discussed basic syntax, functions, lists, and for loops.\n",
    "- In your homework, practice with these topics, plus strings and dictionaries.\n",
    "- This week, we'll be discussing logic and control flow.\n",
    "\n",
    "### Where we are going\n",
    "- Moving beyond built-in Python\n",
    "- Overview of two useful Python packages: NumPy and Pandas\n",
    "- Make sure you are comfortable with all of the material from Weeks 1-3 and getting your questions answered.\n"
   ]
  },
  {
   "cell_type": "markdown",
   "id": "041471d8",
   "metadata": {},
   "source": [
    "***\n",
    "## Motivation - Control Flow\n",
    "\n",
    "So far in this class we've used Python to execute fairly simple, linear scripts.\n",
    "- Give computer sequence of commands.\n",
    "- Each command is executed in order.\n",
    "\n",
    "Many engineering tasks are more complicated than this!\n",
    "- Controller: Control strategy changes depending on conditions/state\n",
    "- Iteration: Want to perform an operation until a particular condition is met (e.g., convergence).\n",
    "    \n",
    "- This sort of decision making is important for solving engineering problems.\n",
    "    - Allows our program to be more flexible (i.e., respond to different inputs).\n",
    "    - To implement this, we need to a way of determining whether the information that is flowing through our program satisfies certain criteria.\n",
    "    - Then we can change the flow of information based on that criteria.\n",
    "    \n",
    "The way that we determine whether a criteria is met: **logical statements**.\n",
    "The way that we act on that criteria: **control flow**.\n"
   ]
  },
  {
   "cell_type": "markdown",
   "id": "7e2a11f0",
   "metadata": {},
   "source": [
    "***\n",
    "## Logical expressions\n",
    "- To make a decision, we need a way to determine if something in our program meets a particular criteria\n",
    "- **Define**: a logical expression is a statement that can be answered with \"true\" or \"false\"\n",
    "\n",
    "For example:"
   ]
  },
  {
   "cell_type": "code",
   "execution_count": 21,
   "id": "414ef4f8",
   "metadata": {},
   "outputs": [
    {
     "data": {
      "text/plain": [
       "True"
      ]
     },
     "execution_count": 21,
     "metadata": {},
     "output_type": "execute_result"
    }
   ],
   "source": [
    "x = 10 # Store a value in a variable\n",
    "\n",
    "x > 5 # Is the value greater than 5?"
   ]
  },
  {
   "cell_type": "markdown",
   "id": "d4480e3e",
   "metadata": {},
   "source": [
    "Here, `x > 5` is a logical expression, and since `x` is greater than `5`, the result is `True`."
   ]
  },
  {
   "cell_type": "markdown",
   "id": "cf5094c4",
   "metadata": {},
   "source": [
    "### Comparison operators\n",
    "In the example above, `>` is a **comparison operator**: it compares `x` and `y`. There are several comparison operators in Python:\n",
    "- \\> : Greater than\n",
    "- < : Less than\n",
    "- = : Equal to\n",
    "- != : Not equal to\n",
    "- \\>= : Greater than or equal to\n",
    "- <= : Less than or equal to"
   ]
  },
  {
   "cell_type": "code",
   "execution_count": 22,
   "id": "ddcd7379",
   "metadata": {},
   "outputs": [
    {
     "data": {
      "text/plain": [
       "True"
      ]
     },
     "execution_count": 22,
     "metadata": {},
     "output_type": "execute_result"
    }
   ],
   "source": [
    "# Greater than\n",
    "x > 5"
   ]
  },
  {
   "cell_type": "code",
   "execution_count": 23,
   "id": "117d9af3",
   "metadata": {},
   "outputs": [
    {
     "data": {
      "text/plain": [
       "False"
      ]
     },
     "execution_count": 23,
     "metadata": {},
     "output_type": "execute_result"
    }
   ],
   "source": [
    "# Less than\n",
    "x < 5"
   ]
  },
  {
   "cell_type": "code",
   "execution_count": 24,
   "id": "15144e52",
   "metadata": {},
   "outputs": [
    {
     "data": {
      "text/plain": [
       "True"
      ]
     },
     "execution_count": 24,
     "metadata": {},
     "output_type": "execute_result"
    }
   ],
   "source": [
    "# Equal to\n",
    "x == 10"
   ]
  },
  {
   "cell_type": "code",
   "execution_count": 25,
   "id": "c801b705",
   "metadata": {},
   "outputs": [
    {
     "data": {
      "text/plain": [
       "False"
      ]
     },
     "execution_count": 25,
     "metadata": {},
     "output_type": "execute_result"
    }
   ],
   "source": [
    "# Not equal to\n",
    "x != 10"
   ]
  },
  {
   "cell_type": "code",
   "execution_count": 26,
   "id": "1085ffc0",
   "metadata": {},
   "outputs": [
    {
     "data": {
      "text/plain": [
       "True"
      ]
     },
     "execution_count": 26,
     "metadata": {},
     "output_type": "execute_result"
    }
   ],
   "source": [
    "# Greater than or equal to\n",
    "x >= 10"
   ]
  },
  {
   "cell_type": "code",
   "execution_count": 27,
   "id": "f90bc8db",
   "metadata": {},
   "outputs": [
    {
     "data": {
      "text/plain": [
       "True"
      ]
     },
     "execution_count": 27,
     "metadata": {},
     "output_type": "execute_result"
    }
   ],
   "source": [
    "# Less than or equal to\n",
    "x <= 10"
   ]
  },
  {
   "cell_type": "markdown",
   "id": "bd837d27",
   "metadata": {},
   "source": [
    "### Logical operators\n",
    "\n",
    "Sometimes we want to make a decision based on the results of several criteria. We can use **logical operators** to combine several expressions into one:\n",
    "- `and` (True only if both input expressions evaluate to True)\n",
    "- `or`  (True if either input expression evaluates to True, otherwise False)\n",
    "- `not` (True if the input expression is False, and False if input is True)"
   ]
  },
  {
   "cell_type": "code",
   "execution_count": 28,
   "id": "1008fb56",
   "metadata": {},
   "outputs": [],
   "source": [
    "x = 3\n",
    "y = 9"
   ]
  },
  {
   "cell_type": "code",
   "execution_count": 29,
   "id": "4bbf14f9",
   "metadata": {},
   "outputs": [
    {
     "data": {
      "text/plain": [
       "False"
      ]
     },
     "execution_count": 29,
     "metadata": {},
     "output_type": "execute_result"
    }
   ],
   "source": [
    "# and operator: full result is true if connected statements are true\n",
    "x < y and y > 10"
   ]
  },
  {
   "cell_type": "code",
   "execution_count": 30,
   "id": "8d9918e5",
   "metadata": {},
   "outputs": [
    {
     "data": {
      "text/plain": [
       "True"
      ]
     },
     "execution_count": 30,
     "metadata": {},
     "output_type": "execute_result"
    }
   ],
   "source": [
    "# or operator: full result is true if either of the connected statements are true\n",
    "x < y or y > 10"
   ]
  },
  {
   "cell_type": "code",
   "execution_count": 31,
   "id": "8df03768",
   "metadata": {},
   "outputs": [
    {
     "data": {
      "text/plain": [
       "False"
      ]
     },
     "execution_count": 31,
     "metadata": {},
     "output_type": "execute_result"
    }
   ],
   "source": [
    "# not operator: flips the result of a logical statement\n",
    "not (x < y or y > 10)"
   ]
  },
  {
   "cell_type": "markdown",
   "id": "ff38fba4",
   "metadata": {},
   "source": [
    "We can also chain comparisons together, which is equivalent to connecting them with `and`:"
   ]
  },
  {
   "cell_type": "code",
   "execution_count": 32,
   "id": "de6f561d",
   "metadata": {},
   "outputs": [
    {
     "data": {
      "text/plain": [
       "True"
      ]
     },
     "execution_count": 32,
     "metadata": {},
     "output_type": "execute_result"
    }
   ],
   "source": [
    "# Example of chaining several logical operators together\n",
    "1 < 2 < 3 < 4 < 5"
   ]
  },
  {
   "cell_type": "code",
   "execution_count": 33,
   "id": "e9af155a",
   "metadata": {},
   "outputs": [
    {
     "data": {
      "text/plain": [
       "True"
      ]
     },
     "execution_count": 33,
     "metadata": {},
     "output_type": "execute_result"
    }
   ],
   "source": [
    "# Equivalent statement using logical operators\n",
    "1 < 2 and 2 < 3 and 3 < 4 and 4 < 5"
   ]
  },
  {
   "cell_type": "markdown",
   "id": "7fc7271b",
   "metadata": {},
   "source": [
    "(Note the order of operations in all statements above. Individual statements between `and`s and `or`s are evaluated, then the resulting `True`s and `False`s are combined.)"
   ]
  },
  {
   "cell_type": "markdown",
   "id": "22faba96",
   "metadata": {},
   "source": [
    "***\n",
    "## The `Bool` Data Type\n",
    "\n",
    "The results of these comparisons isn't just the word \"True\" or \"False\", it's data!"
   ]
  },
  {
   "cell_type": "code",
   "execution_count": 34,
   "id": "fe8044db",
   "metadata": {},
   "outputs": [
    {
     "name": "stdout",
     "output_type": "stream",
     "text": [
      "True\n"
     ]
    },
    {
     "data": {
      "text/plain": [
       "bool"
      ]
     },
     "execution_count": 34,
     "metadata": {},
     "output_type": "execute_result"
    }
   ],
   "source": [
    "y = 4 < 8\n",
    "print(y)\n",
    "type(y)"
   ]
  },
  {
   "cell_type": "markdown",
   "id": "ec710b0d",
   "metadata": {},
   "source": [
    "These are \"boolean\" or \"logical\" values\n",
    "- Data type: `bool`\n",
    "- Can have two possible values: `True` or `False`\n",
    "- Can be stored in variables just like any other data\n",
    "- They can be returned by functions just like any other data\n",
    "- `True` is equivalent to `1`, and `False` is equivalent to `0`."
   ]
  },
  {
   "cell_type": "code",
   "execution_count": 35,
   "id": "2fbb1984",
   "metadata": {},
   "outputs": [
    {
     "data": {
      "text/plain": [
       "True"
      ]
     },
     "execution_count": 35,
     "metadata": {},
     "output_type": "execute_result"
    }
   ],
   "source": [
    "True == 1"
   ]
  },
  {
   "cell_type": "code",
   "execution_count": 36,
   "id": "09537b65",
   "metadata": {},
   "outputs": [
    {
     "data": {
      "text/plain": [
       "True"
      ]
     },
     "execution_count": 36,
     "metadata": {},
     "output_type": "execute_result"
    }
   ],
   "source": [
    "False == 0"
   ]
  },
  {
   "cell_type": "markdown",
   "id": "babfc8c8",
   "metadata": {},
   "source": [
    "***\n",
    "## Logical Expression Examples\n",
    "Discuss with those around you what each of these logical statements is doing:"
   ]
  },
  {
   "cell_type": "markdown",
   "id": "eb1c6fa3",
   "metadata": {},
   "source": [
    "### Example 1)"
   ]
  },
  {
   "cell_type": "code",
   "execution_count": 37,
   "id": "863bc88a",
   "metadata": {},
   "outputs": [],
   "source": [
    "x = 1\n",
    "z = 3\n",
    "\n",
    "y = x == z"
   ]
  },
  {
   "cell_type": "markdown",
   "id": "ab26d779",
   "metadata": {},
   "source": [
    "- Remember that *assignment* `=` is different from equality `==`. \n",
    "- As always, expression on the right of `=` is evaluated and stored in the left-hand side variable\n",
    "- The logical statement above is evaluating the comparison `x == z` and then storing the result in `y`."
   ]
  },
  {
   "cell_type": "code",
   "execution_count": 38,
   "id": "79f42389",
   "metadata": {},
   "outputs": [
    {
     "name": "stdout",
     "output_type": "stream",
     "text": [
      "False\n"
     ]
    }
   ],
   "source": [
    "print(y) # y stores the boolean value False"
   ]
  },
  {
   "cell_type": "markdown",
   "id": "d96eca0b",
   "metadata": {},
   "source": [
    "### Example 2"
   ]
  },
  {
   "cell_type": "code",
   "execution_count": 39,
   "id": "ee36622d",
   "metadata": {},
   "outputs": [
    {
     "data": {
      "text/plain": [
       "False"
      ]
     },
     "execution_count": 39,
     "metadata": {},
     "output_type": "execute_result"
    }
   ],
   "source": [
    "x = 11\n",
    "y = 6\n",
    "\n",
    "y == x < 10"
   ]
  },
  {
   "cell_type": "markdown",
   "id": "43d8ca61",
   "metadata": {},
   "source": [
    "- This is an example of \"chaining\" comparison operators together.\n",
    "- This is equivalent to `y == x and x < 10`"
   ]
  },
  {
   "cell_type": "code",
   "execution_count": 40,
   "id": "5b2e8f42",
   "metadata": {},
   "outputs": [
    {
     "data": {
      "text/plain": [
       "False"
      ]
     },
     "execution_count": 40,
     "metadata": {},
     "output_type": "execute_result"
    }
   ],
   "source": [
    "y == x and x < 10"
   ]
  },
  {
   "cell_type": "markdown",
   "id": "262adf79",
   "metadata": {},
   "source": [
    "### Example 3"
   ]
  },
  {
   "cell_type": "code",
   "execution_count": 41,
   "id": "58d9c965",
   "metadata": {},
   "outputs": [
    {
     "data": {
      "text/plain": [
       "True"
      ]
     },
     "execution_count": 41,
     "metadata": {},
     "output_type": "execute_result"
    }
   ],
   "source": [
    "x = 11\n",
    "y = 6\n",
    "\n",
    "(y == x) < 10"
   ]
  },
  {
   "cell_type": "markdown",
   "id": "55d690d6",
   "metadata": {},
   "source": [
    "- Just like for mathematical expressions, we can use parentheses to indicate order of operations. So, `y == x` is evaluated first, and then the result is compared to `10`.\n",
    "- Remember, when comparing booleans to numbers, `True` has a value of `1` and `False` has a value of `0`.\n",
    "- So `y == x` evaluates to `False`. Then, the expression `False < 10` is evaluated, which is equivalent to `0 < 10`. Thus the total result of the expression is `True`!"
   ]
  },
  {
   "cell_type": "markdown",
   "id": "da640424",
   "metadata": {},
   "source": [
    "***\n",
    "## Other types of logical statements"
   ]
  },
  {
   "cell_type": "markdown",
   "id": "d5151765",
   "metadata": {},
   "source": [
    "### Equality vs Identity\n",
    "\n",
    "Another way to compare objects is based on *identity*:\n",
    "- `is`: True if two objects have the same identity.\n",
    "- `is not`: False if two objects do not have the same identity."
   ]
  },
  {
   "cell_type": "markdown",
   "id": "829e4d58",
   "metadata": {},
   "source": [
    "Consider a simple comparison between two lists with identical contents.\n",
    "\n",
    "**Question**: Why does `==` return `True` but `is` returns `False`?"
   ]
  },
  {
   "cell_type": "code",
   "execution_count": 42,
   "id": "17180b3c",
   "metadata": {},
   "outputs": [],
   "source": [
    "list1 = [1, 2, 3, 4]\n",
    "list2 = [1, 2, 3, 4]"
   ]
  },
  {
   "cell_type": "code",
   "execution_count": 43,
   "id": "9bf10e2c",
   "metadata": {},
   "outputs": [
    {
     "data": {
      "text/plain": [
       "True"
      ]
     },
     "execution_count": 43,
     "metadata": {},
     "output_type": "execute_result"
    }
   ],
   "source": [
    "list1 == list2"
   ]
  },
  {
   "cell_type": "code",
   "execution_count": 44,
   "id": "1f9f8983",
   "metadata": {
    "scrolled": true
   },
   "outputs": [
    {
     "data": {
      "text/plain": [
       "False"
      ]
     },
     "execution_count": 44,
     "metadata": {},
     "output_type": "execute_result"
    }
   ],
   "source": [
    "list1 is list2"
   ]
  },
  {
   "cell_type": "markdown",
   "id": "b47b1043",
   "metadata": {},
   "source": [
    "**Answer**: `==` tests *equality*, whereas `is` tests *identity*.\n",
    "- `==` is asking \"do these lists have the same values\"?\n",
    "- `is` is asking \"are these lists the same object?\" (i.e., are `list1` and `list2` references to the same data in memory?)\n",
    "\n",
    "If we change our code such that `list1` and `list2` point to the same object, the `is` comparison now returns true."
   ]
  },
  {
   "cell_type": "code",
   "execution_count": 45,
   "id": "4a51a229",
   "metadata": {},
   "outputs": [
    {
     "data": {
      "text/plain": [
       "True"
      ]
     },
     "execution_count": 45,
     "metadata": {},
     "output_type": "execute_result"
    }
   ],
   "source": [
    "list1 = [1, 2, 3, 4]\n",
    "list2 = list1\n",
    "list1 is list2"
   ]
  },
  {
   "cell_type": "markdown",
   "id": "35decd27",
   "metadata": {},
   "source": [
    "Note that you can also test the negative (that is, that two objects do not share the same identity)."
   ]
  },
  {
   "cell_type": "code",
   "execution_count": 46,
   "id": "54f2f676",
   "metadata": {},
   "outputs": [
    {
     "data": {
      "text/plain": [
       "False"
      ]
     },
     "execution_count": 46,
     "metadata": {},
     "output_type": "execute_result"
    }
   ],
   "source": [
    "list1 is not list2"
   ]
  },
  {
   "cell_type": "markdown",
   "id": "c4d019b8",
   "metadata": {},
   "source": [
    "### Membership\n",
    "We can also compare data on the basis of membership using `in` and `not in`. This is easiest to understand in the context of sequences."
   ]
  },
  {
   "cell_type": "code",
   "execution_count": 47,
   "id": "bc18ed40",
   "metadata": {},
   "outputs": [],
   "source": [
    "exampleList = [10, 20, 30, 40, 50]"
   ]
  },
  {
   "cell_type": "code",
   "execution_count": 48,
   "id": "b47a3aaa",
   "metadata": {},
   "outputs": [
    {
     "data": {
      "text/plain": [
       "True"
      ]
     },
     "execution_count": 48,
     "metadata": {},
     "output_type": "execute_result"
    }
   ],
   "source": [
    "# Is 30 in the list?\n",
    "30 in exampleList"
   ]
  },
  {
   "cell_type": "code",
   "execution_count": 49,
   "id": "f5f2b6d1",
   "metadata": {},
   "outputs": [
    {
     "data": {
      "text/plain": [
       "False"
      ]
     },
     "execution_count": 49,
     "metadata": {},
     "output_type": "execute_result"
    }
   ],
   "source": [
    "# Is the sequence [10 20 30] in the list?\n",
    "[10, 20, 30] in exampleList # False since [10, 20, 30] is not an element of [10, 20, 30]"
   ]
  },
  {
   "cell_type": "code",
   "execution_count": 50,
   "id": "75b4e7b7",
   "metadata": {},
   "outputs": [
    {
     "data": {
      "text/plain": [
       "True"
      ]
     },
     "execution_count": 50,
     "metadata": {},
     "output_type": "execute_result"
    }
   ],
   "source": [
    "# Is 55 not in the list?\n",
    "55 not in exampleList"
   ]
  },
  {
   "cell_type": "markdown",
   "id": "7f124345",
   "metadata": {},
   "source": [
    "This is helpful for determining whether certain characters or substrings are in a given string!"
   ]
  },
  {
   "cell_type": "code",
   "execution_count": 51,
   "id": "6fcedcbf",
   "metadata": {},
   "outputs": [
    {
     "data": {
      "text/plain": [
       "True"
      ]
     },
     "execution_count": 51,
     "metadata": {},
     "output_type": "execute_result"
    }
   ],
   "source": [
    "# String example\n",
    "testStr = 'Quark'\n",
    "\n",
    "# Is the str 'ark' in testStr?\n",
    "\n",
    "'ark' in 'Quark'"
   ]
  },
  {
   "cell_type": "markdown",
   "id": "2c92785a",
   "metadata": {},
   "source": [
    "***\n",
    "## If Statements \n",
    "\n",
    "We can use the results of logical statements to execute certain lines of code if certain conditions are met.\n",
    "\n",
    "Use `if` statement!"
   ]
  },
  {
   "cell_type": "code",
   "execution_count": 52,
   "id": "de3cfd4e",
   "metadata": {},
   "outputs": [
    {
     "name": "stdout",
     "output_type": "stream",
     "text": [
      "5 is a positive number.\n"
     ]
    }
   ],
   "source": [
    "# Quick function for showcasing if statements\n",
    "def checkNumber(num):\n",
    "    \n",
    "    if num > 0:\n",
    "        print(num, \"is a positive number.\")\n",
    "    \n",
    "\n",
    "checkNumber(5)\n",
    "checkNumber(-5)\n",
    "checkNumber(0)"
   ]
  },
  {
   "cell_type": "markdown",
   "id": "82ac4c9d",
   "metadata": {},
   "source": [
    "Key points on syntax:\n",
    "    - The `if` keyword is followed by a logical expression.\n",
    "    - Code contained in the if statement is indented one level.\n",
    "    - The logical statement following the `if` keyword determines whether the code inside the block is executed.\n",
    "    \n",
    "We can test several conditions by adding `elif` (short for else-if) blocks:"
   ]
  },
  {
   "cell_type": "code",
   "execution_count": 53,
   "id": "93376dd5",
   "metadata": {},
   "outputs": [
    {
     "name": "stdout",
     "output_type": "stream",
     "text": [
      "5 is a positive number.\n",
      "-5 is a negative number.\n",
      "0 is neither positive or negative: it's zero!\n"
     ]
    }
   ],
   "source": [
    "# Quick function for showcasing if statements\n",
    "def checkNumber(num):\n",
    "    \n",
    "    if num > 0:\n",
    "        print(num, \"is a positive number.\")\n",
    "    elif num < 0:\n",
    "        print(num, \"is a negative number.\")\n",
    "    elif num == 0:\n",
    "        print(num, \"is neither positive or negative: it's zero!\")\n",
    "\n",
    "checkNumber(5)\n",
    "checkNumber(-5)\n",
    "checkNumber(0)"
   ]
  },
  {
   "cell_type": "markdown",
   "id": "beda37d2",
   "metadata": {},
   "source": [
    "Each `elif` condition is checked only if the previous condition was not met.\n",
    "\n",
    "Note that the last condition is met by default:\n",
    "- if a number is positive or negative, it must be 0!\n",
    "- this is essentially a \"catch-all\" case\n",
    "- Instead of specifying an expression for this last case, use `else` keyword to catch anything that doesn't meet the previous criteria"
   ]
  },
  {
   "cell_type": "code",
   "execution_count": 54,
   "id": "68fe8243",
   "metadata": {},
   "outputs": [
    {
     "name": "stdout",
     "output_type": "stream",
     "text": [
      "5 is a positive number.\n",
      "-5 is a negative number.\n",
      "0 is neither positive or negative: it's zero!\n"
     ]
    }
   ],
   "source": [
    "def checkNumber(num):\n",
    "    if num > 0:\n",
    "        print(num, \"is a positive number.\")\n",
    "    elif num < 0:\n",
    "        print(num, \"is a negative number.\")\n",
    "    else:\n",
    "        print(num, \"is neither positive or negative: it's zero!\")\n",
    "\n",
    "checkNumber(5)\n",
    "checkNumber(-5)\n",
    "checkNumber(0)"
   ]
  },
  {
   "cell_type": "markdown",
   "id": "7917280d",
   "metadata": {},
   "source": [
    "***\n",
    "## Other cool things we can do with logic"
   ]
  },
  {
   "cell_type": "markdown",
   "id": "b3b91cba",
   "metadata": {},
   "source": [
    "### `If` in List Comprehensions\n",
    "\n",
    "- List comprehensions are shorthand for creating a list based on the contents of an existing list.\n",
    "- We can combine this with conditional statements to create a list based on *certain* values of the existing list."
   ]
  },
  {
   "cell_type": "code",
   "execution_count": 55,
   "id": "0872ece8",
   "metadata": {},
   "outputs": [
    {
     "name": "stdout",
     "output_type": "stream",
     "text": [
      "[4, 16, 36]\n"
     ]
    }
   ],
   "source": [
    "# Define a list\n",
    "oldList = [1, 2, 3, 4, 5, 6]\n",
    "\n",
    "# Create a new list whose values are the squares \n",
    "# of the even elements of the old list\n",
    "newList = [num**2 for num in oldList if num % 2 == 0]\n",
    "\n",
    "# Print the new list\n",
    "print(newList)"
   ]
  }
 ],
 "metadata": {
  "kernelspec": {
   "display_name": "Python 3 (ipykernel)",
   "language": "python",
   "name": "python3"
  },
  "language_info": {
   "codemirror_mode": {
    "name": "ipython",
    "version": 3
   },
   "file_extension": ".py",
   "mimetype": "text/x-python",
   "name": "python",
   "nbconvert_exporter": "python",
   "pygments_lexer": "ipython3",
   "version": "3.9.12"
  }
 },
 "nbformat": 4,
 "nbformat_minor": 5
}
