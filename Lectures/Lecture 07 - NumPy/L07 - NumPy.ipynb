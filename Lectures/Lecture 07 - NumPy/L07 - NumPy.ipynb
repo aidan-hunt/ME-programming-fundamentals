{
 "cells": [
  {
   "cell_type": "markdown",
   "id": "5192cf11",
   "metadata": {},
   "source": [
    "# Re(Introduction) to NumPy\n",
    "Aidan Hunt, University of Washington\n",
    "\n",
    "***\n",
    "\n",
    "## Learning Objectives\n",
    "After this lesson, students will be able to:\n",
    "- Identify the key differences between Lists and NumPy array\n",
    "- Interpret the attributes and methods of NumPy arrays\n",
    "- Use NumPy functions (such as numpy.array, numpy.zeroes) to create NumPy arrays\n",
    "- Using indexing, slicing, and logical indexing to extract data from NumPy arrays\n",
    "\n",
    "***"
   ]
  },
  {
   "cell_type": "markdown",
   "id": "f7f1c859",
   "metadata": {},
   "source": [
    "## Check-in / Announcements\n",
    "\n",
    "Homework 3 posted\n",
    "Homework 2 grading underway\n",
    "\n",
    "Where we are at:\n",
    "- Finished with \"intro\" material\n",
    "- Tools we've discussed largely apply in any programming language\n",
    "- Lectures going forward are assuming you are experts in functions, loops, built-in data structures"
   ]
  },
  {
   "cell_type": "markdown",
   "id": "80d7a586",
   "metadata": {},
   "source": [
    "## Framing\n",
    "An important skill in programming is choosing the correct data type for a particular application.\n",
    "\n",
    "We have the following built-in data structures\n",
    "- List\n",
    "- Dictionary\n",
    "- Tuple (immutable list)\n",
    "- Set (like a list with unique, unordered components)\n",
    "    \n",
    "But we're engineers, we work with big datasets, timeseries, etc. We work with matrices!\n",
    "- **How might we create a matrix from the built-in data types we have? (brainstorm)**\n",
    "    - Nested lists\n",
    "    - Outer lists represent rows, inner lists represent columns\n",
    "    - Use for loops for elementwise operations, multiplying lists together, etc.\n"
   ]
  },
  {
   "cell_type": "code",
   "execution_count": 2,
   "id": "9891ca2e",
   "metadata": {},
   "outputs": [
    {
     "data": {
      "text/plain": [
       "[[1, 2, 3], [4, 5, 6], [7, 8, 9]]"
      ]
     },
     "execution_count": 2,
     "metadata": {},
     "output_type": "execute_result"
    }
   ],
   "source": [
    "[[1, 2, 3], [4, 5, 6], [7, 8, 9]]"
   ]
  },
  {
   "cell_type": "markdown",
   "id": "40880d45",
   "metadata": {},
   "source": [
    "- **What are some challenges to this approach?**\n",
    "    - For loops are slow in Python\n",
    "    - Need to keep lists compatible\n",
    "        - Lists can grow/shrink\n",
    "        - Lists can have any data type\n",
    "    - Additional complexity for variety of matrix operations\n",
    "    \n",
    "**Key Takeaway**: lots of overhead\n",
    "\n",
    "**Solution**: dedicated datatype for matrices"
   ]
  },
  {
   "cell_type": "markdown",
   "id": "9a9b341b",
   "metadata": {},
   "source": [
    "***\n",
    "## The NumPy package\n",
    "    \n",
    "### Importing the numpy package\n",
    "1. Verify that NumPy is installed on your machine (e.g, `conda list` in Anaconda prompt)\n",
    "2. Import the package: `import numpy as np`\n",
    "    - `np` is shorthand that we will use when interfacing with the package\n",
    "    - Only need to import once at the beginning of a script\n",
    "    \n",
    "### What are we getting with NumPy?\n",
    "1. A new data structure: NumPy arrays (vectors, matrices, higher-order arrays)\n",
    "2. A whole bunch of functions for creating, reshaping, altering these arrays\n",
    "3. A whole bunch of functions for doing math with these arrays"
   ]
  },
  {
   "cell_type": "markdown",
   "id": "cb7827c4",
   "metadata": {},
   "source": [
    "### Creating a basic array\n",
    "We can create a basic array by providing our nested lists to `numpy.array`:"
   ]
  },
  {
   "cell_type": "code",
   "execution_count": 3,
   "id": "3bbca8f1",
   "metadata": {},
   "outputs": [
    {
     "name": "stdout",
     "output_type": "stream",
     "text": [
      "[[ 1  2  3  4]\n",
      " [ 5  6  7  8]\n",
      " [ 9 10 11 12]]\n"
     ]
    }
   ],
   "source": [
    "# Import the package\n",
    "import numpy as np\n",
    "\n",
    "# Create array using list of lists\n",
    "# Each element of the first list is a row\n",
    "exArray = np.array([ [1, 2, 3, 4], [5, 6, 7, 8], [9, 10, 11, 12] ])\n",
    "print(exArray)"
   ]
  },
  {
   "cell_type": "markdown",
   "id": "6b4efdd7",
   "metadata": {},
   "source": [
    "***\n",
    "## NumPy Arrays vs Lists\n",
    "\n",
    "Aside from the convenience of representing matrices, how else do NumPy arrays vary from Lists?"
   ]
  },
  {
   "cell_type": "markdown",
   "id": "da8b3426",
   "metadata": {},
   "source": [
    "### Contents\n",
    "- Lists can contain any combination of anything -> flexibility is expensive\n",
    "- NumPy arrays are homogenous (only one data type) -> streamlines operations"
   ]
  },
  {
   "cell_type": "code",
   "execution_count": 4,
   "id": "41bbd3e4",
   "metadata": {},
   "outputs": [
    {
     "data": {
      "text/plain": [
       "array([['1', '2', 'test'],\n",
       "       ['4', '5', '6'],\n",
       "       ['7', '8', '9']], dtype='<U11')"
      ]
     },
     "execution_count": 4,
     "metadata": {},
     "output_type": "execute_result"
    }
   ],
   "source": [
    "# Using a string in the construction of the array makes everything strings\n",
    "np.array([[1, 2, 'test'], [4, 5, 6], [7, 8, 9]])"
   ]
  },
  {
   "cell_type": "code",
   "execution_count": 5,
   "id": "fe631f63",
   "metadata": {},
   "outputs": [
    {
     "data": {
      "text/plain": [
       "array([[1, 2, 'test'],\n",
       "       [4, {'key', 'value'}, 6],\n",
       "       [7, 8, 9]], dtype=object)"
      ]
     },
     "execution_count": 5,
     "metadata": {},
     "output_type": "execute_result"
    }
   ],
   "source": [
    "# Mixing types causes data type of \"object\".\n",
    "# This is essentially a list, \n",
    "np.array([[1, 2, 'test'], [4, {'key', 'value'}, 6], [7, 8, 9]])"
   ]
  },
  {
   "cell_type": "markdown",
   "id": "653ab76b",
   "metadata": {},
   "source": [
    "### Size\n",
    "- Lists can grow/shrink dynamically\n",
    "- NumPy arrays are fixed size at creation (memory efficient) -> preallocation\n",
    "- Arrays are generalized to n-dimensions"
   ]
  },
  {
   "cell_type": "markdown",
   "id": "945ad8b1",
   "metadata": {},
   "source": [
    "### Access\n",
    "- Access similarly!\n",
    "- Indexing/slicing generalized to higher dimensions"
   ]
  },
  {
   "cell_type": "code",
   "execution_count": 6,
   "id": "d14411ff",
   "metadata": {},
   "outputs": [
    {
     "data": {
      "text/plain": [
       "7"
      ]
     },
     "execution_count": 6,
     "metadata": {},
     "output_type": "execute_result"
    }
   ],
   "source": [
    "# Get element in second row, third column\n",
    "exArray[1,2]"
   ]
  },
  {
   "cell_type": "code",
   "execution_count": 7,
   "id": "36791ca0",
   "metadata": {},
   "outputs": [
    {
     "data": {
      "text/plain": [
       "array([ 9, 10, 11, 12])"
      ]
     },
     "execution_count": 7,
     "metadata": {},
     "output_type": "execute_result"
    }
   ],
   "source": [
    "# Get all elements in last row\n",
    "exArray[-1,:]"
   ]
  },
  {
   "cell_type": "code",
   "execution_count": 8,
   "id": "7d994701",
   "metadata": {},
   "outputs": [
    {
     "data": {
      "text/plain": [
       "array([[2, 3, 4],\n",
       "       [6, 7, 8]])"
      ]
     },
     "execution_count": 8,
     "metadata": {},
     "output_type": "execute_result"
    }
   ],
   "source": [
    "# Get elements from first row (inclusive) to third row (exclusive), and from second column to last column (inclusive)\n",
    "exArray[:2,1:]"
   ]
  },
  {
   "cell_type": "markdown",
   "id": "b8167f53",
   "metadata": {},
   "source": [
    "### Math\n",
    "- With lists, must use a for loop for element-wise calculations (lists are not vectors)\n",
    "- NumPy arrays are built for element-wise (\"vectorized\") calculations"
   ]
  },
  {
   "cell_type": "code",
   "execution_count": 9,
   "id": "879e3d10",
   "metadata": {},
   "outputs": [
    {
     "name": "stdout",
     "output_type": "stream",
     "text": [
      "[15, 60, 135]\n"
     ]
    }
   ],
   "source": [
    "# Multiply two lists together using for loop (via list comprehension)\n",
    "list1 = [5, 10, 15]\n",
    "list2 = [3, 6, 9]\n",
    "list3 = [num1 * num2 for num1, num2 in zip(list1, list2)]\n",
    "\n",
    "print(list3)"
   ]
  },
  {
   "cell_type": "code",
   "execution_count": 10,
   "id": "99442fac",
   "metadata": {},
   "outputs": [
    {
     "name": "stdout",
     "output_type": "stream",
     "text": [
      "[ 15  60 135]\n"
     ]
    }
   ],
   "source": [
    "# Multiplying two arrays together elementwise is much easier\n",
    "array1 = np.array(list1)\n",
    "array2 = np.array(list2)\n",
    "array3 = array1 * array2\n",
    "\n",
    "print(array3)"
   ]
  },
  {
   "cell_type": "markdown",
   "id": "b158d69c",
   "metadata": {},
   "source": [
    "### Speed\n",
    "- NumPy arrays are faster than lists\n",
    "    - Homogenous data types\n",
    "    - Many operations use compiled C code (fast)\n",
    "        \n",
    "### Reference Semantics\n",
    "- Lists are a collection of references to data in memory\n",
    "- A NumPy array is a single reference to a \"densely packed\" collection of data in memory"
   ]
  },
  {
   "cell_type": "markdown",
   "id": "95b16f9d",
   "metadata": {},
   "source": [
    "***\n",
    "## More ways to create arrays\n",
    "\n",
    "Most often, however, we will use useful NumPy array creation routines."
   ]
  },
  {
   "cell_type": "markdown",
   "id": "d84b9ff2",
   "metadata": {},
   "source": [
    "`numpy.zeros`: get array of zeros of the specified size"
   ]
  },
  {
   "cell_type": "code",
   "execution_count": 11,
   "id": "ba8268cc",
   "metadata": {},
   "outputs": [
    {
     "data": {
      "text/plain": [
       "array([[0., 0., 0., 0., 0.],\n",
       "       [0., 0., 0., 0., 0.],\n",
       "       [0., 0., 0., 0., 0.],\n",
       "       [0., 0., 0., 0., 0.],\n",
       "       [0., 0., 0., 0., 0.],\n",
       "       [0., 0., 0., 0., 0.],\n",
       "       [0., 0., 0., 0., 0.],\n",
       "       [0., 0., 0., 0., 0.],\n",
       "       [0., 0., 0., 0., 0.],\n",
       "       [0., 0., 0., 0., 0.]])"
      ]
     },
     "execution_count": 11,
     "metadata": {},
     "output_type": "execute_result"
    }
   ],
   "source": [
    "# Create a 10 x 5 matrix of zeroes\n",
    "np.zeros([10,5])"
   ]
  },
  {
   "cell_type": "markdown",
   "id": "7ba2c5ea",
   "metadata": {},
   "source": [
    "`numpy.ones`: get array of ones of the specified size. Use multiplication to make an array of any number!"
   ]
  },
  {
   "cell_type": "code",
   "execution_count": 12,
   "id": "df45df8f",
   "metadata": {},
   "outputs": [
    {
     "data": {
      "text/plain": [
       "array([[1., 1., 1., 1., 1.],\n",
       "       [1., 1., 1., 1., 1.],\n",
       "       [1., 1., 1., 1., 1.],\n",
       "       [1., 1., 1., 1., 1.],\n",
       "       [1., 1., 1., 1., 1.]])"
      ]
     },
     "execution_count": 12,
     "metadata": {},
     "output_type": "execute_result"
    }
   ],
   "source": [
    "# Create a 5x5 matrix of ones\n",
    "np.ones([5, 5])"
   ]
  },
  {
   "cell_type": "code",
   "execution_count": 13,
   "id": "33aca754",
   "metadata": {},
   "outputs": [
    {
     "data": {
      "text/plain": [
       "array([3.14159265, 3.14159265, 3.14159265, 3.14159265, 3.14159265,\n",
       "       3.14159265, 3.14159265, 3.14159265, 3.14159265, 3.14159265])"
      ]
     },
     "execution_count": 13,
     "metadata": {},
     "output_type": "execute_result"
    }
   ],
   "source": [
    "# Create a length 10 vector where each element is pi\n",
    "np.ones(10) * np.pi"
   ]
  },
  {
   "cell_type": "markdown",
   "id": "3bd5db8d",
   "metadata": {},
   "source": [
    "`numpy.linspace`: Get vector of `N` evenly spaced points from `start` (inclusive) to `end` (also inclusive)."
   ]
  },
  {
   "cell_type": "code",
   "execution_count": 14,
   "id": "f4586377",
   "metadata": {},
   "outputs": [
    {
     "data": {
      "text/plain": [
       "array([    0.   ,   514.375,  1028.75 ,  1543.125,  2057.5  ,  2571.875,\n",
       "        3086.25 ,  3600.625,  4115.   ,  4629.375,  5143.75 ,  5658.125,\n",
       "        6172.5  ,  6686.875,  7201.25 ,  7715.625,  8230.   ,  8744.375,\n",
       "        9258.75 ,  9773.125, 10287.5  , 10801.875, 11316.25 , 11830.625,\n",
       "       12345.   ])"
      ]
     },
     "execution_count": 14,
     "metadata": {},
     "output_type": "execute_result"
    }
   ],
   "source": [
    "# Create 500 points spaced evenly between 0 and 12345\n",
    "start = 0\n",
    "end = 12345\n",
    "N = 25\n",
    "np.linspace(start, end, N)"
   ]
  },
  {
   "cell_type": "markdown",
   "id": "dbc1dc20",
   "metadata": {},
   "source": [
    "`numpy.arange`: Get vector of points from `start` (inclusive) to `end` (exclusive) spaced `dx` apart. \n",
    "(This is essentially the inverse of `numpy.linspace()`, where you specify the number of points between `start` and `end`, and the spacing is automatically calculated. Here, you specify the spacing between points, and the number of points is between `start` and `end` is automatically calculated)."
   ]
  },
  {
   "cell_type": "code",
   "execution_count": 15,
   "id": "6bd22179",
   "metadata": {},
   "outputs": [
    {
     "data": {
      "text/plain": [
       "array([-3.14159265e+00, -2.87979327e+00, -2.61799388e+00, -2.35619449e+00,\n",
       "       -2.09439510e+00, -1.83259571e+00, -1.57079633e+00, -1.30899694e+00,\n",
       "       -1.04719755e+00, -7.85398163e-01, -5.23598776e-01, -2.61799388e-01,\n",
       "        1.77635684e-15,  2.61799388e-01,  5.23598776e-01,  7.85398163e-01,\n",
       "        1.04719755e+00,  1.30899694e+00,  1.57079633e+00,  1.83259571e+00,\n",
       "        2.09439510e+00,  2.35619449e+00,  2.61799388e+00,  2.87979327e+00,\n",
       "        3.14159265e+00])"
      ]
     },
     "execution_count": 15,
     "metadata": {},
     "output_type": "execute_result"
    }
   ],
   "source": [
    "# Generate points between -pi and pi, separated by pi/12\n",
    "start = -np.pi\n",
    "end = np.pi\n",
    "dx = np.pi / 12\n",
    "np.arange(start, end+dx, dx) # End is exclusive!"
   ]
  },
  {
   "cell_type": "markdown",
   "id": "3cb5f327",
   "metadata": {},
   "source": [
    "`numpy.random.rand`: generate a matrix of random numbers between 0 and 1 of the specified size"
   ]
  },
  {
   "cell_type": "code",
   "execution_count": 16,
   "id": "2368732c",
   "metadata": {},
   "outputs": [
    {
     "data": {
      "text/plain": [
       "array([[0.87913997, 0.27934358, 0.95637495],\n",
       "       [0.13063966, 0.19756426, 0.02805115],\n",
       "       [0.50153532, 0.8953277 , 0.54801648]])"
      ]
     },
     "execution_count": 16,
     "metadata": {},
     "output_type": "execute_result"
    }
   ],
   "source": [
    "# Generate a 3x3 matrix of random numbers\n",
    "np.random.rand(3,3)"
   ]
  },
  {
   "cell_type": "code",
   "execution_count": 17,
   "id": "aa46cb3e",
   "metadata": {},
   "outputs": [
    {
     "data": {
      "text/plain": [
       "array([[5., 0., 0.],\n",
       "       [0., 5., 0.],\n",
       "       [0., 0., 5.]])"
      ]
     },
     "execution_count": 17,
     "metadata": {},
     "output_type": "execute_result"
    }
   ],
   "source": [
    "# Create a 3x3 matrix with 5's on the diagonal\n",
    "np.eye(3) * 5"
   ]
  },
  {
   "cell_type": "markdown",
   "id": "9ca3c910",
   "metadata": {},
   "source": [
    "***\n",
    "## Array Attributes and Methods\n",
    "\n",
    "### Attributes\n",
    "Array have attributes that describe things about them. (__[Show ndarray attribute documentaion](https://numpy.org/doc/stable/reference/generated/numpy.ndarray.html)__)\n",
    "\n",
    "Access these with \"dot\" notation: `arrayName.attributeName`"
   ]
  },
  {
   "cell_type": "code",
   "execution_count": 41,
   "id": "fb7bb1b9",
   "metadata": {},
   "outputs": [
    {
     "data": {
      "text/plain": [
       "2"
      ]
     },
     "execution_count": 41,
     "metadata": {},
     "output_type": "execute_result"
    }
   ],
   "source": [
    "# Shape of an array\n",
    "exArray.shape"
   ]
  },
  {
   "cell_type": "code",
   "execution_count": 34,
   "id": "daa3119c",
   "metadata": {},
   "outputs": [
    {
     "data": {
      "text/plain": [
       "dtype('int32')"
      ]
     },
     "execution_count": 34,
     "metadata": {},
     "output_type": "execute_result"
    }
   ],
   "source": [
    "# Data type of an array\n",
    "exArray.dtype"
   ]
  },
  {
   "cell_type": "markdown",
   "id": "93e872d7",
   "metadata": {},
   "source": [
    "### Methods\n",
    "Arrays also have methods, which are functions that belong to the array and can do things with the data in the array.\n",
    "- These are just like list methods and string methods for lists and strings, respectively.\n",
    "\n",
    "We also access these with the \"dot\" notation: `arrayName.methodName(parameters)`"
   ]
  },
  {
   "cell_type": "code",
   "execution_count": 42,
   "id": "411c7d8a",
   "metadata": {},
   "outputs": [
    {
     "data": {
      "text/plain": [
       "78"
      ]
     },
     "execution_count": 42,
     "metadata": {},
     "output_type": "execute_result"
    }
   ],
   "source": [
    "# Get the sum of all array elements\n",
    "exArray.sum()"
   ]
  },
  {
   "cell_type": "markdown",
   "id": "a1fdac9c",
   "metadata": {},
   "source": [
    "Many array methods accept an optional parameter `axis`, which specifies the dimension along which to perform an operation.\n",
    "- `axis=0`: perform operation along rows\n",
    "- `axis=1`: perform operation along columns\n",
    "\n",
    "**Note**: \"Along\" can be a bit misleading. When we say we perform an operation \"along\" rows, we don't sum the elements in each individual row. Rather, we sum by adding the i<sup>th</sup> elements of each row to each other."
   ]
  },
  {
   "cell_type": "code",
   "execution_count": 46,
   "id": "3c4378a8",
   "metadata": {},
   "outputs": [
    {
     "data": {
      "text/plain": [
       "array([[ 1,  2,  3,  4],\n",
       "       [ 5,  6,  7,  8],\n",
       "       [ 9, 10, 11, 12]])"
      ]
     },
     "execution_count": 46,
     "metadata": {},
     "output_type": "execute_result"
    }
   ],
   "source": [
    "exArray # Remind ourselves what our example array looks like"
   ]
  },
  {
   "cell_type": "code",
   "execution_count": 47,
   "id": "fb64b066",
   "metadata": {},
   "outputs": [
    {
     "data": {
      "text/plain": [
       "array([15, 18, 21, 24])"
      ]
     },
     "execution_count": 47,
     "metadata": {},
     "output_type": "execute_result"
    }
   ],
   "source": [
    "exArray.sum(axis=0) # sum elements \"along\" rows (e.g, summing entries in each column)"
   ]
  },
  {
   "cell_type": "code",
   "execution_count": 48,
   "id": "d46ece62",
   "metadata": {},
   "outputs": [
    {
     "data": {
      "text/plain": [
       "array([10, 26, 42])"
      ]
     },
     "execution_count": 48,
     "metadata": {},
     "output_type": "execute_result"
    }
   ],
   "source": [
    "exArray.sum(axis=1) # sum elements \"along\" columns (e.g, summing entries in each row)"
   ]
  },
  {
   "cell_type": "markdown",
   "id": "7764609a",
   "metadata": {},
   "source": [
    "***\n",
    "## Other NumPy functions"
   ]
  },
  {
   "cell_type": "markdown",
   "id": "93d7496b",
   "metadata": {},
   "source": [
    "In addition to methods that belong to arrays, there are also several other NumPy functions for general use (called \"routines\" in the documentation):\n",
    "\n",
    "- Array creation routines (saw these before)\n",
    "- Array manipulation routines (joining, sorting, reshaping)\n",
    "    - `concatenate()`\n",
    "    - `hstack()`\n",
    "    - `vstack()`\n",
    "- Generalized math functions\n",
    "    - `sin()`, `cos()`, `exp()`, etc.\n",
    "    - `mean()`, `std()`, other stats functions\n",
    "- Reading and writing data\n",
    "- Specific math functions\n",
    "    - polynomial fitting\n",
    "    - fft\n",
    "- And more! There is something for everyone\n",
    "- Some overlap with array methods\n",
    "    - e.g., `mean()`"
   ]
  },
  {
   "cell_type": "markdown",
   "id": "21e8f2fd",
   "metadata": {},
   "source": [
    "***\n",
    "## Additional details of arrays\n",
    "\n",
    "### Logical statements and indexing\n",
    "\n",
    "We can use logical statements to find all array elements that meet a specific criteria. These statements are performed elementwise and returned as an array of `bools`. For example:"
   ]
  },
  {
   "cell_type": "code",
   "execution_count": 25,
   "id": "c1a5be38",
   "metadata": {},
   "outputs": [
    {
     "name": "stdout",
     "output_type": "stream",
     "text": [
      "[[ 2  4  6]\n",
      " [ 4  8 12]\n",
      " [ 6 12 18]]\n"
     ]
    }
   ],
   "source": [
    "# Create simple array\n",
    "exArray = np.array([[2, 4, 6], [4, 8, 12], [6, 12, 18]])\n",
    "print(exArray)"
   ]
  },
  {
   "cell_type": "code",
   "execution_count": 26,
   "id": "569237c2",
   "metadata": {},
   "outputs": [
    {
     "data": {
      "text/plain": [
       "array([[False, False, False],\n",
       "       [False, False,  True],\n",
       "       [False,  True,  True]])"
      ]
     },
     "execution_count": 26,
     "metadata": {},
     "output_type": "execute_result"
    }
   ],
   "source": [
    "# Find all elements that are greater than 10\n",
    "exArray > 10"
   ]
  },
  {
   "cell_type": "markdown",
   "id": "2287c3d4",
   "metadata": {},
   "source": [
    "- Comparison operators (`>`,`>=`,`<`,`<=`,`==`,`!=`) are the same as for lists.\n",
    "- Logical operators are different for arrays, though!\n",
    "    - `and` becomes `&`\n",
    "    - `or` becomes `|`\n",
    "    - `not` becomes `!`\n",
    "- AND we **need to be careful of our parentheses**, now, because precedence is a bit different for these operators."
   ]
  },
  {
   "cell_type": "code",
   "execution_count": 30,
   "id": "60c191b0",
   "metadata": {},
   "outputs": [
    {
     "data": {
      "text/plain": [
       "array([[False,  True, False],\n",
       "       [ True, False,  True],\n",
       "       [False,  True, False]])"
      ]
     },
     "execution_count": 30,
     "metadata": {},
     "output_type": "execute_result"
    }
   ],
   "source": [
    "# Find all elements that are equal to 4 or 12\n",
    "(exArray == 4) | (exArray == 12)"
   ]
  },
  {
   "cell_type": "markdown",
   "id": "f7b4157b",
   "metadata": {},
   "source": [
    "We can also use these indices to perform **logical indexing**. That is, we can extract elements that meet a particular criteria."
   ]
  },
  {
   "cell_type": "code",
   "execution_count": 31,
   "id": "4b1021ea",
   "metadata": {},
   "outputs": [
    {
     "data": {
      "text/plain": [
       "array([ 4,  4, 12, 12])"
      ]
     },
     "execution_count": 31,
     "metadata": {},
     "output_type": "execute_result"
    }
   ],
   "source": [
    "# Find all elements that are equal to 4 or 12\n",
    "result = (exArray == 4) | (exArray == 12)\n",
    "\n",
    "# Extract these elements\n",
    "exArray[result]"
   ]
  },
  {
   "cell_type": "code",
   "execution_count": 32,
   "id": "d52693dd",
   "metadata": {},
   "outputs": [
    {
     "data": {
      "text/plain": [
       "array([ 2,  4,  6,  4, 12,  6, 12, 18])"
      ]
     },
     "execution_count": 32,
     "metadata": {},
     "output_type": "execute_result"
    }
   ],
   "source": [
    "# Placing the condition directly in the square brackets:\n",
    "exArray[exArray != 8]"
   ]
  },
  {
   "cell_type": "markdown",
   "id": "2329d520",
   "metadata": {},
   "source": [
    "***\n",
    "## Reference Semantics\n",
    "\n",
    "Like lists, two variables can point to the same array, and altering the array data will alter both variables:"
   ]
  },
  {
   "cell_type": "code",
   "execution_count": 43,
   "id": "07d48c6c",
   "metadata": {},
   "outputs": [
    {
     "name": "stdout",
     "output_type": "stream",
     "text": [
      "[1 2 3 4 5 6]\n",
      "[1 2 3 4 5 6]\n",
      "[5000    2    3    4    5    6]\n",
      "[5000    2    3    4    5    6]\n"
     ]
    },
    {
     "data": {
      "text/plain": [
       "True"
      ]
     },
     "execution_count": 43,
     "metadata": {},
     "output_type": "execute_result"
    }
   ],
   "source": [
    "# Create two arrays that share data\n",
    "arr1 = np.array([1, 2, 3, 4, 5, 6])\n",
    "arr2 = arr1\n",
    "\n",
    "# Print contents\n",
    "print(arr1)\n",
    "print(arr2)\n",
    "\n",
    "# Change one of the variables\n",
    "arr1[0] = 5000\n",
    "\n",
    "# Show that both variables update\n",
    "print(arr1)\n",
    "print(arr2)\n",
    "\n",
    "# Show that they share the same identity\n",
    "arr1 is arr2"
   ]
  },
  {
   "cell_type": "markdown",
   "id": "ee30f062",
   "metadata": {},
   "source": [
    "Slicing an array returns a **view** of an array: another look at the same core data:"
   ]
  },
  {
   "cell_type": "code",
   "execution_count": 54,
   "id": "02f57877",
   "metadata": {},
   "outputs": [
    {
     "name": "stdout",
     "output_type": "stream",
     "text": [
      "[ 5000     2 -5555     8    10    12]\n",
      "[-5555     8    10    12]\n"
     ]
    },
    {
     "data": {
      "text/plain": [
       "True"
      ]
     },
     "execution_count": 54,
     "metadata": {},
     "output_type": "execute_result"
    }
   ],
   "source": [
    "# Slice arr1\n",
    "someNums = arr1[2:]\n",
    "print(arr1)\n",
    "print(someNums)\n",
    "\n",
    "# Check if this result shares the same core data as arr1\n",
    "someNums.base is arr1"
   ]
  },
  {
   "cell_type": "markdown",
   "id": "339b3ab5",
   "metadata": {},
   "source": [
    "Changing the sliced values changes the core data!"
   ]
  },
  {
   "cell_type": "code",
   "execution_count": 55,
   "id": "b80eb5f1",
   "metadata": {},
   "outputs": [
    {
     "name": "stdout",
     "output_type": "stream",
     "text": [
      "[ 5000     2 -5555     8    10    12]\n",
      "[-5555     8    10    12]\n"
     ]
    }
   ],
   "source": [
    "# Changing the slice changes the core data\n",
    "someNums[0] = -5555\n",
    "\n",
    "print(arr1)\n",
    "print(someNums)"
   ]
  },
  {
   "cell_type": "markdown",
   "id": "9e23ddd6",
   "metadata": {},
   "source": [
    "However, generally assignments based on calculations made using an array produce a brand new array that is disconnected from the original:"
   ]
  },
  {
   "cell_type": "code",
   "execution_count": 56,
   "id": "47b8dd76",
   "metadata": {},
   "outputs": [
    {
     "name": "stdout",
     "output_type": "stream",
     "text": [
      "[1 2 3]\n",
      "[ 5 10 15]\n"
     ]
    },
    {
     "data": {
      "text/plain": [
       "False"
      ]
     },
     "execution_count": 56,
     "metadata": {},
     "output_type": "execute_result"
    }
   ],
   "source": [
    "arr1 = np.array([1, 2, 3]) # Create an array\n",
    "arr2 = arr1 * 5            # Create another array based on a calculation performed with arr1\n",
    "\n",
    "# Show that arr1 and arr2 are different objects\n",
    "print(arr1)\n",
    "print(arr2)\n",
    "arr1 is arr2"
   ]
  },
  {
   "cell_type": "markdown",
   "id": "2920c842",
   "metadata": {},
   "source": [
    "**Why is it like this?**\n",
    "- Memory efficient, especially when working with large datasets.\n",
    "\n",
    "**Bottom line:**\n",
    "- Be mindful of this if working with large data sets.\n",
    "- If you need a copy, use the `.copy()` method to make one (just like lists).\n",
    "- Use the array attribute `.base` to check if two arrays share the same core data.\n",
    "- Look at documentation to see if certain functions return views or copies."
   ]
  }
 ],
 "metadata": {
  "kernelspec": {
   "display_name": "Python 3 (ipykernel)",
   "language": "python",
   "name": "python3"
  },
  "language_info": {
   "codemirror_mode": {
    "name": "ipython",
    "version": 3
   },
   "file_extension": ".py",
   "mimetype": "text/x-python",
   "name": "python",
   "nbconvert_exporter": "python",
   "pygments_lexer": "ipython3",
   "version": "3.9.12"
  }
 },
 "nbformat": 4,
 "nbformat_minor": 5
}
