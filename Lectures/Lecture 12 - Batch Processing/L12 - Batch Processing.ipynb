{
 "cells": [
  {
   "cell_type": "markdown",
   "id": "5192cf11",
   "metadata": {},
   "source": [
    "# Batch Processing\n",
    "Aidan Hunt, University of Washington\n",
    "\n",
    "***\n",
    "\n",
    "## Learning Objectives\n",
    "After this lesson, students will be able to develop a basic script for:\n",
    "- Identifying files that meet specific criteria in a given directory\n",
    "- Batch processing data files and aggregating the results\n",
    "\n",
    "\n",
    "## Check-in\n",
    "- Homework 5 due Friday\n",
    "- No Homework assigned this week\n",
    "- Homework 4 grading\n",
    "- See final assignment on canvas\n",
    "\n",
    "###  Last Time\n",
    "- `os` and `glob` packages help us work with files\n",
    "\n",
    "### This Time\n",
    "- Using these modules to find files and batch process\n",
    "***"
   ]
  },
  {
   "cell_type": "markdown",
   "id": "d4fdea78",
   "metadata": {},
   "source": [
    "## Framing the Problem\n",
    "\n",
    "**Note**: This lesson refers to the data in `Torque Cell Data.zip`, as well as the diagram `Batch Processing Problem Set-Up.pdf`, both of which are posted on the course website.\n",
    "\n",
    "We have performed a calibration routine on two Futek TFF400 torque cells (see diagram on Canvas):\n",
    "- Cells measure axial torque using strain gauges\n",
    "- To calibrate, fix load cell on one end, attach lever arm (20.85cm long) to other, and hang mass from lever arm\n",
    "- Record voltage output by the cell\n",
    "- Repeat for several masses\n",
    "- From this data, determine the torque input to volts output conversion factor.\n",
    "\n",
    "We have data from these cells organized as follows:\n",
    "`.\\` (current working directory)\\\n",
    "&emsp;`\\Torque Cell Data` (folder that contains all data for all cells)\\\n",
    "&emsp;&emsp;`\\3B` (folder that contains all data for torque cell 3B)\\\n",
    "&emsp;&emsp;&emsp;`.txt files`\\\n",
    "&emsp;&emsp;&emsp;`...`\\\n",
    "&emsp;&emsp;`\\CB`\\ (folder that contains all data for torque cell 3C)\\\n",
    "&emsp;&emsp;&emsp;`.txt files`\\\n",
    "&emsp;&emsp;&emsp;`...`\\\n",
    "\n",
    "The text files are of the format:\\\n",
    "`torqueCell_ID_MMMg.txt`\n",
    "- `ID` is a two character string denoting the load cell ID\n",
    "- `MMM` is a three digit number denoting the mass, in grams, used to calibrate the load cell"
   ]
  },
  {
   "cell_type": "markdown",
   "id": "59244c0f",
   "metadata": {},
   "source": [
    "## Building our Pseudocode Outline\n",
    "\n",
    "First, let's start at the big picture, and consider only **one** torque cell. What would we like to do?\n",
    "- Look for data files that match the format we expect\n",
    "- Get average voltage and applied torque from each file\n",
    "- Produce plot of torque vs voltage for the torque cell\n",
    "- Estimate torque cell calibration as the slope of this line"
   ]
  },
  {
   "cell_type": "code",
   "execution_count": 134,
   "id": "7ec74ae3",
   "metadata": {},
   "outputs": [],
   "source": [
    "# Find potential files\n",
    "\n",
    "# Get average voltage and applied torque in each file\n",
    "\n",
    "# Produce plot"
   ]
  },
  {
   "cell_type": "markdown",
   "id": "43ec354d",
   "metadata": {},
   "source": [
    "Let's build on this:\n",
    "- What tools do we have for working with files? From last lecture, the `os` and `glob` modules might be helpful.\n",
    "- We'll probably want to use `glob` to find files that match a format\n",
    "- To build the path to those potential files, we'll use `os`"
   ]
  },
  {
   "cell_type": "code",
   "execution_count": 135,
   "id": "4e64c9a3",
   "metadata": {},
   "outputs": [],
   "source": [
    "import os, glob # For working with files\n",
    "\n",
    "# Find potential files\n",
    "    # Use os to create file format\n",
    "    # Use glob to find files matching that format\n",
    "\n",
    "# Get average voltage and applied torque in each file\n",
    "\n",
    "# Produce plot"
   ]
  },
  {
   "cell_type": "markdown",
   "id": "6fd339a6",
   "metadata": {},
   "source": [
    "Okay, now what do we want to do when we have our files?\n",
    "- We want to process each file\n",
    "    - Voltage data is stored as .txt data\n",
    "    - The torque is encoded in the file name (applied mass).\n",
    "- For importing numeric data from .txt files, we've used `numpy` in the past."
   ]
  },
  {
   "cell_type": "code",
   "execution_count": 136,
   "id": "dc1ecb25",
   "metadata": {},
   "outputs": [],
   "source": [
    "import os, glob # For working with files\n",
    "import numpy as np # For importing data\n",
    "\n",
    "# Find potential files\n",
    "    # Use os to create file format\n",
    "    # Use glob to find files matching that format\n",
    "\n",
    "# For each file\n",
    "    # Load file using numpy\n",
    "    # Get average voltage from text data\n",
    "    # Get applied torque from file name\n",
    "    \n",
    "# Produce plot"
   ]
  },
  {
   "cell_type": "markdown",
   "id": "236220b0",
   "metadata": {},
   "source": [
    "We probably want to aggregate information from the files (especially if we are trying to plot this later). So let's think about how we want to store the voltages and torques.\n",
    "- Preallocate voltage vector based on the number of files\n",
    "- Preallocate mass vector based on number of files"
   ]
  },
  {
   "cell_type": "code",
   "execution_count": 137,
   "id": "65e101ff",
   "metadata": {},
   "outputs": [],
   "source": [
    "import os, glob # For working with files\n",
    "import numpy as np # For importing data\n",
    "\n",
    "# Find potential files\n",
    "    # Use os to create file format\n",
    "    # Use glob to find files matching that format\n",
    "    \n",
    "# Preallocate storage based on number of files\n",
    "    # Voltages\n",
    "    # Mass\n",
    "\n",
    "# For each file\n",
    "    # Load file using numpy\n",
    "    # Get average voltage from text data\n",
    "    # Get applied mass from file name\n",
    "    \n",
    "# Produce plot"
   ]
  },
  {
   "cell_type": "markdown",
   "id": "701beb58",
   "metadata": {},
   "source": [
    "Okay, now on to plotting\n",
    "- Need to convert mass to torque (use gravity and lever arm)\n",
    "- Need matplotlib to help us plot\n",
    "- Plot torque vs voltage"
   ]
  },
  {
   "cell_type": "code",
   "execution_count": 138,
   "id": "17527110",
   "metadata": {},
   "outputs": [],
   "source": [
    "import os, glob # For working with files\n",
    "import numpy as np # For importing data\n",
    "import matplotlib.pyplot as plt # For plotting data\n",
    "\n",
    "# Find potential files\n",
    "    # Use os to create file format\n",
    "    # Use glob to find files matching that format\n",
    "    \n",
    "# Preallocate storage based on number of files\n",
    "    # Voltages\n",
    "    # Mass\n",
    "\n",
    "# For each file\n",
    "    # Load file using numpy\n",
    "    # Get average voltage from text data\n",
    "    # Get applied mass from file name\n",
    "    \n",
    "# Convert mass to torque\n",
    "g = 9.81      # Accel due to gravity [m/s^2]\n",
    "L = 20.85/100 # Lever arm [m]\n",
    "    \n",
    "# Produce plot\n",
    "    # Create figure\n",
    "    # Plot torque vs voltage\n",
    "    "
   ]
  },
  {
   "cell_type": "markdown",
   "id": "59ec9494",
   "metadata": {},
   "source": [
    "The last step is to estimate the calibration from the data. Once we plot it this will become clear."
   ]
  },
  {
   "cell_type": "code",
   "execution_count": 139,
   "id": "71b15aca",
   "metadata": {},
   "outputs": [],
   "source": [
    "import os, glob # For working with files\n",
    "import numpy as np # For importing data\n",
    "import matplotlib.pyplot as plt # For plotting data\n",
    "\n",
    "# Find potential files\n",
    "    # Use os to create file format\n",
    "    # Use glob to find files matching that format\n",
    "    \n",
    "# Preallocate storage based on number of files\n",
    "    # Voltages\n",
    "    # Mass\n",
    "\n",
    "# For each file\n",
    "    # Load file using numpy\n",
    "    # Get average voltage from text data\n",
    "    # Get applied mass from file name\n",
    "    \n",
    "# Convert mass to torque\n",
    "g = 9.81      # Accel due to gravity [m/s^2]\n",
    "L = 20.85/100 # Lever arm [m]\n",
    "    \n",
    "# Produce plot\n",
    "    # Create figure\n",
    "    # Plot torque vs voltage\n",
    "    \n",
    "# Estimate calibration somehow?"
   ]
  },
  {
   "cell_type": "markdown",
   "id": "6534f3ff",
   "metadata": {},
   "source": [
    "This is a great pseudocode outline to work with, and even if we hadn't made it this far/detailed, we would have still been able to set ourselves up to get started."
   ]
  },
  {
   "cell_type": "markdown",
   "id": "c1c0514b",
   "metadata": {},
   "source": [
    "## Building up the solution\n",
    "\n",
    "Let's start by building up the path to our potential files for torque cell 3B.\n",
    "\n",
    "For now, let's just hardcode the path using, `os` to get the right separator.\n",
    "Then, use glob to get a list of the files that meet this criteria:"
   ]
  },
  {
   "cell_type": "code",
   "execution_count": 140,
   "id": "6cb94cd4",
   "metadata": {},
   "outputs": [],
   "source": [
    "import os, glob # For working with files\n",
    "import numpy as np # For importing data\n",
    "import matplotlib.pyplot as plt # For plotting data\n",
    "\n",
    "# Find potential files\n",
    "filePath = os.path.join('.', 'Torque Cell Data', '3B', 'torqueCell_3B_*g.txt')\n",
    "fileList = glob.glob(filePath)\n",
    "\n",
    "# Preallocate storage based on number of files\n",
    "    # Voltages\n",
    "    # Mass\n",
    "\n",
    "# For each file\n",
    "    # Load file using numpy\n",
    "    # Get average voltage from text data\n",
    "    # Get applied mass from file name\n",
    "    \n",
    "# Convert mass to torque\n",
    "g = 9.81      # Accel due to gravity [m/s^2]\n",
    "L = 20.85/100 # Lever arm [m]\n",
    "    \n",
    "# Produce plot\n",
    "    # Create figure\n",
    "    # Plot torque vs voltage\n",
    "    \n",
    "# Estimate calibration somehow?"
   ]
  },
  {
   "cell_type": "code",
   "execution_count": 141,
   "id": "ab15166e",
   "metadata": {},
   "outputs": [
    {
     "data": {
      "text/plain": [
       "'.\\\\Torque Cell Data\\\\3B\\\\torqueCell_3B_*g.txt'"
      ]
     },
     "execution_count": 141,
     "metadata": {},
     "output_type": "execute_result"
    }
   ],
   "source": [
    "filePath"
   ]
  },
  {
   "cell_type": "code",
   "execution_count": 142,
   "id": "b7524d17",
   "metadata": {},
   "outputs": [
    {
     "data": {
      "text/plain": [
       "['.\\\\Torque Cell Data\\\\3B\\\\torqueCell_3B_010g.txt',\n",
       " '.\\\\Torque Cell Data\\\\3B\\\\torqueCell_3B_020g.txt',\n",
       " '.\\\\Torque Cell Data\\\\3B\\\\torqueCell_3B_050g.txt',\n",
       " '.\\\\Torque Cell Data\\\\3B\\\\torqueCell_3B_100g.txt',\n",
       " '.\\\\Torque Cell Data\\\\3B\\\\torqueCell_3B_200g.txt',\n",
       " '.\\\\Torque Cell Data\\\\3B\\\\torqueCell_3B_500g.txt']"
      ]
     },
     "execution_count": 142,
     "metadata": {},
     "output_type": "execute_result"
    }
   ],
   "source": [
    "fileList"
   ]
  },
  {
   "cell_type": "markdown",
   "id": "fb089be2",
   "metadata": {},
   "source": [
    "Now that we know how many files we're working with, let's preallocate our storage using `numpy`"
   ]
  },
  {
   "cell_type": "code",
   "execution_count": 143,
   "id": "eed3f8e0",
   "metadata": {},
   "outputs": [],
   "source": [
    "import os, glob # For working with files\n",
    "import numpy as np # For importing data\n",
    "import matplotlib.pyplot as plt # For plotting data\n",
    "\n",
    "# Find potential files\n",
    "filePath = os.path.join('.', 'Torque Cell Data', '3B', 'torqueCell_3B_*g.txt')\n",
    "fileList = glob.glob(filePath)\n",
    "\n",
    "# Preallocate storage based on number of files\n",
    "voltage = np.zeros(len(fileList))\n",
    "mass = np.zeros(len(fileList))\n",
    "\n",
    "# For each file\n",
    "    # Load file using numpy\n",
    "    # Get average voltage from text data\n",
    "    # Get applied mass from file name\n",
    "    \n",
    "# Convert mass to torque\n",
    "g = 9.81      # Accel due to gravity [m/s^2]\n",
    "L = 20.85/100 # Lever arm [m]\n",
    "    \n",
    "# Produce plot\n",
    "    # Create figure\n",
    "    # Plot torque vs voltage\n",
    "    \n",
    "# Estimate calibration somehow?"
   ]
  },
  {
   "cell_type": "code",
   "execution_count": 144,
   "id": "ede898f5",
   "metadata": {},
   "outputs": [
    {
     "data": {
      "text/plain": [
       "array([0., 0., 0., 0., 0., 0.])"
      ]
     },
     "execution_count": 144,
     "metadata": {},
     "output_type": "execute_result"
    }
   ],
   "source": [
    "voltage"
   ]
  },
  {
   "cell_type": "code",
   "execution_count": 145,
   "id": "7983afde",
   "metadata": {},
   "outputs": [
    {
     "data": {
      "text/plain": [
       "array([0., 0., 0., 0., 0., 0.])"
      ]
     },
     "execution_count": 145,
     "metadata": {},
     "output_type": "execute_result"
    }
   ],
   "source": [
    "mass"
   ]
  },
  {
   "cell_type": "markdown",
   "id": "c77e46b8",
   "metadata": {},
   "source": [
    "Okay, now for our core file processing loop:\n",
    "- We want to do something **for** each file: use a for loop!\n",
    "- We're filling in some arrays, so we want our for loop to have an index\n",
    "    - `for i in range(len(fileList))`\n",
    "    - `for i, currFile in enumerate(fileList)` (more readable)\n",
    "- In the loop, we want to use numpy to load the data\n",
    "    - The voltage is the average of the data in the file -- easy."
   ]
  },
  {
   "cell_type": "code",
   "execution_count": 146,
   "id": "73156b15",
   "metadata": {},
   "outputs": [],
   "source": [
    "import os, glob # For working with files\n",
    "import numpy as np # For importing data\n",
    "import matplotlib.pyplot as plt # For plotting data\n",
    "\n",
    "# Find potential files\n",
    "filePath = os.path.join('.', 'Torque Cell Data', '3B', 'torqueCell_3B_*g.txt')\n",
    "fileList = glob.glob(filePath)\n",
    "\n",
    "# Preallocate storage based on number of files\n",
    "voltage = np.zeros(len(fileList))\n",
    "mass = np.zeros(len(fileList))\n",
    "\n",
    "for i, currFile in enumerate(fileList): # For each file\n",
    "    # Load file using numpy\n",
    "    currData = np.loadtxt(currFile)\n",
    "    \n",
    "    # Get average voltage from text data\n",
    "    voltage[i] = np.mean(currData)\n",
    "    \n",
    "    # Get applied mass from file name\n",
    "    \n",
    "# Convert mass to torque\n",
    "g = 9.81      # Accel due to gravity [m/s^2]\n",
    "L = 20.85/100 # Lever arm [m]\n",
    "    \n",
    "# Produce plot\n",
    "    # Create figure\n",
    "    # Plot torque vs voltage\n",
    "    \n",
    "# Estimate calibration somehow?"
   ]
  },
  {
   "cell_type": "markdown",
   "id": "c944d6ea",
   "metadata": {},
   "source": [
    "Now what about the mass? Let's consider what we know about the file name format:\n",
    "- The mass is represented by 3 digits.\n",
    "- These digits are always followed by `g.txt`\n",
    "- So, let's use this information to extract the mass value and convert it to a number we can use\n",
    "- Let's use print statements to see what is happening"
   ]
  },
  {
   "cell_type": "code",
   "execution_count": 147,
   "id": "9fc0a400",
   "metadata": {},
   "outputs": [
    {
     "name": "stdout",
     "output_type": "stream",
     "text": [
      ".\\Torque Cell Data\\3B\\torqueCell_3B_010\n",
      "10.0\n",
      ".\\Torque Cell Data\\3B\\torqueCell_3B_020\n",
      "20.0\n",
      ".\\Torque Cell Data\\3B\\torqueCell_3B_050\n",
      "50.0\n",
      ".\\Torque Cell Data\\3B\\torqueCell_3B_100\n",
      "100.0\n",
      ".\\Torque Cell Data\\3B\\torqueCell_3B_200\n",
      "200.0\n",
      ".\\Torque Cell Data\\3B\\torqueCell_3B_500\n",
      "500.0\n"
     ]
    }
   ],
   "source": [
    "import os, glob # For working with files\n",
    "import numpy as np # For importing data\n",
    "import matplotlib.pyplot as plt # For plotting data\n",
    "\n",
    "# Find potential files\n",
    "filePath = os.path.join('.', 'Torque Cell Data', '3B', 'torqueCell_3B_*g.txt')\n",
    "fileList = glob.glob(filePath)\n",
    "\n",
    "# Preallocate storage based on number of files\n",
    "voltage = np.zeros(len(fileList))\n",
    "mass = np.zeros(len(fileList))\n",
    "\n",
    "for i, currFile in enumerate(fileList): # For each file\n",
    "    # Load file using numpy\n",
    "    currData = np.loadtxt(currFile)\n",
    "    \n",
    "    # Get average voltage from text data\n",
    "    voltage[i] = np.mean(currData)\n",
    "    \n",
    "    # Get applied mass from file name\n",
    "    currFile = currFile.replace('g.txt', '') # Crop out the g and extension\n",
    "    print(currFile)\n",
    "    currMass = float(currFile[-3:]) # Index last three characters and convert to float\n",
    "    print(currMass)\n",
    "    mass[i] = currMass\n",
    "    \n",
    "# Convert mass to torque\n",
    "g = 9.81      # Accel due to gravity [m/s^2]\n",
    "L = 20.85/100 # Lever arm [m]\n",
    "\n",
    "# Produce plot\n",
    "    # Create figure\n",
    "    # Plot torque vs voltage\n",
    "    \n",
    "# Estimate calibration somehow?"
   ]
  },
  {
   "cell_type": "markdown",
   "id": "a57641ab",
   "metadata": {},
   "source": [
    "Great, now lets convert our mass to torque and plot!\n",
    "- Torque = Force x Distance\n",
    "- Force = mass x gravity"
   ]
  },
  {
   "cell_type": "code",
   "execution_count": 148,
   "id": "69b8e241",
   "metadata": {},
   "outputs": [
    {
     "data": {
      "text/plain": [
       "Text(0, 0.5, 'Torque [N-m]')"
      ]
     },
     "execution_count": 148,
     "metadata": {},
     "output_type": "execute_result"
    },
    {
     "data": {
      "image/png": "[encoded data removed]",
      "text/plain": [
       "<Figure size 640x480 with 1 Axes>"
      ]
     },
     "metadata": {},
     "output_type": "display_data"
    }
   ],
   "source": [
    "import os, glob # For working with files\n",
    "import numpy as np # For importing data\n",
    "import matplotlib.pyplot as plt # For plotting data\n",
    "\n",
    "# Find potential files\n",
    "filePath = os.path.join('.', 'Torque Cell Data', '3B', 'torqueCell_3B_*g.txt')\n",
    "fileList = glob.glob(filePath)\n",
    "\n",
    "# Preallocate storage based on number of files\n",
    "voltage = np.zeros(len(fileList))\n",
    "mass = np.zeros(len(fileList))\n",
    "\n",
    "for i, currFile in enumerate(fileList): # For each file\n",
    "    # Load file using numpy\n",
    "    currData = np.loadtxt(currFile)\n",
    "    \n",
    "    # Get average voltage from text data\n",
    "    voltage[i] = np.mean(currData)\n",
    "    \n",
    "    # Get applied mass from file name\n",
    "    currFile = currFile.replace('g.txt', '') # Crop out the g and extension\n",
    "    # print(currFile)\n",
    "    currMass = float(currFile[-3:]) # Index last three characters and convert to float\n",
    "    # print(currMass)\n",
    "    mass[i] = currMass\n",
    "    \n",
    "# Convert mass to torque\n",
    "g = 9.81      # Accel due to gravity [m/s^2]\n",
    "L = 20.85/100 # Lever arm [m]\n",
    "mass = mass / 1000 # Convert to kg\n",
    "torque = mass * g * L\n",
    "\n",
    "# Produce plot\n",
    "plt.figure() # Create figure\n",
    "plt.scatter(voltage, torque) # Plot data\n",
    "plt.grid()\n",
    "plt.xlabel('Voltage [V]')\n",
    "plt.ylabel('Torque [N-m]')\n",
    "    \n",
    "# Estimate calibration somehow?"
   ]
  },
  {
   "cell_type": "markdown",
   "id": "7ce8a850",
   "metadata": {},
   "source": [
    "Our last step is to estimate the calibration somehow.\n",
    "- The torque cell calibration is a quantity that converts volts to torque\n",
    "- That's the same as the slope of this line, which has units of Torque per Volt!\n",
    "- So, let's use a line fitting tool in NumPy to fit the line and plot!"
   ]
  },
  {
   "cell_type": "code",
   "execution_count": 149,
   "id": "40e5b72c",
   "metadata": {},
   "outputs": [
    {
     "name": "stdout",
     "output_type": "stream",
     "text": [
      "[0.29694509 0.00499928]\n"
     ]
    },
    {
     "data": {
      "text/plain": [
       "Text(0, 0.5, 'Torque [N-m]')"
      ]
     },
     "execution_count": 149,
     "metadata": {},
     "output_type": "execute_result"
    },
    {
     "data": {
      "image/png": "[encoded data removed]",
      "text/plain": [
       "<Figure size 640x480 with 1 Axes>"
      ]
     },
     "metadata": {},
     "output_type": "display_data"
    }
   ],
   "source": [
    "import os, glob # For working with files\n",
    "import numpy as np # For importing data\n",
    "import matplotlib.pyplot as plt # For plotting data\n",
    "\n",
    "# Find potential files\n",
    "filePath = os.path.join('.', 'Torque Cell Data', '3B', 'torqueCell_3B_*g.txt')\n",
    "fileList = glob.glob(filePath)\n",
    "\n",
    "# Preallocate storage based on number of files\n",
    "voltage = np.zeros(len(fileList))\n",
    "mass = np.zeros(len(fileList))\n",
    "\n",
    "for i, currFile in enumerate(fileList): # For each file\n",
    "    # Load file using numpy\n",
    "    currData = np.loadtxt(currFile)\n",
    "    \n",
    "    # Get average voltage from text data\n",
    "    voltage[i] = np.mean(currData)\n",
    "    \n",
    "    # Get applied mass from file name\n",
    "    currFile = currFile.replace('g.txt', '') # Crop out the g and extension\n",
    "    # print(currFile)\n",
    "    currMass = float(currFile[-3:]) # Index last three characters and convert to float\n",
    "    # print(currMass)\n",
    "    mass[i] = currMass\n",
    "    \n",
    "# Convert mass to torque\n",
    "g = 9.81      # Accel due to gravity [m/s^2]\n",
    "L = 20.85/100 # Lever arm [m]\n",
    "mass = mass / 1000 # Convert to kg\n",
    "torque = mass * g * L\n",
    "\n",
    "# Get line of best fit using polyfit\n",
    "polyCoeff = np.polyfit(voltage, torque, deg=1) # Use first degree fit (line)\n",
    "print(polyCoeff)\n",
    "\n",
    "# Evaluate that polynomial at the voltages of interest to see how well it fits\n",
    "fitTorque = np.polyval(polyCoeff, voltage)\n",
    "\n",
    "# Produce plot\n",
    "plt.figure() # Create figure\n",
    "plt.scatter(voltage, torque) # Plot raw data\n",
    "plt.plot(voltage, fitTorque, '--k') # Plot line of best fit\n",
    "plt.grid()\n",
    "plt.xlabel('Voltage [V]')\n",
    "plt.ylabel('Torque [N-m]')"
   ]
  },
  {
   "cell_type": "markdown",
   "id": "d7241fdb",
   "metadata": {},
   "source": [
    "## Scalability\n",
    "\n",
    "Now let's consider the case in which we want to perform this procedure for more than one load cell. What changes are needed?\n",
    "- We hardcoded the file path before, but this changes depending on the load cell of interest"
   ]
  },
  {
   "cell_type": "markdown",
   "id": "95b3ed64",
   "metadata": {},
   "source": [
    "### Upgrade to work for a list of load cells\n",
    "Create an outer for loop that loops over cell IDs.\n",
    "- Construct the fileformat based on the current cell ID.\n",
    "- Move things that don't depend on the current cell (e.g., gravity, lever arm) outside of all loops\n",
    "- Create new variable that stores the calibration\n",
    "- Switch plotting code to plot both load cells on same figure"
   ]
  },
  {
   "cell_type": "code",
   "execution_count": 150,
   "id": "01c76369",
   "metadata": {},
   "outputs": [
    {
     "name": "stdout",
     "output_type": "stream",
     "text": [
      ".\\Torque Cell Data\\3B\\torqueCell_3B_*g.txt\n",
      ".\\Torque Cell Data\\3C\\torqueCell_3C_*g.txt\n"
     ]
    },
    {
     "data": {
      "text/plain": [
       "<matplotlib.legend.Legend at 0x24e265120a0>"
      ]
     },
     "execution_count": 150,
     "metadata": {},
     "output_type": "execute_result"
    },
    {
     "data": {
      "image/png": "[encoded data removed]",
      "text/plain": [
       "<Figure size 640x480 with 1 Axes>"
      ]
     },
     "metadata": {},
     "output_type": "display_data"
    }
   ],
   "source": [
    "import os, glob # For working with files\n",
    "import numpy as np # For importing data\n",
    "import matplotlib.pyplot as plt # For plotting data\n",
    "\n",
    "# Constants (don't depend on current torque cell)\n",
    "g = 9.81      # Accel due to gravity [m/s^2]\n",
    "L = 20.85/100 # Lever arm [m]\n",
    "\n",
    "# Outer loop: over cell IDs\n",
    "cellIDs = ['3B', '3C']\n",
    "calSlopes = np.zeros(len(cellIDs))\n",
    "\n",
    "# Create shared figure\n",
    "plt.figure() # Create figure\n",
    "\n",
    "for cellIndex, currCell in enumerate(cellIDs):\n",
    "    # Find potential files (build path based on cell ID)\n",
    "    filePath = os.path.join('.', 'Torque Cell Data', currCell, 'torqueCell_' + currCell + '_*g.txt')\n",
    "    fileList = glob.glob(filePath)\n",
    "    print(filePath)\n",
    "    \n",
    "    # Preallocate storage based on number of files\n",
    "    voltage = np.zeros(len(fileList))\n",
    "    mass = np.zeros(len(fileList))\n",
    "\n",
    "    for i, currFile in enumerate(fileList): # For each file\n",
    "        # Load file using numpy\n",
    "        currData = np.loadtxt(currFile)\n",
    "\n",
    "        # Get average voltage from text data\n",
    "        voltage[i] = np.mean(currData)\n",
    "\n",
    "        # Get applied mass from file name\n",
    "        currFile = currFile.replace('g.txt', '') # Crop out the g and extension\n",
    "        # print(currFile)\n",
    "        currMass = float(currFile[-3:]) # Index last three characters and convert to float\n",
    "        # print(currMass)\n",
    "        mass[i] = currMass\n",
    "\n",
    "    # Convert mass to torque\n",
    "    mass = mass / 1000 # Convert to kg\n",
    "    torque = mass * g * L\n",
    "\n",
    "    # Get line of best fit using polyfit\n",
    "    polyCoeff = np.polyfit(voltage, torque, deg=1) # Use first degree fit (line)\n",
    "    calSlopes[cellIndex] = polyCoeff[0]\n",
    "\n",
    "    # Evaluate that polynomial at the voltages of interest to see how well it fits\n",
    "    fitTorque = np.polyval(polyCoeff, voltage)\n",
    "\n",
    "    # Produce plot\n",
    "    plt.scatter(voltage, torque, label=currCell) # Plot raw data\n",
    "    plt.plot(voltage, fitTorque, '--k') # Plot line of best fit\n",
    "\n",
    "plt.grid()\n",
    "plt.xlabel('Voltage [V]')\n",
    "plt.ylabel('Torque [N-m]')\n",
    "plt.legend()"
   ]
  },
  {
   "cell_type": "code",
   "execution_count": 151,
   "id": "f74b830f",
   "metadata": {},
   "outputs": [
    {
     "name": "stdout",
     "output_type": "stream",
     "text": [
      "[0.29694509 0.29490938]\n"
     ]
    }
   ],
   "source": [
    "# Show calibration slopes\n",
    "print(calSlopes)"
   ]
  },
  {
   "cell_type": "markdown",
   "id": "72d2e220",
   "metadata": {},
   "source": [
    "### Define a function\n",
    "Let's wrap this in a function so that we can use it for any specified torque cell IDs! This further separates the parts of our code we *expect* to change (the torque cell IDs) from the parts we *don't expect* to change (our core processing)."
   ]
  },
  {
   "cell_type": "code",
   "execution_count": 152,
   "id": "d925a097",
   "metadata": {},
   "outputs": [],
   "source": [
    "import os, glob # For working with files\n",
    "import numpy as np # For importing data\n",
    "import matplotlib.pyplot as plt # For plotting data\n",
    "\n",
    "def findCalibration(cellID):\n",
    "    '''\n",
    "    Given a load cell ID as a string (e.g., '3B'), looks for data files in the\n",
    "    'Torque Cell Data' folder of the current directory. Computes and returns\n",
    "    the voltage to torque calibration slope from the data using a 1st degree least\n",
    "    squares fit. Additionally, a plot of torque vs voltage is generated, and \n",
    "    shows a line with the calibration slope.\n",
    "    '''\n",
    "    # Constants (don't depend on current torque cell)\n",
    "    g = 9.81      # Accel due to gravity [m/s^2]\n",
    "    L = 20.85/100 # Lever arm [m]\n",
    "\n",
    "    # Outer loop: over cell IDs\n",
    "    calSlopes = np.zeros(len(cellIDs))\n",
    "\n",
    "    # Create shared figure\n",
    "    plt.figure() # Create figure\n",
    "\n",
    "    for cellIndex, currCell in enumerate(cellIDs):\n",
    "        # Find potential files (build path based on cell ID)\n",
    "        filePath = os.path.join('.', 'Torque Cell Data', currCell, 'torqueCell_' + currCell + '_*g.txt')\n",
    "        fileList = glob.glob(filePath)\n",
    "        print(filePath)\n",
    "\n",
    "        # Preallocate storage based on number of files\n",
    "        voltage = np.zeros(len(fileList))\n",
    "        mass = np.zeros(len(fileList))\n",
    "\n",
    "        for i, currFile in enumerate(fileList): # For each file\n",
    "            # Load file using numpy\n",
    "            currData = np.loadtxt(currFile)\n",
    "\n",
    "            # Get average voltage from text data\n",
    "            voltage[i] = np.mean(currData)\n",
    "\n",
    "            # Get applied mass from file name\n",
    "            currFile = currFile.replace('g.txt', '') # Crop out the g and extension\n",
    "            # print(currFile)\n",
    "            currMass = float(currFile[-3:]) # Index last three characters and convert to float\n",
    "            # print(currMass)\n",
    "            mass[i] = currMass\n",
    "\n",
    "        # Convert mass to torque\n",
    "        mass = mass / 1000 # Convert to kg\n",
    "        torque = mass * g * L\n",
    "\n",
    "        # Get line of best fit using polyfit\n",
    "        polyCoeff = np.polyfit(voltage, torque, deg=1) # Use first degree fit (line)\n",
    "        calSlopes[cellIndex] = polyCoeff[0]\n",
    "\n",
    "        # Evaluate that polynomial at the voltages of interest to see how well it fits\n",
    "        fitTorque = np.polyval(polyCoeff, voltage)\n",
    "\n",
    "        # Produce plot\n",
    "        plt.scatter(voltage, torque, label=currCell) # Plot raw data\n",
    "        plt.plot(voltage, fitTorque, '--k') # Plot line of best fit\n",
    "\n",
    "    # Format figure\n",
    "    plt.grid()\n",
    "    plt.xlabel('Voltage [V]')\n",
    "    plt.ylabel('Torque [N-m]')\n",
    "    plt.legend()\n",
    "    \n",
    "    return calSlopes"
   ]
  },
  {
   "cell_type": "code",
   "execution_count": 153,
   "id": "ee12a42f",
   "metadata": {},
   "outputs": [
    {
     "name": "stdout",
     "output_type": "stream",
     "text": [
      ".\\Torque Cell Data\\3B\\torqueCell_3B_*g.txt\n",
      ".\\Torque Cell Data\\3C\\torqueCell_3C_*g.txt\n"
     ]
    },
    {
     "data": {
      "text/plain": [
       "array([0.29694509, 0.29490938])"
      ]
     },
     "execution_count": 153,
     "metadata": {},
     "output_type": "execute_result"
    },
    {
     "data": {
      "image/png": "[encoded data removed]",
      "text/plain": [
       "<Figure size 640x480 with 1 Axes>"
      ]
     },
     "metadata": {},
     "output_type": "display_data"
    }
   ],
   "source": [
    "findCalibration(['3B', '3C'])"
   ]
  }
 ],
 "metadata": {
  "kernelspec": {
   "display_name": "Python 3 (ipykernel)",
   "language": "python",
   "name": "python3"
  },
  "language_info": {
   "codemirror_mode": {
    "name": "ipython",
    "version": 3
   },
   "file_extension": ".py",
   "mimetype": "text/x-python",
   "name": "python",
   "nbconvert_exporter": "python",
   "pygments_lexer": "ipython3",
   "version": "3.9.12"
  }
 },
 "nbformat": 4,
 "nbformat_minor": 5
}
